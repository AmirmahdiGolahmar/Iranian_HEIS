{
 "cells": [
  {
   "cell_type": "code",
   "execution_count": 6,
   "metadata": {},
   "outputs": [],
   "source": [
    "# import all libraries\n",
    "import numpy as np\n",
    "import pandas as pd\n",
    "import os"
   ]
  },
  {
   "cell_type": "code",
   "execution_count": 8,
   "metadata": {},
   "outputs": [
    {
     "data": {
      "text/plain": [
       "True"
      ]
     },
     "execution_count": 8,
     "metadata": {},
     "output_type": "execute_result"
    }
   ],
   "source": [
    "os.getcwd()\n",
    "os.path.exists(\"/Users/zeinab/Downloads/Project1_data\")"
   ]
  },
  {
   "cell_type": "code",
   "execution_count": 51,
   "metadata": {},
   "outputs": [],
   "source": [
    "#all datasets\n",
    "all_files_name = [\"R98.xlsx\", \"R99.xlsx\", \"R1400.xlsx\", \"R1401.xlsx\", \"U98.xlsx\", \"U99.xlsx\", \"U1400.xlsx\", \"U1401.xlsx\"]\n",
    "path_data = \"/Users/zeinab/Downloads/Project1_data/\"\n",
    "Year = \"R98\""
   ]
  },
  {
   "cell_type": "code",
   "execution_count": 60,
   "metadata": {},
   "outputs": [],
   "source": [
    "#Read all sheets for a Year\n",
    "data = pd.read_excel(path_data + all_files_name[0], Year + 'Data')\n",
    "P1 = pd.read_excel(path_data + all_files_name[0], Year + 'P1')\n",
    "P2 = pd.read_excel(path_data + all_files_name[0], Year + 'P2')\n",
    "P3S01 = pd.read_excel(path_data + all_files_name[0], Year + 'P3S01')\n",
    "P3S02 = pd.read_excel(path_data + all_files_name[0], Year + 'P3S02')\n",
    "P3S03 = pd.read_excel(path_data + all_files_name[0], Year + 'P3S03')\n",
    "P3S04 = pd.read_excel(path_data + all_files_name[0], Year + 'P3S04')\n",
    "P3S05 = pd.read_excel(path_data + all_files_name[0], Year + 'P3S05')\n",
    "P3S06 = pd.read_excel(path_data + all_files_name[0], Year + 'P3S06')\n",
    "P3S07 = pd.read_excel(path_data + all_files_name[0], Year + 'P3S07')\n",
    "P3S08 = pd.read_excel(path_data + all_files_name[0], Year + 'P3S08')\n",
    "P3S09 = pd.read_excel(path_data + all_files_name[0], Year + 'P3S09')\n",
    "P3S11 = pd.read_excel(path_data + all_files_name[0], Year + 'P3S11')\n",
    "P3S12 = pd.read_excel(path_data + all_files_name[0], Year + 'P3S12')\n",
    "P3S13 = pd.read_excel(path_data + all_files_name[0], Year + 'P3S13')\n",
    "P3S14 = pd.read_excel(path_data + all_files_name[0], Year + 'P3S14')\n",
    "P4S01 = pd.read_excel(path_data + all_files_name[0], Year + 'P4S01')\n",
    "P4S02 = pd.read_excel(path_data + all_files_name[0], Year + 'P4S02')\n",
    "P4S03 = pd.read_excel(path_data + all_files_name[0], Year + 'P4S03')\n",
    "P4S04 = pd.read_excel(path_data + all_files_name[0], Year + 'P4S04')\n"
   ]
  },
  {
   "cell_type": "code",
   "execution_count": null,
   "metadata": {},
   "outputs": [],
   "source": []
  },
  {
   "cell_type": "code",
   "execution_count": null,
   "metadata": {},
   "outputs": [],
   "source": []
  },
  {
   "cell_type": "code",
   "execution_count": null,
   "metadata": {},
   "outputs": [],
   "source": []
  },
  {
   "cell_type": "code",
   "execution_count": null,
   "metadata": {},
   "outputs": [],
   "source": []
  }
 ],
 "metadata": {
  "kernelspec": {
   "display_name": "venv",
   "language": "python",
   "name": "python3"
  },
  "language_info": {
   "codemirror_mode": {
    "name": "ipython",
    "version": 3
   },
   "file_extension": ".py",
   "mimetype": "text/x-python",
   "name": "python",
   "nbconvert_exporter": "python",
   "pygments_lexer": "ipython3",
   "version": "3.9.6"
  },
  "orig_nbformat": 4,
  "vscode": {
   "interpreter": {
    "hash": "9400284a0ef70becef75eeb1c015f314df36300ea42313f71f668894b3f3147e"
   }
  }
 },
 "nbformat": 4,
 "nbformat_minor": 2
}
