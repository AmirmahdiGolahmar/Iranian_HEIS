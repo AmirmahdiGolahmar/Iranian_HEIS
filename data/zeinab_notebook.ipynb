{
 "cells": [
  {
   "cell_type": "code",
   "execution_count": 6,
   "metadata": {},
   "outputs": [],
   "source": [
    "# import all libraries\n",
    "import numpy as np\n",
    "import pandas as pd\n",
    "import os"
   ]
  },
  {
   "cell_type": "code",
   "execution_count": 8,
   "metadata": {},
   "outputs": [
    {
     "data": {
      "text/plain": [
       "True"
      ]
     },
     "execution_count": 8,
     "metadata": {},
     "output_type": "execute_result"
    }
   ],
   "source": [
    "os.getcwd()\n",
    "os.path.exists(\"/Users/zeinab/Downloads/Project1_data\")"
   ]
  },
  {
   "cell_type": "code",
   "execution_count": 51,
   "metadata": {},
   "outputs": [],
   "source": [
    "#all datasets\n",
    "all_files_name = [\"R98.xlsx\", \"R99.xlsx\", \"R1400.xlsx\", \"R1401.xlsx\", \"U98.xlsx\", \"U99.xlsx\", \"U1400.xlsx\", \"U1401.xlsx\"]\n",
    "path_data = \"/Users/zeinab/Downloads/Project1_data/\"\n",
    "Year = \"R98\""
   ]
  },
  {
   "cell_type": "code",
   "execution_count": 60,
   "metadata": {},
   "outputs": [],
   "source": [
    "#Read all sheets for a Year\n",
    "data = pd.read_excel(path_data + all_files_name[0], Year + 'Data')\n",
    "P1 = pd.read_excel(path_data + all_files_name[0], Year + 'P1')\n",
    "P2 = pd.read_excel(path_data + all_files_name[0], Year + 'P2')\n",
    "P3S01 = pd.read_excel(path_data + all_files_name[0], Year + 'P3S01')\n",
    "P3S02 = pd.read_excel(path_data + all_files_name[0], Year + 'P3S02')\n",
    "P3S03 = pd.read_excel(path_data + all_files_name[0], Year + 'P3S03')\n",
    "P3S04 = pd.read_excel(path_data + all_files_name[0], Year + 'P3S04')\n",
    "P3S05 = pd.read_excel(path_data + all_files_name[0], Year + 'P3S05')\n",
    "P3S06 = pd.read_excel(path_data + all_files_name[0], Year + 'P3S06')\n",
    "P3S07 = pd.read_excel(path_data + all_files_name[0], Year + 'P3S07')\n",
    "P3S08 = pd.read_excel(path_data + all_files_name[0], Year + 'P3S08')\n",
    "P3S09 = pd.read_excel(path_data + all_files_name[0], Year + 'P3S09')\n",
    "P3S11 = pd.read_excel(path_data + all_files_name[0], Year + 'P3S11')\n",
    "P3S12 = pd.read_excel(path_data + all_files_name[0], Year + 'P3S12')\n",
    "P3S13 = pd.read_excel(path_data + all_files_name[0], Year + 'P3S13')\n",
    "P3S14 = pd.read_excel(path_data + all_files_name[0], Year + 'P3S14')\n",
    "P4S01 = pd.read_excel(path_data + all_files_name[0], Year + 'P4S01')\n",
    "P4S02 = pd.read_excel(path_data + all_files_name[0], Year + 'P4S02')\n",
    "P4S03 = pd.read_excel(path_data + all_files_name[0], Year + 'P4S03')\n",
    "P4S04 = pd.read_excel(path_data + all_files_name[0], Year + 'P4S04')\n"
   ]
  },
  {
   "cell_type": "code",
   "execution_count": 62,
   "metadata": {},
   "outputs": [
    {
     "name": "stdout",
     "output_type": "stream",
     "text": [
      "<class 'pandas.core.frame.DataFrame'>\n",
      "RangeIndex: 18430 entries, 0 to 18429\n",
      "Data columns (total 17 columns):\n",
      " #   Column          Non-Null Count  Dtype  \n",
      "---  ------          --------------  -----  \n",
      " 0   Address         18430 non-null  int64  \n",
      " 1   MahMorajeh      18430 non-null  int64  \n",
      " 2   Fasl            18430 non-null  int64  \n",
      " 3   weight          18430 non-null  float64\n",
      " 4   khanevartype    18430 non-null  int64  \n",
      " 5   Takmil          18430 non-null  int64  \n",
      " 6   TakmilDescA     0 non-null      float64\n",
      " 7   TakmilDescB     3480 non-null   float64\n",
      " 8   TakmilDescC     25 non-null     object \n",
      " 9   Jaygozin        3480 non-null   float64\n",
      " 10  JaygozinDescA   0 non-null      float64\n",
      " 11  JaygozinDescB   0 non-null      float64\n",
      " 12  JaygozinDescC   0 non-null      float64\n",
      " 13  BlkAbdJaygozin  3480 non-null   float64\n",
      " 14  RadifJaygozin   3480 non-null   float64\n",
      " 15  province        18430 non-null  object \n",
      " 16  town            18430 non-null  int64  \n",
      "dtypes: float64(9), int64(6), object(2)\n",
      "memory usage: 2.4+ MB\n"
     ]
    }
   ],
   "source": [
    "data.info()"
   ]
  },
  {
   "attachments": {},
   "cell_type": "markdown",
   "metadata": {},
   "source": [
    "# Question 1"
   ]
  },
  {
   "cell_type": "code",
   "execution_count": 63,
   "metadata": {},
   "outputs": [
    {
     "name": "stdout",
     "output_type": "stream",
     "text": [
      "<class 'pandas.core.frame.DataFrame'>\n",
      "RangeIndex: 64296 entries, 0 to 64295\n",
      "Data columns (total 10 columns):\n",
      " #   Column          Non-Null Count  Dtype \n",
      "---  ------          --------------  ----- \n",
      " 0   Address         64296 non-null  int64 \n",
      " 1   member          64296 non-null  int64 \n",
      " 2   relation        64296 non-null  object\n",
      " 3   gender          64296 non-null  object\n",
      " 4   age             64296 non-null  int64 \n",
      " 5   literacy        58057 non-null  object\n",
      " 6   studying        45177 non-null  object\n",
      " 7   degree          45177 non-null  object\n",
      " 8   occupationalst  53608 non-null  object\n",
      " 9   maritalst       53609 non-null  object\n",
      "dtypes: int64(3), object(7)\n",
      "memory usage: 4.9+ MB\n"
     ]
    }
   ],
   "source": [
    "P1.info()"
   ]
  },
  {
   "cell_type": "code",
   "execution_count": null,
   "metadata": {},
   "outputs": [],
   "source": [
    "P1[[\"degree\",\"age\"]]\n",
    "# len(P1_test.literacy[ P1_test.literacy.isna()])"
   ]
  },
  {
   "cell_type": "code",
   "execution_count": 130,
   "metadata": {},
   "outputs": [],
   "source": [
    "P1_test = P1[[\"Address\", \"relation\", \"age\", \"degree\", \"occupationalst\"]]"
   ]
  },
  {
   "cell_type": "code",
   "execution_count": null,
   "metadata": {},
   "outputs": [],
   "source": [
    "P1_test.literacy.head(40)"
   ]
  },
  {
   "cell_type": "code",
   "execution_count": 133,
   "metadata": {},
   "outputs": [
    {
     "data": {
      "text/plain": [
       "(64296, 5)"
      ]
     },
     "execution_count": 133,
     "metadata": {},
     "output_type": "execute_result"
    }
   ],
   "source": [
    "P1_test.shape"
   ]
  },
  {
   "cell_type": "code",
   "execution_count": 131,
   "metadata": {},
   "outputs": [
    {
     "data": {
      "text/plain": [
       "6212"
      ]
     },
     "execution_count": 131,
     "metadata": {},
     "output_type": "execute_result"
    }
   ],
   "source": [
    "len(P1_test.age[P1_test.age < 6])"
   ]
  },
  {
   "cell_type": "code",
   "execution_count": 129,
   "metadata": {},
   "outputs": [
    {
     "name": "stdout",
     "output_type": "stream",
     "text": [
      "<class 'pandas.core.frame.DataFrame'>\n",
      "Int64Index: 6212 entries, 32 to 64287\n",
      "Data columns (total 7 columns):\n",
      " #   Column          Non-Null Count  Dtype \n",
      "---  ------          --------------  ----- \n",
      " 0   Address         6212 non-null   int64 \n",
      " 1   relation        6212 non-null   object\n",
      " 2   age             6212 non-null   int64 \n",
      " 3   literacy        6212 non-null   object\n",
      " 4   studying        0 non-null      object\n",
      " 5   degree          0 non-null      object\n",
      " 6   occupationalst  0 non-null      object\n",
      "dtypes: int64(2), object(5)\n",
      "memory usage: 388.2+ KB\n"
     ]
    }
   ],
   "source": [
    "P1_test.info()"
   ]
  },
  {
   "cell_type": "code",
   "execution_count": 141,
   "metadata": {},
   "outputs": [
    {
     "name": "stderr",
     "output_type": "stream",
     "text": [
      "/var/folders/7y/37m2bn3d6y778v332m4hd77c0000gn/T/ipykernel_45152/3478443372.py:2: SettingWithCopyWarning: \n",
      "A value is trying to be set on a copy of a slice from a DataFrame\n",
      "\n",
      "See the caveats in the documentation: https://pandas.pydata.org/pandas-docs/stable/user_guide/indexing.html#returning-a-view-versus-a-copy\n",
      "  df.degree.fillna(\"illiterate\", inplace=True)\n",
      "/var/folders/7y/37m2bn3d6y778v332m4hd77c0000gn/T/ipykernel_45152/3478443372.py:3: SettingWithCopyWarning: \n",
      "A value is trying to be set on a copy of a slice from a DataFrame\n",
      "\n",
      "See the caveats in the documentation: https://pandas.pydata.org/pandas-docs/stable/user_guide/indexing.html#returning-a-view-versus-a-copy\n",
      "  df.occupationalst.fillna(\"Other\",inplace=True)\n"
     ]
    }
   ],
   "source": [
    "df = P1_test[P1_test.age < 6]\n",
    "df.degree.fillna(\"illiterate\", inplace=True)\n",
    "df.occupationalst.fillna(\"Other\",inplace=True)"
   ]
  },
  {
   "cell_type": "code",
   "execution_count": 142,
   "metadata": {},
   "outputs": [
    {
     "name": "stdout",
     "output_type": "stream",
     "text": [
      "<class 'pandas.core.frame.DataFrame'>\n",
      "Int64Index: 6212 entries, 32 to 64287\n",
      "Data columns (total 5 columns):\n",
      " #   Column          Non-Null Count  Dtype \n",
      "---  ------          --------------  ----- \n",
      " 0   Address         6212 non-null   int64 \n",
      " 1   relation        6212 non-null   object\n",
      " 2   age             6212 non-null   int64 \n",
      " 3   degree          6212 non-null   object\n",
      " 4   occupationalst  6212 non-null   object\n",
      "dtypes: int64(2), object(3)\n",
      "memory usage: 291.2+ KB\n"
     ]
    }
   ],
   "source": [
    "df.info()"
   ]
  },
  {
   "cell_type": "code",
   "execution_count": 147,
   "metadata": {},
   "outputs": [],
   "source": [
    "# find all age < 6 and fill the null cells\n",
    "dele = P1_test[P1_test.age < 6]\n",
    "dele = P1_test[((P1_test.age < 6))].index\n",
    "P1_test = P1_test.drop(dele)\n",
    "P1_test = pd.concat([P1_test, df])"
   ]
  },
  {
   "cell_type": "code",
   "execution_count": 150,
   "metadata": {},
   "outputs": [
    {
     "name": "stdout",
     "output_type": "stream",
     "text": [
      "<class 'pandas.core.frame.DataFrame'>\n",
      "Int64Index: 64296 entries, 0 to 64287\n",
      "Data columns (total 5 columns):\n",
      " #   Column          Non-Null Count  Dtype \n",
      "---  ------          --------------  ----- \n",
      " 0   Address         64296 non-null  int64 \n",
      " 1   relation        64296 non-null  object\n",
      " 2   age             64296 non-null  int64 \n",
      " 3   degree          51389 non-null  object\n",
      " 4   occupationalst  59820 non-null  object\n",
      "dtypes: int64(2), object(3)\n",
      "memory usage: 2.9+ MB\n"
     ]
    }
   ],
   "source": [
    "P1_test.info()"
   ]
  },
  {
   "cell_type": "code",
   "execution_count": 155,
   "metadata": {},
   "outputs": [
    {
     "data": {
      "text/plain": [
       "Elemantry     21647\n",
       "Secondary     10061\n",
       "Diploma        6953\n",
       "illiterate     6212\n",
       "HighSchool     2439\n",
       "Bachelor       2356\n",
       "College         968\n",
       "Other           400\n",
       "Master          341\n",
       "PhD              12\n",
       "Name: degree, dtype: int64"
      ]
     },
     "execution_count": 155,
     "metadata": {},
     "output_type": "execute_result"
    }
   ],
   "source": [
    "P1_test.degree.value_counts()"
   ]
  },
  {
   "cell_type": "code",
   "execution_count": 160,
   "metadata": {},
   "outputs": [
    {
     "name": "stdout",
     "output_type": "stream",
     "text": [
      "Unexpected exception formatting exception. Falling back to standard exception\n"
     ]
    },
    {
     "name": "stderr",
     "output_type": "stream",
     "text": [
      "Traceback (most recent call last):\n",
      "  File \"/Users/zeinab/Documents/venv/lib/python3.9/site-packages/IPython/core/formatters.py\", line 221, in catch_format_error\n",
      "    r = method(self, *args, **kwargs)\n",
      "  File \"/Users/zeinab/Documents/venv/lib/python3.9/site-packages/IPython/core/formatters.py\", line 342, in __call__\n",
      "    return method()\n",
      "  File \"/Users/zeinab/Documents/venv/lib/python3.9/site-packages/pandas/core/frame.py\", line 1106, in _repr_html_\n",
      "  File \"/Users/zeinab/Documents/venv/lib/python3.9/site-packages/pandas/io/formats/format.py\", line 1110, in to_html\n",
      "    When formatting an Index subclass\n",
      "  File \"/Users/zeinab/Documents/venv/lib/python3.9/site-packages/pandas/io/formats/html.py\", line 88, in to_string\n",
      "    lines = self.render()\n",
      "  File \"/Users/zeinab/Documents/venv/lib/python3.9/site-packages/pandas/io/formats/html.py\", line 644, in render\n",
      "    super().render()\n",
      "  File \"/Users/zeinab/Documents/venv/lib/python3.9/site-packages/pandas/io/formats/html.py\", line 94, in render\n",
      "    self._write_table()\n",
      "  File \"/Users/zeinab/Documents/venv/lib/python3.9/site-packages/pandas/io/formats/html.py\", line 267, in _write_table\n",
      "    self._write_header(indent + self.indent_delta)\n",
      "  File \"/Users/zeinab/Documents/venv/lib/python3.9/site-packages/pandas/io/formats/html.py\", line 403, in _write_header\n",
      "    self._write_col_header(indent + self.indent_delta)\n",
      "  File \"/Users/zeinab/Documents/venv/lib/python3.9/site-packages/pandas/io/formats/html.py\", line 383, in _write_col_header\n",
      "    row.extend(self._get_columns_formatted_values())\n",
      "  File \"/Users/zeinab/Documents/venv/lib/python3.9/site-packages/pandas/io/formats/html.py\", line 611, in _get_columns_formatted_values\n",
      "    return self.columns._format_flat(include_name=False)\n",
      "AttributeError: 'Index' object has no attribute '_format_flat'\n",
      "\n",
      "During handling of the above exception, another exception occurred:\n",
      "\n",
      "Traceback (most recent call last):\n",
      "  File \"/Users/zeinab/Documents/venv/lib/python3.9/site-packages/IPython/core/interactiveshell.py\", line 2057, in showtraceback\n",
      "    stb = self.InteractiveTB.structured_traceback(\n",
      "  File \"/Users/zeinab/Documents/venv/lib/python3.9/site-packages/IPython/core/ultratb.py\", line 1118, in structured_traceback\n",
      "    return FormattedTB.structured_traceback(\n",
      "  File \"/Users/zeinab/Documents/venv/lib/python3.9/site-packages/IPython/core/ultratb.py\", line 1012, in structured_traceback\n",
      "    return VerboseTB.structured_traceback(\n",
      "  File \"/Users/zeinab/Documents/venv/lib/python3.9/site-packages/IPython/core/ultratb.py\", line 865, in structured_traceback\n",
      "    formatted_exception = self.format_exception_as_a_whole(etype, evalue, etb, number_of_lines_of_context,\n",
      "  File \"/Users/zeinab/Documents/venv/lib/python3.9/site-packages/IPython/core/ultratb.py\", line 818, in format_exception_as_a_whole\n",
      "    frames.append(self.format_record(r))\n",
      "  File \"/Users/zeinab/Documents/venv/lib/python3.9/site-packages/IPython/core/ultratb.py\", line 736, in format_record\n",
      "    result += ''.join(_format_traceback_lines(frame_info.lines, Colors, self.has_colors, lvals))\n",
      "  File \"/Users/zeinab/Documents/venv/lib/python3.9/site-packages/stack_data/utils.py\", line 144, in cached_property_wrapper\n",
      "    value = obj.__dict__[self.func.__name__] = self.func(obj)\n",
      "  File \"/Users/zeinab/Documents/venv/lib/python3.9/site-packages/stack_data/core.py\", line 734, in lines\n",
      "    pieces = self.included_pieces\n",
      "  File \"/Users/zeinab/Documents/venv/lib/python3.9/site-packages/stack_data/utils.py\", line 144, in cached_property_wrapper\n",
      "    value = obj.__dict__[self.func.__name__] = self.func(obj)\n",
      "  File \"/Users/zeinab/Documents/venv/lib/python3.9/site-packages/stack_data/core.py\", line 681, in included_pieces\n",
      "    pos = scope_pieces.index(self.executing_piece)\n",
      "  File \"/Users/zeinab/Documents/venv/lib/python3.9/site-packages/stack_data/utils.py\", line 144, in cached_property_wrapper\n",
      "    value = obj.__dict__[self.func.__name__] = self.func(obj)\n",
      "  File \"/Users/zeinab/Documents/venv/lib/python3.9/site-packages/stack_data/core.py\", line 660, in executing_piece\n",
      "    return only(\n",
      "  File \"/Users/zeinab/Documents/venv/lib/python3.9/site-packages/executing/executing.py\", line 190, in only\n",
      "    raise NotOneValueFound('Expected one value, found 0')\n",
      "executing.executing.NotOneValueFound: Expected one value, found 0\n"
     ]
    },
    {
     "data": {
      "text/plain": [
       "            Address           age\n",
       "count  1.290700e+04  12907.000000\n",
       "mean   2.141166e+10     59.236616\n",
       "std    8.974780e+08     17.695877\n",
       "min    2.000138e+10      6.000000\n",
       "25%    2.061446e+10     50.000000\n",
       "50%    2.130654e+10     61.000000\n",
       "75%    2.220462e+10     71.000000\n",
       "max    2.300671e+10     99.000000"
      ]
     },
     "execution_count": 160,
     "metadata": {},
     "output_type": "execute_result"
    }
   ],
   "source": [
    "P1_test[P1_test.degree.isna()].describe()"
   ]
  },
  {
   "cell_type": "code",
   "execution_count": null,
   "metadata": {},
   "outputs": [],
   "source": [
    "P1_test[P1_test.degree.isna()]"
   ]
  },
  {
   "cell_type": "code",
   "execution_count": 161,
   "metadata": {},
   "outputs": [],
   "source": [
    "P1_test.degree.fillna(\"Other\",inplace=True)"
   ]
  },
  {
   "cell_type": "code",
   "execution_count": 162,
   "metadata": {},
   "outputs": [
    {
     "name": "stdout",
     "output_type": "stream",
     "text": [
      "<class 'pandas.core.frame.DataFrame'>\n",
      "Int64Index: 64296 entries, 0 to 64287\n",
      "Data columns (total 5 columns):\n",
      " #   Column          Non-Null Count  Dtype \n",
      "---  ------          --------------  ----- \n",
      " 0   Address         64296 non-null  int64 \n",
      " 1   relation        64296 non-null  object\n",
      " 2   age             64296 non-null  int64 \n",
      " 3   degree          64296 non-null  object\n",
      " 4   occupationalst  59820 non-null  object\n",
      "dtypes: int64(2), object(3)\n",
      "memory usage: 2.9+ MB\n"
     ]
    }
   ],
   "source": [
    "P1_test.info()"
   ]
  },
  {
   "cell_type": "code",
   "execution_count": 163,
   "metadata": {},
   "outputs": [
    {
     "data": {
      "text/plain": [
       "employed       19290\n",
       "Housewife      16485\n",
       "Student         8602\n",
       "Other           7430\n",
       "IncomeWOJob     5398\n",
       "unemployed      2615\n",
       "Name: occupationalst, dtype: int64"
      ]
     },
     "execution_count": 163,
     "metadata": {},
     "output_type": "execute_result"
    }
   ],
   "source": [
    "P1_test.occupationalst.value_counts()"
   ]
  },
  {
   "cell_type": "code",
   "execution_count": 167,
   "metadata": {},
   "outputs": [
    {
     "name": "stdout",
     "output_type": "stream",
     "text": [
      "Unexpected exception formatting exception. Falling back to standard exception\n"
     ]
    },
    {
     "name": "stderr",
     "output_type": "stream",
     "text": [
      "Traceback (most recent call last):\n",
      "  File \"/Users/zeinab/Documents/venv/lib/python3.9/site-packages/IPython/core/formatters.py\", line 221, in catch_format_error\n",
      "    r = method(self, *args, **kwargs)\n",
      "  File \"/Users/zeinab/Documents/venv/lib/python3.9/site-packages/IPython/core/formatters.py\", line 342, in __call__\n",
      "    return method()\n",
      "  File \"/Users/zeinab/Documents/venv/lib/python3.9/site-packages/pandas/core/frame.py\", line 1106, in _repr_html_\n",
      "  File \"/Users/zeinab/Documents/venv/lib/python3.9/site-packages/pandas/io/formats/format.py\", line 1110, in to_html\n",
      "    When formatting an Index subclass\n",
      "  File \"/Users/zeinab/Documents/venv/lib/python3.9/site-packages/pandas/io/formats/html.py\", line 88, in to_string\n",
      "    lines = self.render()\n",
      "  File \"/Users/zeinab/Documents/venv/lib/python3.9/site-packages/pandas/io/formats/html.py\", line 644, in render\n",
      "    super().render()\n",
      "  File \"/Users/zeinab/Documents/venv/lib/python3.9/site-packages/pandas/io/formats/html.py\", line 94, in render\n",
      "    self._write_table()\n",
      "  File \"/Users/zeinab/Documents/venv/lib/python3.9/site-packages/pandas/io/formats/html.py\", line 267, in _write_table\n",
      "    self._write_header(indent + self.indent_delta)\n",
      "  File \"/Users/zeinab/Documents/venv/lib/python3.9/site-packages/pandas/io/formats/html.py\", line 403, in _write_header\n",
      "    self._write_col_header(indent + self.indent_delta)\n",
      "  File \"/Users/zeinab/Documents/venv/lib/python3.9/site-packages/pandas/io/formats/html.py\", line 383, in _write_col_header\n",
      "    row.extend(self._get_columns_formatted_values())\n",
      "  File \"/Users/zeinab/Documents/venv/lib/python3.9/site-packages/pandas/io/formats/html.py\", line 611, in _get_columns_formatted_values\n",
      "    return self.columns._format_flat(include_name=False)\n",
      "AttributeError: 'Index' object has no attribute '_format_flat'\n",
      "\n",
      "During handling of the above exception, another exception occurred:\n",
      "\n",
      "Traceback (most recent call last):\n",
      "  File \"/Users/zeinab/Documents/venv/lib/python3.9/site-packages/IPython/core/interactiveshell.py\", line 2057, in showtraceback\n",
      "    stb = self.InteractiveTB.structured_traceback(\n",
      "  File \"/Users/zeinab/Documents/venv/lib/python3.9/site-packages/IPython/core/ultratb.py\", line 1118, in structured_traceback\n",
      "    return FormattedTB.structured_traceback(\n",
      "  File \"/Users/zeinab/Documents/venv/lib/python3.9/site-packages/IPython/core/ultratb.py\", line 1012, in structured_traceback\n",
      "    return VerboseTB.structured_traceback(\n",
      "  File \"/Users/zeinab/Documents/venv/lib/python3.9/site-packages/IPython/core/ultratb.py\", line 865, in structured_traceback\n",
      "    formatted_exception = self.format_exception_as_a_whole(etype, evalue, etb, number_of_lines_of_context,\n",
      "  File \"/Users/zeinab/Documents/venv/lib/python3.9/site-packages/IPython/core/ultratb.py\", line 818, in format_exception_as_a_whole\n",
      "    frames.append(self.format_record(r))\n",
      "  File \"/Users/zeinab/Documents/venv/lib/python3.9/site-packages/IPython/core/ultratb.py\", line 736, in format_record\n",
      "    result += ''.join(_format_traceback_lines(frame_info.lines, Colors, self.has_colors, lvals))\n",
      "  File \"/Users/zeinab/Documents/venv/lib/python3.9/site-packages/stack_data/utils.py\", line 144, in cached_property_wrapper\n",
      "    value = obj.__dict__[self.func.__name__] = self.func(obj)\n",
      "  File \"/Users/zeinab/Documents/venv/lib/python3.9/site-packages/stack_data/core.py\", line 734, in lines\n",
      "    pieces = self.included_pieces\n",
      "  File \"/Users/zeinab/Documents/venv/lib/python3.9/site-packages/stack_data/utils.py\", line 144, in cached_property_wrapper\n",
      "    value = obj.__dict__[self.func.__name__] = self.func(obj)\n",
      "  File \"/Users/zeinab/Documents/venv/lib/python3.9/site-packages/stack_data/core.py\", line 681, in included_pieces\n",
      "    pos = scope_pieces.index(self.executing_piece)\n",
      "  File \"/Users/zeinab/Documents/venv/lib/python3.9/site-packages/stack_data/utils.py\", line 144, in cached_property_wrapper\n",
      "    value = obj.__dict__[self.func.__name__] = self.func(obj)\n",
      "  File \"/Users/zeinab/Documents/venv/lib/python3.9/site-packages/stack_data/core.py\", line 660, in executing_piece\n",
      "    return only(\n",
      "  File \"/Users/zeinab/Documents/venv/lib/python3.9/site-packages/executing/executing.py\", line 190, in only\n",
      "    raise NotOneValueFound('Expected one value, found 0')\n",
      "executing.executing.NotOneValueFound: Expected one value, found 0\n"
     ]
    },
    {
     "data": {
      "text/plain": [
       "            Address          age\n",
       "count  4.476000e+03  4476.000000\n",
       "mean   2.148921e+10     7.476765\n",
       "std    8.797756e+08     1.102621\n",
       "min    2.000138e+10     6.000000\n",
       "25%    2.071347e+10     6.000000\n",
       "50%    2.140655e+10     7.000000\n",
       "75%    2.221063e+10     8.000000\n",
       "max    2.300671e+10     9.000000"
      ]
     },
     "execution_count": 167,
     "metadata": {},
     "output_type": "execute_result"
    }
   ],
   "source": [
    "P1_test[P1_test.occupationalst.isna()].describe()"
   ]
  },
  {
   "cell_type": "code",
   "execution_count": 168,
   "metadata": {},
   "outputs": [],
   "source": [
    "P1_test.occupationalst.fillna(\"Other\",inplace=True)"
   ]
  },
  {
   "cell_type": "code",
   "execution_count": 169,
   "metadata": {},
   "outputs": [
    {
     "name": "stdout",
     "output_type": "stream",
     "text": [
      "<class 'pandas.core.frame.DataFrame'>\n",
      "Int64Index: 64296 entries, 0 to 64287\n",
      "Data columns (total 5 columns):\n",
      " #   Column          Non-Null Count  Dtype \n",
      "---  ------          --------------  ----- \n",
      " 0   Address         64296 non-null  int64 \n",
      " 1   relation        64296 non-null  object\n",
      " 2   age             64296 non-null  int64 \n",
      " 3   degree          64296 non-null  object\n",
      " 4   occupationalst  64296 non-null  object\n",
      "dtypes: int64(2), object(3)\n",
      "memory usage: 2.9+ MB\n"
     ]
    }
   ],
   "source": [
    "P1_test.info()"
   ]
  },
  {
   "attachments": {},
   "cell_type": "markdown",
   "metadata": {},
   "source": [
    "# Question 2"
   ]
  },
  {
   "cell_type": "code",
   "execution_count": 170,
   "metadata": {},
   "outputs": [
    {
     "data": {
      "text/plain": [
       "Index(['Address', 'tenure', 'room', 'space', 'construction', 'material',\n",
       "       'vehicle', 'motorcycle', 'bicycle', 'radio', 'radiotape', 'TVbw', 'TV',\n",
       "       'VHS_VCD_DVD', 'computer', 'cellphone', 'freezer', 'refridgerator',\n",
       "       'fridge', 'stove', 'vacuum', 'washingmachine', 'sewingmachine', 'fan',\n",
       "       'evapcoolingportable', 'splitportable', 'dishwasher', 'microwave',\n",
       "       'none', 'pipewater', 'electricity', 'pipegas', 'telephone', 'internet',\n",
       "       'bathroom', 'kitchen', 'evapcooling', 'centralcooling',\n",
       "       'centralheating', 'package', 'split', 'wastewater', 'cookingfuel',\n",
       "       'heatingfuel', 'waterheatingfuel'],\n",
       "      dtype='object')"
      ]
     },
     "execution_count": 170,
     "metadata": {},
     "output_type": "execute_result"
    }
   ],
   "source": [
    "P2.keys()"
   ]
  },
  {
   "cell_type": "code",
   "execution_count": 172,
   "metadata": {},
   "outputs": [],
   "source": [
    "P2_test = P2[[\"Address\", \"vehicle\", \"motorcycle\", \"bicycle\"]]"
   ]
  },
  {
   "cell_type": "code",
   "execution_count": 175,
   "metadata": {},
   "outputs": [
    {
     "name": "stdout",
     "output_type": "stream",
     "text": [
      "<class 'pandas.core.frame.DataFrame'>\n",
      "RangeIndex: 18430 entries, 0 to 18429\n",
      "Data columns (total 4 columns):\n",
      " #   Column      Non-Null Count  Dtype\n",
      "---  ------      --------------  -----\n",
      " 0   Address     18430 non-null  int64\n",
      " 1   vehicle     18430 non-null  bool \n",
      " 2   motorcycle  18430 non-null  bool \n",
      " 3   bicycle     18430 non-null  bool \n",
      "dtypes: bool(3), int64(1)\n",
      "memory usage: 198.1 KB\n"
     ]
    }
   ],
   "source": [
    "P2_test.info()"
   ]
  },
  {
   "cell_type": "code",
   "execution_count": null,
   "metadata": {},
   "outputs": [],
   "source": []
  },
  {
   "attachments": {},
   "cell_type": "markdown",
   "metadata": {},
   "source": [
    "# Question 4\n"
   ]
  },
  {
   "cell_type": "code",
   "execution_count": 177,
   "metadata": {},
   "outputs": [
    {
     "name": "stdout",
     "output_type": "stream",
     "text": [
      "<class 'pandas.core.frame.DataFrame'>\n",
      "RangeIndex: 11269 entries, 0 to 11268\n",
      "Data columns (total 4 columns):\n",
      " #   Column     Non-Null Count  Dtype\n",
      "---  ------     --------------  -----\n",
      " 0   Address    11269 non-null  int64\n",
      " 1   code       11269 non-null  int64\n",
      " 2   purchased  11269 non-null  int64\n",
      " 3   value      11269 non-null  int64\n",
      "dtypes: int64(4)\n",
      "memory usage: 352.3 KB\n"
     ]
    }
   ],
   "source": [
    "P3S11.info()"
   ]
  },
  {
   "cell_type": "code",
   "execution_count": null,
   "metadata": {},
   "outputs": [],
   "source": []
  }
 ],
 "metadata": {
  "kernelspec": {
   "display_name": "venv",
   "language": "python",
   "name": "python3"
  },
  "language_info": {
   "codemirror_mode": {
    "name": "ipython",
    "version": 3
   },
   "file_extension": ".py",
   "mimetype": "text/x-python",
   "name": "python",
   "nbconvert_exporter": "python",
   "pygments_lexer": "ipython3",
   "version": "3.9.6"
  },
  "orig_nbformat": 4,
  "vscode": {
   "interpreter": {
    "hash": "9400284a0ef70becef75eeb1c015f314df36300ea42313f71f668894b3f3147e"
   }
  }
 },
 "nbformat": 4,
 "nbformat_minor": 2
}
