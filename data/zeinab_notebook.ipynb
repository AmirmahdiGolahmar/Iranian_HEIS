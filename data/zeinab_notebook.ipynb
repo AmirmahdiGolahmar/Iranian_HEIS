{
 "cells": [
  {
   "cell_type": "code",
   "execution_count": 130,
   "metadata": {},
   "outputs": [],
   "source": [
    "# import all libraries\n",
    "import numpy as np\n",
    "import pandas as pd\n",
    "import os\n",
    "import datetime"
   ]
  },
  {
   "cell_type": "code",
   "execution_count": 131,
   "metadata": {},
   "outputs": [
    {
     "data": {
      "text/plain": [
       "True"
      ]
     },
     "execution_count": 131,
     "metadata": {},
     "output_type": "execute_result"
    }
   ],
   "source": [
    "os.getcwd()\n",
    "os.path.exists(\"/Users/zeinab/Downloads/Project1_data\")"
   ]
  },
  {
   "attachments": {},
   "cell_type": "markdown",
   "metadata": {},
   "source": [
    "# Read all sheet in a year"
   ]
  },
  {
   "cell_type": "code",
   "execution_count": 132,
   "metadata": {},
   "outputs": [],
   "source": [
    "#all datasets\n",
    "all_files_name = [\"R98.xlsx\", \"R99.xlsx\", \"R1400.xlsx\", \"R1401.xlsx\", \"U98.xlsx\", \"U99.xlsx\", \"U1400.xlsx\", \"U1401.xlsx\"]\n",
    "path_data = \"/Users/zeinab/Downloads/Project1_data/\"\n",
    "Year = \"U98\""
   ]
  },
  {
   "cell_type": "code",
   "execution_count": 133,
   "metadata": {},
   "outputs": [
    {
     "ename": "ValueError",
     "evalue": "Worksheet named 'U98Data' not found",
     "output_type": "error",
     "traceback": [
      "\u001b[0;31m---------------------------------------------------------------------------\u001b[0m",
      "\u001b[0;31mValueError\u001b[0m                                Traceback (most recent call last)",
      "Cell \u001b[0;32mIn[133], line 2\u001b[0m\n\u001b[1;32m      1\u001b[0m \u001b[39m# #Read all sheets for a Year\u001b[39;00m\n\u001b[0;32m----> 2\u001b[0m data \u001b[39m=\u001b[39m pd\u001b[39m.\u001b[39;49mread_excel(path_data \u001b[39m+\u001b[39;49m all_files_name[\u001b[39m3\u001b[39;49m], Year \u001b[39m+\u001b[39;49m \u001b[39m'\u001b[39;49m\u001b[39mData\u001b[39;49m\u001b[39m'\u001b[39;49m)\n\u001b[1;32m      3\u001b[0m P1 \u001b[39m=\u001b[39m pd\u001b[39m.\u001b[39mread_excel(path_data \u001b[39m+\u001b[39m all_files_name[\u001b[39m3\u001b[39m], Year \u001b[39m+\u001b[39m \u001b[39m'\u001b[39m\u001b[39mP1\u001b[39m\u001b[39m'\u001b[39m)\n\u001b[1;32m      4\u001b[0m P2 \u001b[39m=\u001b[39m pd\u001b[39m.\u001b[39mread_excel(path_data \u001b[39m+\u001b[39m all_files_name[\u001b[39m3\u001b[39m], Year \u001b[39m+\u001b[39m \u001b[39m'\u001b[39m\u001b[39mP2\u001b[39m\u001b[39m'\u001b[39m)\n",
      "File \u001b[0;32m~/Documents/venv/lib/python3.9/site-packages/pandas/io/excel/_base.py:508\u001b[0m, in \u001b[0;36mread_excel\u001b[0;34m(io, sheet_name, header, names, index_col, usecols, dtype, engine, converters, true_values, false_values, skiprows, nrows, na_values, keep_default_na, na_filter, verbose, parse_dates, date_parser, date_format, thousands, decimal, comment, skipfooter, storage_options, dtype_backend, engine_kwargs)\u001b[0m\n\u001b[1;32m    502\u001b[0m     \u001b[39mraise\u001b[39;00m \u001b[39mValueError\u001b[39;00m(\n\u001b[1;32m    503\u001b[0m         \u001b[39m\"\u001b[39m\u001b[39mEngine should not be specified when passing \u001b[39m\u001b[39m\"\u001b[39m\n\u001b[1;32m    504\u001b[0m         \u001b[39m\"\u001b[39m\u001b[39man ExcelFile - ExcelFile already has the engine set\u001b[39m\u001b[39m\"\u001b[39m\n\u001b[1;32m    505\u001b[0m     )\n\u001b[1;32m    507\u001b[0m \u001b[39mtry\u001b[39;00m:\n\u001b[0;32m--> 508\u001b[0m     data \u001b[39m=\u001b[39m io\u001b[39m.\u001b[39;49mparse(\n\u001b[1;32m    509\u001b[0m         sheet_name\u001b[39m=\u001b[39;49msheet_name,\n\u001b[1;32m    510\u001b[0m         header\u001b[39m=\u001b[39;49mheader,\n\u001b[1;32m    511\u001b[0m         names\u001b[39m=\u001b[39;49mnames,\n\u001b[1;32m    512\u001b[0m         index_col\u001b[39m=\u001b[39;49mindex_col,\n\u001b[1;32m    513\u001b[0m         usecols\u001b[39m=\u001b[39;49musecols,\n\u001b[1;32m    514\u001b[0m         dtype\u001b[39m=\u001b[39;49mdtype,\n\u001b[1;32m    515\u001b[0m         converters\u001b[39m=\u001b[39;49mconverters,\n\u001b[1;32m    516\u001b[0m         true_values\u001b[39m=\u001b[39;49mtrue_values,\n\u001b[1;32m    517\u001b[0m         false_values\u001b[39m=\u001b[39;49mfalse_values,\n\u001b[1;32m    518\u001b[0m         skiprows\u001b[39m=\u001b[39;49mskiprows,\n\u001b[1;32m    519\u001b[0m         nrows\u001b[39m=\u001b[39;49mnrows,\n\u001b[1;32m    520\u001b[0m         na_values\u001b[39m=\u001b[39;49mna_values,\n\u001b[1;32m    521\u001b[0m         keep_default_na\u001b[39m=\u001b[39;49mkeep_default_na,\n\u001b[1;32m    522\u001b[0m         na_filter\u001b[39m=\u001b[39;49mna_filter,\n\u001b[1;32m    523\u001b[0m         verbose\u001b[39m=\u001b[39;49mverbose,\n\u001b[1;32m    524\u001b[0m         parse_dates\u001b[39m=\u001b[39;49mparse_dates,\n\u001b[1;32m    525\u001b[0m         date_parser\u001b[39m=\u001b[39;49mdate_parser,\n\u001b[1;32m    526\u001b[0m         date_format\u001b[39m=\u001b[39;49mdate_format,\n\u001b[1;32m    527\u001b[0m         thousands\u001b[39m=\u001b[39;49mthousands,\n\u001b[1;32m    528\u001b[0m         decimal\u001b[39m=\u001b[39;49mdecimal,\n\u001b[1;32m    529\u001b[0m         comment\u001b[39m=\u001b[39;49mcomment,\n\u001b[1;32m    530\u001b[0m         skipfooter\u001b[39m=\u001b[39;49mskipfooter,\n\u001b[1;32m    531\u001b[0m         dtype_backend\u001b[39m=\u001b[39;49mdtype_backend,\n\u001b[1;32m    532\u001b[0m     )\n\u001b[1;32m    533\u001b[0m \u001b[39mfinally\u001b[39;00m:\n\u001b[1;32m    534\u001b[0m     \u001b[39m# make sure to close opened file handles\u001b[39;00m\n\u001b[1;32m    535\u001b[0m     \u001b[39mif\u001b[39;00m should_close:\n",
      "File \u001b[0;32m~/Documents/venv/lib/python3.9/site-packages/pandas/io/excel/_base.py:1616\u001b[0m, in \u001b[0;36mExcelFile.parse\u001b[0;34m(self, sheet_name, header, names, index_col, usecols, converters, true_values, false_values, skiprows, nrows, na_values, parse_dates, date_parser, date_format, thousands, comment, skipfooter, dtype_backend, **kwds)\u001b[0m\n\u001b[1;32m   1576\u001b[0m \u001b[39mdef\u001b[39;00m \u001b[39mparse\u001b[39m(\n\u001b[1;32m   1577\u001b[0m     \u001b[39mself\u001b[39m,\n\u001b[1;32m   1578\u001b[0m     sheet_name: \u001b[39mstr\u001b[39m \u001b[39m|\u001b[39m \u001b[39mint\u001b[39m \u001b[39m|\u001b[39m \u001b[39mlist\u001b[39m[\u001b[39mint\u001b[39m] \u001b[39m|\u001b[39m \u001b[39mlist\u001b[39m[\u001b[39mstr\u001b[39m] \u001b[39m|\u001b[39m \u001b[39mNone\u001b[39;00m \u001b[39m=\u001b[39m \u001b[39m0\u001b[39m,\n\u001b[0;32m   (...)\u001b[0m\n\u001b[1;32m   1596\u001b[0m     \u001b[39m*\u001b[39m\u001b[39m*\u001b[39mkwds,\n\u001b[1;32m   1597\u001b[0m ) \u001b[39m-\u001b[39m\u001b[39m>\u001b[39m DataFrame \u001b[39m|\u001b[39m \u001b[39mdict\u001b[39m[\u001b[39mstr\u001b[39m, DataFrame] \u001b[39m|\u001b[39m \u001b[39mdict\u001b[39m[\u001b[39mint\u001b[39m, DataFrame]:\n\u001b[1;32m   1598\u001b[0m \u001b[39m    \u001b[39m\u001b[39m\"\"\"\u001b[39;00m\n\u001b[1;32m   1599\u001b[0m \u001b[39m    Parse specified sheet(s) into a DataFrame.\u001b[39;00m\n\u001b[1;32m   1600\u001b[0m \n\u001b[0;32m   (...)\u001b[0m\n\u001b[1;32m   1614\u001b[0m \u001b[39m    >>> file.parse()  # doctest: +SKIP\u001b[39;00m\n\u001b[1;32m   1615\u001b[0m \u001b[39m    \"\"\"\u001b[39;00m\n\u001b[0;32m-> 1616\u001b[0m     \u001b[39mreturn\u001b[39;00m \u001b[39mself\u001b[39;49m\u001b[39m.\u001b[39;49m_reader\u001b[39m.\u001b[39;49mparse(\n\u001b[1;32m   1617\u001b[0m         sheet_name\u001b[39m=\u001b[39;49msheet_name,\n\u001b[1;32m   1618\u001b[0m         header\u001b[39m=\u001b[39;49mheader,\n\u001b[1;32m   1619\u001b[0m         names\u001b[39m=\u001b[39;49mnames,\n\u001b[1;32m   1620\u001b[0m         index_col\u001b[39m=\u001b[39;49mindex_col,\n\u001b[1;32m   1621\u001b[0m         usecols\u001b[39m=\u001b[39;49musecols,\n\u001b[1;32m   1622\u001b[0m         converters\u001b[39m=\u001b[39;49mconverters,\n\u001b[1;32m   1623\u001b[0m         true_values\u001b[39m=\u001b[39;49mtrue_values,\n\u001b[1;32m   1624\u001b[0m         false_values\u001b[39m=\u001b[39;49mfalse_values,\n\u001b[1;32m   1625\u001b[0m         skiprows\u001b[39m=\u001b[39;49mskiprows,\n\u001b[1;32m   1626\u001b[0m         nrows\u001b[39m=\u001b[39;49mnrows,\n\u001b[1;32m   1627\u001b[0m         na_values\u001b[39m=\u001b[39;49mna_values,\n\u001b[1;32m   1628\u001b[0m         parse_dates\u001b[39m=\u001b[39;49mparse_dates,\n\u001b[1;32m   1629\u001b[0m         date_parser\u001b[39m=\u001b[39;49mdate_parser,\n\u001b[1;32m   1630\u001b[0m         date_format\u001b[39m=\u001b[39;49mdate_format,\n\u001b[1;32m   1631\u001b[0m         thousands\u001b[39m=\u001b[39;49mthousands,\n\u001b[1;32m   1632\u001b[0m         comment\u001b[39m=\u001b[39;49mcomment,\n\u001b[1;32m   1633\u001b[0m         skipfooter\u001b[39m=\u001b[39;49mskipfooter,\n\u001b[1;32m   1634\u001b[0m         dtype_backend\u001b[39m=\u001b[39;49mdtype_backend,\n\u001b[1;32m   1635\u001b[0m         \u001b[39m*\u001b[39;49m\u001b[39m*\u001b[39;49mkwds,\n\u001b[1;32m   1636\u001b[0m     )\n",
      "File \u001b[0;32m~/Documents/venv/lib/python3.9/site-packages/pandas/io/excel/_base.py:773\u001b[0m, in \u001b[0;36mBaseExcelReader.parse\u001b[0;34m(self, sheet_name, header, names, index_col, usecols, dtype, true_values, false_values, skiprows, nrows, na_values, verbose, parse_dates, date_parser, date_format, thousands, decimal, comment, skipfooter, dtype_backend, **kwds)\u001b[0m\n\u001b[1;32m    770\u001b[0m     \u001b[39mprint\u001b[39m(\u001b[39mf\u001b[39m\u001b[39m\"\u001b[39m\u001b[39mReading sheet \u001b[39m\u001b[39m{\u001b[39;00masheetname\u001b[39m}\u001b[39;00m\u001b[39m\"\u001b[39m)\n\u001b[1;32m    772\u001b[0m \u001b[39mif\u001b[39;00m \u001b[39misinstance\u001b[39m(asheetname, \u001b[39mstr\u001b[39m):\n\u001b[0;32m--> 773\u001b[0m     sheet \u001b[39m=\u001b[39m \u001b[39mself\u001b[39;49m\u001b[39m.\u001b[39;49mget_sheet_by_name(asheetname)\n\u001b[1;32m    774\u001b[0m \u001b[39melse\u001b[39;00m:  \u001b[39m# assume an integer if not a string\u001b[39;00m\n\u001b[1;32m    775\u001b[0m     sheet \u001b[39m=\u001b[39m \u001b[39mself\u001b[39m\u001b[39m.\u001b[39mget_sheet_by_index(asheetname)\n",
      "File \u001b[0;32m~/Documents/venv/lib/python3.9/site-packages/pandas/io/excel/_openpyxl.py:582\u001b[0m, in \u001b[0;36mOpenpyxlReader.get_sheet_by_name\u001b[0;34m(self, name)\u001b[0m\n\u001b[1;32m    581\u001b[0m \u001b[39mdef\u001b[39;00m \u001b[39mget_sheet_by_name\u001b[39m(\u001b[39mself\u001b[39m, name: \u001b[39mstr\u001b[39m):\n\u001b[0;32m--> 582\u001b[0m     \u001b[39mself\u001b[39;49m\u001b[39m.\u001b[39;49mraise_if_bad_sheet_by_name(name)\n\u001b[1;32m    583\u001b[0m     \u001b[39mreturn\u001b[39;00m \u001b[39mself\u001b[39m\u001b[39m.\u001b[39mbook[name]\n",
      "File \u001b[0;32m~/Documents/venv/lib/python3.9/site-packages/pandas/io/excel/_base.py:624\u001b[0m, in \u001b[0;36mBaseExcelReader.raise_if_bad_sheet_by_name\u001b[0;34m(self, name)\u001b[0m\n\u001b[1;32m    622\u001b[0m \u001b[39mdef\u001b[39;00m \u001b[39mraise_if_bad_sheet_by_name\u001b[39m(\u001b[39mself\u001b[39m, name: \u001b[39mstr\u001b[39m) \u001b[39m-\u001b[39m\u001b[39m>\u001b[39m \u001b[39mNone\u001b[39;00m:\n\u001b[1;32m    623\u001b[0m     \u001b[39mif\u001b[39;00m name \u001b[39mnot\u001b[39;00m \u001b[39min\u001b[39;00m \u001b[39mself\u001b[39m\u001b[39m.\u001b[39msheet_names:\n\u001b[0;32m--> 624\u001b[0m         \u001b[39mraise\u001b[39;00m \u001b[39mValueError\u001b[39;00m(\u001b[39mf\u001b[39m\u001b[39m\"\u001b[39m\u001b[39mWorksheet named \u001b[39m\u001b[39m'\u001b[39m\u001b[39m{\u001b[39;00mname\u001b[39m}\u001b[39;00m\u001b[39m'\u001b[39m\u001b[39m not found\u001b[39m\u001b[39m\"\u001b[39m)\n",
      "\u001b[0;31mValueError\u001b[0m: Worksheet named 'U98Data' not found"
     ]
    }
   ],
   "source": [
    "# #Read all sheets for a Year\n",
    "data = pd.read_excel(path_data + all_files_name[3], Year + 'Data')\n",
    "P1 = pd.read_excel(path_data + all_files_name[3], Year + 'P1')\n",
    "P2 = pd.read_excel(path_data + all_files_name[3], Year + 'P2')\n",
    "P3S01 = pd.read_excel(path_data + all_files_name[3], Year + 'P3S01')\n",
    "P3S02 = pd.read_excel(path_data + all_files_name[3], Year + 'P3S02')\n",
    "P3S03 = pd.read_excel(path_data + all_files_name[3], Year + 'P3S03')\n",
    "P3S04 = pd.read_excel(path_data + all_files_name[3], Year + 'P3S04')\n",
    "P3S05 = pd.read_excel(path_data + all_files_name[3], Year + 'P3S05')\n",
    "P3S06 = pd.read_excel(path_data + all_files_name[3], Year + 'P3S06')\n",
    "P3S07 = pd.read_excel(path_data + all_files_name[3], Year + 'P3S07')\n",
    "P3S08 = pd.read_excel(path_data + all_files_name[3], Year + 'P3S08')\n",
    "P3S09 = pd.read_excel(path_data + all_files_name[3], Year + 'P3S09')\n",
    "P3S11 = pd.read_excel(path_data + all_files_name[3], Year + 'P3S11')\n",
    "P3S12 = pd.read_excel(path_data + all_files_name[3], Year + 'P3S12')\n",
    "P3S13 = pd.read_excel(path_data + all_files_name[3], Year + 'P3S13')\n",
    "P3S14 = pd.read_excel(path_data + all_files_name[3], Year + 'P3S14')\n",
    "P4S01 = pd.read_excel(path_data + all_files_name[3], Year + 'P4S01')\n",
    "P4S02 = pd.read_excel(path_data + all_files_name[3], Year + 'P4S02')\n",
    "P4S03 = pd.read_excel(path_data + all_files_name[3], Year + 'P4S03')\n",
    "P4S04 = pd.read_excel(path_data + all_files_name[3], Year + 'P4S04')\n"
   ]
  },
  {
   "cell_type": "code",
   "execution_count": null,
   "metadata": {},
   "outputs": [],
   "source": [
    "data.info()"
   ]
  },
  {
   "attachments": {},
   "cell_type": "markdown",
   "metadata": {},
   "source": [
    "# Question 1"
   ]
  },
  {
   "cell_type": "code",
   "execution_count": null,
   "metadata": {},
   "outputs": [
    {
     "name": "stdout",
     "output_type": "stream",
     "text": [
      "<class 'pandas.core.frame.DataFrame'>\n",
      "RangeIndex: 64296 entries, 0 to 64295\n",
      "Data columns (total 10 columns):\n",
      " #   Column          Non-Null Count  Dtype \n",
      "---  ------          --------------  ----- \n",
      " 0   Address         64296 non-null  int64 \n",
      " 1   member          64296 non-null  int64 \n",
      " 2   relation        64296 non-null  object\n",
      " 3   gender          64296 non-null  object\n",
      " 4   age             64296 non-null  int64 \n",
      " 5   literacy        58057 non-null  object\n",
      " 6   studying        45177 non-null  object\n",
      " 7   degree          45177 non-null  object\n",
      " 8   occupationalst  53608 non-null  object\n",
      " 9   maritalst       53609 non-null  object\n",
      "dtypes: int64(3), object(7)\n",
      "memory usage: 4.9+ MB\n"
     ]
    }
   ],
   "source": [
    "P1.info()"
   ]
  },
  {
   "cell_type": "code",
   "execution_count": null,
   "metadata": {},
   "outputs": [],
   "source": [
    "P1[[\"degree\",\"age\"]]\n",
    "# len(P1_test.literacy[ P1_test.literacy.isna()])"
   ]
  },
  {
   "cell_type": "code",
   "execution_count": null,
   "metadata": {},
   "outputs": [],
   "source": [
    "P1_test = P1[[\"Address\", \"relation\", \"age\", \"degree\", \"occupationalst\"]]"
   ]
  },
  {
   "cell_type": "code",
   "execution_count": null,
   "metadata": {},
   "outputs": [],
   "source": [
    "P1_test.literacy.head(40)"
   ]
  },
  {
   "cell_type": "code",
   "execution_count": null,
   "metadata": {},
   "outputs": [
    {
     "data": {
      "text/plain": [
       "(64296, 5)"
      ]
     },
     "execution_count": 133,
     "metadata": {},
     "output_type": "execute_result"
    }
   ],
   "source": [
    "P1_test.shape"
   ]
  },
  {
   "cell_type": "code",
   "execution_count": null,
   "metadata": {},
   "outputs": [
    {
     "data": {
      "text/plain": [
       "6212"
      ]
     },
     "execution_count": 131,
     "metadata": {},
     "output_type": "execute_result"
    }
   ],
   "source": [
    "len(P1_test.age[P1_test.age < 6])"
   ]
  },
  {
   "cell_type": "code",
   "execution_count": null,
   "metadata": {},
   "outputs": [
    {
     "name": "stdout",
     "output_type": "stream",
     "text": [
      "<class 'pandas.core.frame.DataFrame'>\n",
      "Int64Index: 6212 entries, 32 to 64287\n",
      "Data columns (total 7 columns):\n",
      " #   Column          Non-Null Count  Dtype \n",
      "---  ------          --------------  ----- \n",
      " 0   Address         6212 non-null   int64 \n",
      " 1   relation        6212 non-null   object\n",
      " 2   age             6212 non-null   int64 \n",
      " 3   literacy        6212 non-null   object\n",
      " 4   studying        0 non-null      object\n",
      " 5   degree          0 non-null      object\n",
      " 6   occupationalst  0 non-null      object\n",
      "dtypes: int64(2), object(5)\n",
      "memory usage: 388.2+ KB\n"
     ]
    }
   ],
   "source": [
    "P1_test.info()"
   ]
  },
  {
   "cell_type": "code",
   "execution_count": null,
   "metadata": {},
   "outputs": [
    {
     "name": "stderr",
     "output_type": "stream",
     "text": [
      "/var/folders/7y/37m2bn3d6y778v332m4hd77c0000gn/T/ipykernel_45152/3478443372.py:2: SettingWithCopyWarning: \n",
      "A value is trying to be set on a copy of a slice from a DataFrame\n",
      "\n",
      "See the caveats in the documentation: https://pandas.pydata.org/pandas-docs/stable/user_guide/indexing.html#returning-a-view-versus-a-copy\n",
      "  df.degree.fillna(\"illiterate\", inplace=True)\n",
      "/var/folders/7y/37m2bn3d6y778v332m4hd77c0000gn/T/ipykernel_45152/3478443372.py:3: SettingWithCopyWarning: \n",
      "A value is trying to be set on a copy of a slice from a DataFrame\n",
      "\n",
      "See the caveats in the documentation: https://pandas.pydata.org/pandas-docs/stable/user_guide/indexing.html#returning-a-view-versus-a-copy\n",
      "  df.occupationalst.fillna(\"Other\",inplace=True)\n"
     ]
    }
   ],
   "source": [
    "df = P1_test[P1_test.age < 6]\n",
    "df.degree.fillna(\"illiterate\", inplace=True)\n",
    "df.occupationalst.fillna(\"Other\",inplace=True)"
   ]
  },
  {
   "cell_type": "code",
   "execution_count": null,
   "metadata": {},
   "outputs": [
    {
     "name": "stdout",
     "output_type": "stream",
     "text": [
      "<class 'pandas.core.frame.DataFrame'>\n",
      "Int64Index: 6212 entries, 32 to 64287\n",
      "Data columns (total 5 columns):\n",
      " #   Column          Non-Null Count  Dtype \n",
      "---  ------          --------------  ----- \n",
      " 0   Address         6212 non-null   int64 \n",
      " 1   relation        6212 non-null   object\n",
      " 2   age             6212 non-null   int64 \n",
      " 3   degree          6212 non-null   object\n",
      " 4   occupationalst  6212 non-null   object\n",
      "dtypes: int64(2), object(3)\n",
      "memory usage: 291.2+ KB\n"
     ]
    }
   ],
   "source": [
    "df.info()"
   ]
  },
  {
   "cell_type": "code",
   "execution_count": null,
   "metadata": {},
   "outputs": [],
   "source": [
    "# find all age < 6 and fill the null cells\n",
    "dele = P1_test[P1_test.age < 6]\n",
    "dele = P1_test[((P1_test.age < 6))].index\n",
    "P1_test = P1_test.drop(dele)\n",
    "P1_test = pd.concat([P1_test, df])"
   ]
  },
  {
   "cell_type": "code",
   "execution_count": null,
   "metadata": {},
   "outputs": [
    {
     "name": "stdout",
     "output_type": "stream",
     "text": [
      "<class 'pandas.core.frame.DataFrame'>\n",
      "Int64Index: 64296 entries, 0 to 64287\n",
      "Data columns (total 5 columns):\n",
      " #   Column          Non-Null Count  Dtype \n",
      "---  ------          --------------  ----- \n",
      " 0   Address         64296 non-null  int64 \n",
      " 1   relation        64296 non-null  object\n",
      " 2   age             64296 non-null  int64 \n",
      " 3   degree          51389 non-null  object\n",
      " 4   occupationalst  59820 non-null  object\n",
      "dtypes: int64(2), object(3)\n",
      "memory usage: 2.9+ MB\n"
     ]
    }
   ],
   "source": [
    "P1_test.info()"
   ]
  },
  {
   "cell_type": "code",
   "execution_count": null,
   "metadata": {},
   "outputs": [
    {
     "data": {
      "text/plain": [
       "Elemantry     21647\n",
       "Secondary     10061\n",
       "Diploma        6953\n",
       "illiterate     6212\n",
       "HighSchool     2439\n",
       "Bachelor       2356\n",
       "College         968\n",
       "Other           400\n",
       "Master          341\n",
       "PhD              12\n",
       "Name: degree, dtype: int64"
      ]
     },
     "execution_count": 155,
     "metadata": {},
     "output_type": "execute_result"
    }
   ],
   "source": [
    "P1_test.degree.value_counts()"
   ]
  },
  {
   "cell_type": "code",
   "execution_count": null,
   "metadata": {},
   "outputs": [
    {
     "name": "stdout",
     "output_type": "stream",
     "text": [
      "Unexpected exception formatting exception. Falling back to standard exception\n"
     ]
    },
    {
     "name": "stderr",
     "output_type": "stream",
     "text": [
      "Traceback (most recent call last):\n",
      "  File \"/Users/zeinab/Documents/venv/lib/python3.9/site-packages/IPython/core/formatters.py\", line 221, in catch_format_error\n",
      "    r = method(self, *args, **kwargs)\n",
      "  File \"/Users/zeinab/Documents/venv/lib/python3.9/site-packages/IPython/core/formatters.py\", line 342, in __call__\n",
      "    return method()\n",
      "  File \"/Users/zeinab/Documents/venv/lib/python3.9/site-packages/pandas/core/frame.py\", line 1106, in _repr_html_\n",
      "  File \"/Users/zeinab/Documents/venv/lib/python3.9/site-packages/pandas/io/formats/format.py\", line 1110, in to_html\n",
      "    When formatting an Index subclass\n",
      "  File \"/Users/zeinab/Documents/venv/lib/python3.9/site-packages/pandas/io/formats/html.py\", line 88, in to_string\n",
      "    lines = self.render()\n",
      "  File \"/Users/zeinab/Documents/venv/lib/python3.9/site-packages/pandas/io/formats/html.py\", line 644, in render\n",
      "    super().render()\n",
      "  File \"/Users/zeinab/Documents/venv/lib/python3.9/site-packages/pandas/io/formats/html.py\", line 94, in render\n",
      "    self._write_table()\n",
      "  File \"/Users/zeinab/Documents/venv/lib/python3.9/site-packages/pandas/io/formats/html.py\", line 267, in _write_table\n",
      "    self._write_header(indent + self.indent_delta)\n",
      "  File \"/Users/zeinab/Documents/venv/lib/python3.9/site-packages/pandas/io/formats/html.py\", line 403, in _write_header\n",
      "    self._write_col_header(indent + self.indent_delta)\n",
      "  File \"/Users/zeinab/Documents/venv/lib/python3.9/site-packages/pandas/io/formats/html.py\", line 383, in _write_col_header\n",
      "    row.extend(self._get_columns_formatted_values())\n",
      "  File \"/Users/zeinab/Documents/venv/lib/python3.9/site-packages/pandas/io/formats/html.py\", line 611, in _get_columns_formatted_values\n",
      "    return self.columns._format_flat(include_name=False)\n",
      "AttributeError: 'Index' object has no attribute '_format_flat'\n",
      "\n",
      "During handling of the above exception, another exception occurred:\n",
      "\n",
      "Traceback (most recent call last):\n",
      "  File \"/Users/zeinab/Documents/venv/lib/python3.9/site-packages/IPython/core/interactiveshell.py\", line 2057, in showtraceback\n",
      "    stb = self.InteractiveTB.structured_traceback(\n",
      "  File \"/Users/zeinab/Documents/venv/lib/python3.9/site-packages/IPython/core/ultratb.py\", line 1118, in structured_traceback\n",
      "    return FormattedTB.structured_traceback(\n",
      "  File \"/Users/zeinab/Documents/venv/lib/python3.9/site-packages/IPython/core/ultratb.py\", line 1012, in structured_traceback\n",
      "    return VerboseTB.structured_traceback(\n",
      "  File \"/Users/zeinab/Documents/venv/lib/python3.9/site-packages/IPython/core/ultratb.py\", line 865, in structured_traceback\n",
      "    formatted_exception = self.format_exception_as_a_whole(etype, evalue, etb, number_of_lines_of_context,\n",
      "  File \"/Users/zeinab/Documents/venv/lib/python3.9/site-packages/IPython/core/ultratb.py\", line 818, in format_exception_as_a_whole\n",
      "    frames.append(self.format_record(r))\n",
      "  File \"/Users/zeinab/Documents/venv/lib/python3.9/site-packages/IPython/core/ultratb.py\", line 736, in format_record\n",
      "    result += ''.join(_format_traceback_lines(frame_info.lines, Colors, self.has_colors, lvals))\n",
      "  File \"/Users/zeinab/Documents/venv/lib/python3.9/site-packages/stack_data/utils.py\", line 144, in cached_property_wrapper\n",
      "    value = obj.__dict__[self.func.__name__] = self.func(obj)\n",
      "  File \"/Users/zeinab/Documents/venv/lib/python3.9/site-packages/stack_data/core.py\", line 734, in lines\n",
      "    pieces = self.included_pieces\n",
      "  File \"/Users/zeinab/Documents/venv/lib/python3.9/site-packages/stack_data/utils.py\", line 144, in cached_property_wrapper\n",
      "    value = obj.__dict__[self.func.__name__] = self.func(obj)\n",
      "  File \"/Users/zeinab/Documents/venv/lib/python3.9/site-packages/stack_data/core.py\", line 681, in included_pieces\n",
      "    pos = scope_pieces.index(self.executing_piece)\n",
      "  File \"/Users/zeinab/Documents/venv/lib/python3.9/site-packages/stack_data/utils.py\", line 144, in cached_property_wrapper\n",
      "    value = obj.__dict__[self.func.__name__] = self.func(obj)\n",
      "  File \"/Users/zeinab/Documents/venv/lib/python3.9/site-packages/stack_data/core.py\", line 660, in executing_piece\n",
      "    return only(\n",
      "  File \"/Users/zeinab/Documents/venv/lib/python3.9/site-packages/executing/executing.py\", line 190, in only\n",
      "    raise NotOneValueFound('Expected one value, found 0')\n",
      "executing.executing.NotOneValueFound: Expected one value, found 0\n"
     ]
    },
    {
     "data": {
      "text/plain": [
       "            Address           age\n",
       "count  1.290700e+04  12907.000000\n",
       "mean   2.141166e+10     59.236616\n",
       "std    8.974780e+08     17.695877\n",
       "min    2.000138e+10      6.000000\n",
       "25%    2.061446e+10     50.000000\n",
       "50%    2.130654e+10     61.000000\n",
       "75%    2.220462e+10     71.000000\n",
       "max    2.300671e+10     99.000000"
      ]
     },
     "execution_count": 160,
     "metadata": {},
     "output_type": "execute_result"
    }
   ],
   "source": [
    "P1_test[P1_test.degree.isna()].describe()"
   ]
  },
  {
   "cell_type": "code",
   "execution_count": null,
   "metadata": {},
   "outputs": [],
   "source": [
    "P1_test[P1_test.degree.isna()]"
   ]
  },
  {
   "cell_type": "code",
   "execution_count": null,
   "metadata": {},
   "outputs": [],
   "source": [
    "P1_test.degree.fillna(\"Other\",inplace=True)"
   ]
  },
  {
   "cell_type": "code",
   "execution_count": null,
   "metadata": {},
   "outputs": [
    {
     "name": "stdout",
     "output_type": "stream",
     "text": [
      "<class 'pandas.core.frame.DataFrame'>\n",
      "Int64Index: 64296 entries, 0 to 64287\n",
      "Data columns (total 5 columns):\n",
      " #   Column          Non-Null Count  Dtype \n",
      "---  ------          --------------  ----- \n",
      " 0   Address         64296 non-null  int64 \n",
      " 1   relation        64296 non-null  object\n",
      " 2   age             64296 non-null  int64 \n",
      " 3   degree          64296 non-null  object\n",
      " 4   occupationalst  59820 non-null  object\n",
      "dtypes: int64(2), object(3)\n",
      "memory usage: 2.9+ MB\n"
     ]
    }
   ],
   "source": [
    "P1_test.info()"
   ]
  },
  {
   "cell_type": "code",
   "execution_count": null,
   "metadata": {},
   "outputs": [
    {
     "data": {
      "text/plain": [
       "employed       19290\n",
       "Housewife      16485\n",
       "Student         8602\n",
       "Other           7430\n",
       "IncomeWOJob     5398\n",
       "unemployed      2615\n",
       "Name: occupationalst, dtype: int64"
      ]
     },
     "execution_count": 163,
     "metadata": {},
     "output_type": "execute_result"
    }
   ],
   "source": [
    "P1_test.occupationalst.value_counts()"
   ]
  },
  {
   "cell_type": "code",
   "execution_count": null,
   "metadata": {},
   "outputs": [
    {
     "name": "stdout",
     "output_type": "stream",
     "text": [
      "Unexpected exception formatting exception. Falling back to standard exception\n"
     ]
    },
    {
     "name": "stderr",
     "output_type": "stream",
     "text": [
      "Traceback (most recent call last):\n",
      "  File \"/Users/zeinab/Documents/venv/lib/python3.9/site-packages/IPython/core/formatters.py\", line 221, in catch_format_error\n",
      "    r = method(self, *args, **kwargs)\n",
      "  File \"/Users/zeinab/Documents/venv/lib/python3.9/site-packages/IPython/core/formatters.py\", line 342, in __call__\n",
      "    return method()\n",
      "  File \"/Users/zeinab/Documents/venv/lib/python3.9/site-packages/pandas/core/frame.py\", line 1106, in _repr_html_\n",
      "  File \"/Users/zeinab/Documents/venv/lib/python3.9/site-packages/pandas/io/formats/format.py\", line 1110, in to_html\n",
      "    When formatting an Index subclass\n",
      "  File \"/Users/zeinab/Documents/venv/lib/python3.9/site-packages/pandas/io/formats/html.py\", line 88, in to_string\n",
      "    lines = self.render()\n",
      "  File \"/Users/zeinab/Documents/venv/lib/python3.9/site-packages/pandas/io/formats/html.py\", line 644, in render\n",
      "    super().render()\n",
      "  File \"/Users/zeinab/Documents/venv/lib/python3.9/site-packages/pandas/io/formats/html.py\", line 94, in render\n",
      "    self._write_table()\n",
      "  File \"/Users/zeinab/Documents/venv/lib/python3.9/site-packages/pandas/io/formats/html.py\", line 267, in _write_table\n",
      "    self._write_header(indent + self.indent_delta)\n",
      "  File \"/Users/zeinab/Documents/venv/lib/python3.9/site-packages/pandas/io/formats/html.py\", line 403, in _write_header\n",
      "    self._write_col_header(indent + self.indent_delta)\n",
      "  File \"/Users/zeinab/Documents/venv/lib/python3.9/site-packages/pandas/io/formats/html.py\", line 383, in _write_col_header\n",
      "    row.extend(self._get_columns_formatted_values())\n",
      "  File \"/Users/zeinab/Documents/venv/lib/python3.9/site-packages/pandas/io/formats/html.py\", line 611, in _get_columns_formatted_values\n",
      "    return self.columns._format_flat(include_name=False)\n",
      "AttributeError: 'Index' object has no attribute '_format_flat'\n",
      "\n",
      "During handling of the above exception, another exception occurred:\n",
      "\n",
      "Traceback (most recent call last):\n",
      "  File \"/Users/zeinab/Documents/venv/lib/python3.9/site-packages/IPython/core/interactiveshell.py\", line 2057, in showtraceback\n",
      "    stb = self.InteractiveTB.structured_traceback(\n",
      "  File \"/Users/zeinab/Documents/venv/lib/python3.9/site-packages/IPython/core/ultratb.py\", line 1118, in structured_traceback\n",
      "    return FormattedTB.structured_traceback(\n",
      "  File \"/Users/zeinab/Documents/venv/lib/python3.9/site-packages/IPython/core/ultratb.py\", line 1012, in structured_traceback\n",
      "    return VerboseTB.structured_traceback(\n",
      "  File \"/Users/zeinab/Documents/venv/lib/python3.9/site-packages/IPython/core/ultratb.py\", line 865, in structured_traceback\n",
      "    formatted_exception = self.format_exception_as_a_whole(etype, evalue, etb, number_of_lines_of_context,\n",
      "  File \"/Users/zeinab/Documents/venv/lib/python3.9/site-packages/IPython/core/ultratb.py\", line 818, in format_exception_as_a_whole\n",
      "    frames.append(self.format_record(r))\n",
      "  File \"/Users/zeinab/Documents/venv/lib/python3.9/site-packages/IPython/core/ultratb.py\", line 736, in format_record\n",
      "    result += ''.join(_format_traceback_lines(frame_info.lines, Colors, self.has_colors, lvals))\n",
      "  File \"/Users/zeinab/Documents/venv/lib/python3.9/site-packages/stack_data/utils.py\", line 144, in cached_property_wrapper\n",
      "    value = obj.__dict__[self.func.__name__] = self.func(obj)\n",
      "  File \"/Users/zeinab/Documents/venv/lib/python3.9/site-packages/stack_data/core.py\", line 734, in lines\n",
      "    pieces = self.included_pieces\n",
      "  File \"/Users/zeinab/Documents/venv/lib/python3.9/site-packages/stack_data/utils.py\", line 144, in cached_property_wrapper\n",
      "    value = obj.__dict__[self.func.__name__] = self.func(obj)\n",
      "  File \"/Users/zeinab/Documents/venv/lib/python3.9/site-packages/stack_data/core.py\", line 681, in included_pieces\n",
      "    pos = scope_pieces.index(self.executing_piece)\n",
      "  File \"/Users/zeinab/Documents/venv/lib/python3.9/site-packages/stack_data/utils.py\", line 144, in cached_property_wrapper\n",
      "    value = obj.__dict__[self.func.__name__] = self.func(obj)\n",
      "  File \"/Users/zeinab/Documents/venv/lib/python3.9/site-packages/stack_data/core.py\", line 660, in executing_piece\n",
      "    return only(\n",
      "  File \"/Users/zeinab/Documents/venv/lib/python3.9/site-packages/executing/executing.py\", line 190, in only\n",
      "    raise NotOneValueFound('Expected one value, found 0')\n",
      "executing.executing.NotOneValueFound: Expected one value, found 0\n"
     ]
    },
    {
     "data": {
      "text/plain": [
       "            Address          age\n",
       "count  4.476000e+03  4476.000000\n",
       "mean   2.148921e+10     7.476765\n",
       "std    8.797756e+08     1.102621\n",
       "min    2.000138e+10     6.000000\n",
       "25%    2.071347e+10     6.000000\n",
       "50%    2.140655e+10     7.000000\n",
       "75%    2.221063e+10     8.000000\n",
       "max    2.300671e+10     9.000000"
      ]
     },
     "execution_count": 167,
     "metadata": {},
     "output_type": "execute_result"
    }
   ],
   "source": [
    "P1_test[P1_test.occupationalst.isna()].describe()"
   ]
  },
  {
   "cell_type": "code",
   "execution_count": null,
   "metadata": {},
   "outputs": [],
   "source": [
    "P1_test.occupationalst.fillna(\"Other\",inplace=True)"
   ]
  },
  {
   "cell_type": "code",
   "execution_count": null,
   "metadata": {},
   "outputs": [
    {
     "name": "stdout",
     "output_type": "stream",
     "text": [
      "<class 'pandas.core.frame.DataFrame'>\n",
      "Int64Index: 64296 entries, 0 to 64287\n",
      "Data columns (total 5 columns):\n",
      " #   Column          Non-Null Count  Dtype \n",
      "---  ------          --------------  ----- \n",
      " 0   Address         64296 non-null  int64 \n",
      " 1   relation        64296 non-null  object\n",
      " 2   age             64296 non-null  int64 \n",
      " 3   degree          64296 non-null  object\n",
      " 4   occupationalst  64296 non-null  object\n",
      "dtypes: int64(2), object(3)\n",
      "memory usage: 2.9+ MB\n"
     ]
    }
   ],
   "source": [
    "P1_test.info()"
   ]
  },
  {
   "attachments": {},
   "cell_type": "markdown",
   "metadata": {},
   "source": [
    "# Question 2"
   ]
  },
  {
   "cell_type": "code",
   "execution_count": null,
   "metadata": {},
   "outputs": [
    {
     "data": {
      "text/plain": [
       "Index(['Address', 'tenure', 'room', 'space', 'construction', 'material',\n",
       "       'vehicle', 'motorcycle', 'bicycle', 'radio', 'radiotape', 'TVbw', 'TV',\n",
       "       'VHS_VCD_DVD', 'computer', 'cellphone', 'freezer', 'refridgerator',\n",
       "       'fridge', 'stove', 'vacuum', 'washingmachine', 'sewingmachine', 'fan',\n",
       "       'evapcoolingportable', 'splitportable', 'dishwasher', 'microwave',\n",
       "       'none', 'pipewater', 'electricity', 'pipegas', 'telephone', 'internet',\n",
       "       'bathroom', 'kitchen', 'evapcooling', 'centralcooling',\n",
       "       'centralheating', 'package', 'split', 'wastewater', 'cookingfuel',\n",
       "       'heatingfuel', 'waterheatingfuel'],\n",
       "      dtype='object')"
      ]
     },
     "execution_count": 170,
     "metadata": {},
     "output_type": "execute_result"
    }
   ],
   "source": [
    "P2.keys()"
   ]
  },
  {
   "cell_type": "code",
   "execution_count": null,
   "metadata": {},
   "outputs": [],
   "source": [
    "P2_test = P2[[\"Address\", \"vehicle\", \"motorcycle\", \"bicycle\"]]"
   ]
  },
  {
   "cell_type": "code",
   "execution_count": null,
   "metadata": {},
   "outputs": [
    {
     "name": "stdout",
     "output_type": "stream",
     "text": [
      "<class 'pandas.core.frame.DataFrame'>\n",
      "RangeIndex: 18430 entries, 0 to 18429\n",
      "Data columns (total 4 columns):\n",
      " #   Column      Non-Null Count  Dtype\n",
      "---  ------      --------------  -----\n",
      " 0   Address     18430 non-null  int64\n",
      " 1   vehicle     18430 non-null  bool \n",
      " 2   motorcycle  18430 non-null  bool \n",
      " 3   bicycle     18430 non-null  bool \n",
      "dtypes: bool(3), int64(1)\n",
      "memory usage: 198.1 KB\n"
     ]
    }
   ],
   "source": [
    "P2_test.info()"
   ]
  },
  {
   "cell_type": "code",
   "execution_count": null,
   "metadata": {},
   "outputs": [],
   "source": []
  },
  {
   "attachments": {},
   "cell_type": "markdown",
   "metadata": {},
   "source": [
    "# Question 4\n"
   ]
  },
  {
   "cell_type": "code",
   "execution_count": null,
   "metadata": {},
   "outputs": [
    {
     "name": "stdout",
     "output_type": "stream",
     "text": [
      "<class 'pandas.core.frame.DataFrame'>\n",
      "RangeIndex: 11269 entries, 0 to 11268\n",
      "Data columns (total 4 columns):\n",
      " #   Column     Non-Null Count  Dtype\n",
      "---  ------     --------------  -----\n",
      " 0   Address    11269 non-null  int64\n",
      " 1   code       11269 non-null  int64\n",
      " 2   purchased  11269 non-null  int64\n",
      " 3   value      11269 non-null  int64\n",
      "dtypes: int64(4)\n",
      "memory usage: 352.3 KB\n"
     ]
    }
   ],
   "source": [
    "P3S11.info()"
   ]
  },
  {
   "cell_type": "code",
   "execution_count": null,
   "metadata": {},
   "outputs": [
    {
     "name": "stdout",
     "output_type": "stream",
     "text": [
      "Unexpected exception formatting exception. Falling back to standard exception\n"
     ]
    },
    {
     "name": "stderr",
     "output_type": "stream",
     "text": [
      "Traceback (most recent call last):\n",
      "  File \"/Users/zeinab/Documents/venv/lib/python3.9/site-packages/IPython/core/formatters.py\", line 221, in catch_format_error\n",
      "    r = method(self, *args, **kwargs)\n",
      "  File \"/Users/zeinab/Documents/venv/lib/python3.9/site-packages/IPython/core/formatters.py\", line 342, in __call__\n",
      "    return method()\n",
      "  File \"/Users/zeinab/Documents/venv/lib/python3.9/site-packages/pandas/core/frame.py\", line 1106, in _repr_html_\n",
      "  File \"/Users/zeinab/Documents/venv/lib/python3.9/site-packages/pandas/io/formats/format.py\", line 1110, in to_html\n",
      "    When formatting an Index subclass\n",
      "  File \"/Users/zeinab/Documents/venv/lib/python3.9/site-packages/pandas/io/formats/html.py\", line 88, in to_string\n",
      "    lines = self.render()\n",
      "  File \"/Users/zeinab/Documents/venv/lib/python3.9/site-packages/pandas/io/formats/html.py\", line 644, in render\n",
      "    super().render()\n",
      "  File \"/Users/zeinab/Documents/venv/lib/python3.9/site-packages/pandas/io/formats/html.py\", line 94, in render\n",
      "    self._write_table()\n",
      "  File \"/Users/zeinab/Documents/venv/lib/python3.9/site-packages/pandas/io/formats/html.py\", line 267, in _write_table\n",
      "    self._write_header(indent + self.indent_delta)\n",
      "  File \"/Users/zeinab/Documents/venv/lib/python3.9/site-packages/pandas/io/formats/html.py\", line 403, in _write_header\n",
      "    self._write_col_header(indent + self.indent_delta)\n",
      "  File \"/Users/zeinab/Documents/venv/lib/python3.9/site-packages/pandas/io/formats/html.py\", line 383, in _write_col_header\n",
      "    row.extend(self._get_columns_formatted_values())\n",
      "  File \"/Users/zeinab/Documents/venv/lib/python3.9/site-packages/pandas/io/formats/html.py\", line 611, in _get_columns_formatted_values\n",
      "    return self.columns._format_flat(include_name=False)\n",
      "AttributeError: 'Index' object has no attribute '_format_flat'\n",
      "\n",
      "During handling of the above exception, another exception occurred:\n",
      "\n",
      "Traceback (most recent call last):\n",
      "  File \"/Users/zeinab/Documents/venv/lib/python3.9/site-packages/IPython/core/interactiveshell.py\", line 2057, in showtraceback\n",
      "    stb = self.InteractiveTB.structured_traceback(\n",
      "  File \"/Users/zeinab/Documents/venv/lib/python3.9/site-packages/IPython/core/ultratb.py\", line 1118, in structured_traceback\n",
      "    return FormattedTB.structured_traceback(\n",
      "  File \"/Users/zeinab/Documents/venv/lib/python3.9/site-packages/IPython/core/ultratb.py\", line 1012, in structured_traceback\n",
      "    return VerboseTB.structured_traceback(\n",
      "  File \"/Users/zeinab/Documents/venv/lib/python3.9/site-packages/IPython/core/ultratb.py\", line 865, in structured_traceback\n",
      "    formatted_exception = self.format_exception_as_a_whole(etype, evalue, etb, number_of_lines_of_context,\n",
      "  File \"/Users/zeinab/Documents/venv/lib/python3.9/site-packages/IPython/core/ultratb.py\", line 818, in format_exception_as_a_whole\n",
      "    frames.append(self.format_record(r))\n",
      "  File \"/Users/zeinab/Documents/venv/lib/python3.9/site-packages/IPython/core/ultratb.py\", line 736, in format_record\n",
      "    result += ''.join(_format_traceback_lines(frame_info.lines, Colors, self.has_colors, lvals))\n",
      "  File \"/Users/zeinab/Documents/venv/lib/python3.9/site-packages/stack_data/utils.py\", line 144, in cached_property_wrapper\n",
      "    value = obj.__dict__[self.func.__name__] = self.func(obj)\n",
      "  File \"/Users/zeinab/Documents/venv/lib/python3.9/site-packages/stack_data/core.py\", line 734, in lines\n",
      "    pieces = self.included_pieces\n",
      "  File \"/Users/zeinab/Documents/venv/lib/python3.9/site-packages/stack_data/utils.py\", line 144, in cached_property_wrapper\n",
      "    value = obj.__dict__[self.func.__name__] = self.func(obj)\n",
      "  File \"/Users/zeinab/Documents/venv/lib/python3.9/site-packages/stack_data/core.py\", line 681, in included_pieces\n",
      "    pos = scope_pieces.index(self.executing_piece)\n",
      "  File \"/Users/zeinab/Documents/venv/lib/python3.9/site-packages/stack_data/utils.py\", line 144, in cached_property_wrapper\n",
      "    value = obj.__dict__[self.func.__name__] = self.func(obj)\n",
      "  File \"/Users/zeinab/Documents/venv/lib/python3.9/site-packages/stack_data/core.py\", line 660, in executing_piece\n",
      "    return only(\n",
      "  File \"/Users/zeinab/Documents/venv/lib/python3.9/site-packages/executing/executing.py\", line 190, in only\n",
      "    raise NotOneValueFound('Expected one value, found 0')\n",
      "executing.executing.NotOneValueFound: Expected one value, found 0\n"
     ]
    },
    {
     "data": {
      "text/plain": [
       "           Address   code  mortgage purchased    value\n",
       "0      20011395420  42111       NaN       NaN  1000000\n",
       "1      20011395420  44418       NaN         1    20000\n",
       "2      20011395420  45111       NaN         1   350000\n",
       "3      20011395420  45211       NaN         1   200000\n",
       "4      20001385412  42111       NaN       NaN  1500000\n",
       "...            ...    ...       ...       ...      ...\n",
       "68762  23006709423  44411       NaN         1   200000\n",
       "68763  23006709423  44412       NaN         1   200000\n",
       "68764  23006709423  44413       NaN         1   100000\n",
       "68765  23006709423  45111       NaN         1   450000\n",
       "68766  23006709423  45211       NaN         1   320000\n",
       "\n",
       "[68767 rows x 5 columns]"
      ]
     },
     "execution_count": 178,
     "metadata": {},
     "output_type": "execute_result"
    }
   ],
   "source": [
    "P3S04"
   ]
  },
  {
   "attachments": {},
   "cell_type": "markdown",
   "metadata": {},
   "source": [
    "# Fateme - arzesh khane U & R"
   ]
  },
  {
   "cell_type": "code",
   "execution_count": null,
   "metadata": {},
   "outputs": [
    {
     "data": {
      "text/plain": [
       "(777, 5)"
      ]
     },
     "execution_count": 7,
     "metadata": {},
     "output_type": "execute_result"
    }
   ],
   "source": [
    "R98P3S04 = P3S04[P3S04.code ==  41111]\n",
    "R98P3S04.shape"
   ]
  },
  {
   "cell_type": "code",
   "execution_count": null,
   "metadata": {},
   "outputs": [
    {
     "data": {
      "text/plain": [
       "(819, 5)"
      ]
     },
     "execution_count": 10,
     "metadata": {},
     "output_type": "execute_result"
    }
   ],
   "source": [
    "R99P3S04 = P3S04[P3S04.code ==  41111]\n",
    "R99P3S04.shape"
   ]
  },
  {
   "cell_type": "code",
   "execution_count": null,
   "metadata": {},
   "outputs": [
    {
     "data": {
      "text/plain": [
       "(818, 5)"
      ]
     },
     "execution_count": 13,
     "metadata": {},
     "output_type": "execute_result"
    }
   ],
   "source": [
    "R1400P3S04 = P3S04[P3S04.code ==  41111]\n",
    "R1400P3S04.shape"
   ]
  },
  {
   "cell_type": "code",
   "execution_count": null,
   "metadata": {},
   "outputs": [
    {
     "data": {
      "text/plain": [
       "(773, 5)"
      ]
     },
     "execution_count": 16,
     "metadata": {},
     "output_type": "execute_result"
    }
   ],
   "source": [
    "R1401P3S04 = P3S04[P3S04.code ==  41111]\n",
    "R1401P3S04.shape"
   ]
  },
  {
   "cell_type": "code",
   "execution_count": null,
   "metadata": {},
   "outputs": [
    {
     "data": {
      "text/plain": [
       "(3677, 5)"
      ]
     },
     "execution_count": 19,
     "metadata": {},
     "output_type": "execute_result"
    }
   ],
   "source": [
    "U1401P3S04 = P3S04[P3S04.code ==  41111]\n",
    "U1401P3S04.shape"
   ]
  },
  {
   "cell_type": "code",
   "execution_count": null,
   "metadata": {},
   "outputs": [
    {
     "data": {
      "text/plain": [
       "(3697, 5)"
      ]
     },
     "execution_count": 23,
     "metadata": {},
     "output_type": "execute_result"
    }
   ],
   "source": [
    "U1400P3S04 = P3S04[P3S04.code ==  41111]\n",
    "U1400P3S04.shape"
   ]
  },
  {
   "cell_type": "code",
   "execution_count": null,
   "metadata": {},
   "outputs": [
    {
     "data": {
      "text/plain": [
       "(3634, 5)"
      ]
     },
     "execution_count": 26,
     "metadata": {},
     "output_type": "execute_result"
    }
   ],
   "source": [
    "U99P3S04 = P3S04[P3S04.code ==  41111]\n",
    "U99P3S04.shape"
   ]
  },
  {
   "cell_type": "code",
   "execution_count": null,
   "metadata": {},
   "outputs": [
    {
     "data": {
      "text/plain": [
       "(3710, 5)"
      ]
     },
     "execution_count": 29,
     "metadata": {},
     "output_type": "execute_result"
    }
   ],
   "source": [
    "U98P3S04 = P3S04[P3S04.code ==  41111]\n",
    "U98P3S04.shape"
   ]
  },
  {
   "cell_type": "code",
   "execution_count": null,
   "metadata": {},
   "outputs": [],
   "source": [
    "all_u = pd.concat([U98P3S04, U99P3S04, U1400P3S04, U1401P3S04])\n",
    "all_r = pd.concat([R98P3S04, R99P3S04, R1400P3S04, R1401P3S04])"
   ]
  },
  {
   "cell_type": "code",
   "execution_count": null,
   "metadata": {},
   "outputs": [
    {
     "data": {
      "text/plain": [
       "Index(['Address', 'purchased', 'value'], dtype='object')"
      ]
     },
     "execution_count": 41,
     "metadata": {},
     "output_type": "execute_result"
    }
   ],
   "source": [
    "all_u.keys()"
   ]
  },
  {
   "cell_type": "code",
   "execution_count": null,
   "metadata": {},
   "outputs": [],
   "source": [
    "all_u = all_u.drop(['mortgage', 'code', 'purchased'], axis=1)\n",
    "all_r = all_r.drop(['mortgage', 'code', 'purchased'], axis=1)"
   ]
  },
  {
   "cell_type": "code",
   "execution_count": null,
   "metadata": {},
   "outputs": [
    {
     "name": "stdout",
     "output_type": "stream",
     "text": [
      "(14718, 2)\n",
      "(3187, 2)\n"
     ]
    }
   ],
   "source": [
    "print(all_u.shape)\n",
    "print(all_r.shape)"
   ]
  },
  {
   "cell_type": "code",
   "execution_count": null,
   "metadata": {},
   "outputs": [],
   "source": [
    "all_u.to_csv('all_u.csv', encoding='utf-8', index=False)\n",
    "all_r.to_csv('all_r.csv', encoding='utf-8', index=False)\n"
   ]
  },
  {
   "cell_type": "code",
   "execution_count": null,
   "metadata": {},
   "outputs": [],
   "source": []
  },
  {
   "attachments": {},
   "cell_type": "markdown",
   "metadata": {},
   "source": [
    "# Change all Costs To Dollars"
   ]
  },
  {
   "cell_type": "code",
   "execution_count": 340,
   "metadata": {},
   "outputs": [],
   "source": [
    "# read Dollars file\n",
    "dollar = pd.read_csv(\"/Users/zeinab/Downloads/Project1_data/Dollar+.csv\")\n"
   ]
  },
  {
   "cell_type": "code",
   "execution_count": 341,
   "metadata": {},
   "outputs": [
    {
     "data": {
      "text/plain": [
       "Index(['date', 'close', 'high', 'low', 'open', 'time', 'volume', 'date.1'], dtype='object')"
      ]
     },
     "execution_count": 341,
     "metadata": {},
     "output_type": "execute_result"
    }
   ],
   "source": [
    "dollar.keys()"
   ]
  },
  {
   "cell_type": "code",
   "execution_count": 342,
   "metadata": {},
   "outputs": [],
   "source": [
    "dollar = dollar.drop(['high', 'low', 'open', 'time', 'volume', 'date.1'], axis=1)"
   ]
  },
  {
   "cell_type": "code",
   "execution_count": 343,
   "metadata": {},
   "outputs": [
    {
     "data": {
      "text/html": [
       "<div>\n",
       "<style scoped>\n",
       "    .dataframe tbody tr th:only-of-type {\n",
       "        vertical-align: middle;\n",
       "    }\n",
       "\n",
       "    .dataframe tbody tr th {\n",
       "        vertical-align: top;\n",
       "    }\n",
       "\n",
       "    .dataframe thead th {\n",
       "        text-align: right;\n",
       "    }\n",
       "</style>\n",
       "<table border=\"1\" class=\"dataframe\">\n",
       "  <thead>\n",
       "    <tr style=\"text-align: right;\">\n",
       "      <th></th>\n",
       "      <th>date</th>\n",
       "      <th>close</th>\n",
       "    </tr>\n",
       "  </thead>\n",
       "  <tbody>\n",
       "    <tr>\n",
       "      <th>0</th>\n",
       "      <td>1975-07-09</td>\n",
       "      <td>68.73</td>\n",
       "    </tr>\n",
       "    <tr>\n",
       "      <th>1</th>\n",
       "      <td>1975-07-10</td>\n",
       "      <td>68.73</td>\n",
       "    </tr>\n",
       "    <tr>\n",
       "      <th>2</th>\n",
       "      <td>1975-07-11</td>\n",
       "      <td>68.73</td>\n",
       "    </tr>\n",
       "    <tr>\n",
       "      <th>3</th>\n",
       "      <td>1975-07-12</td>\n",
       "      <td>68.73</td>\n",
       "    </tr>\n",
       "    <tr>\n",
       "      <th>4</th>\n",
       "      <td>1975-07-13</td>\n",
       "      <td>68.73</td>\n",
       "    </tr>\n",
       "    <tr>\n",
       "      <th>...</th>\n",
       "      <td>...</td>\n",
       "      <td>...</td>\n",
       "    </tr>\n",
       "    <tr>\n",
       "      <th>17640</th>\n",
       "      <td>2023-10-25</td>\n",
       "      <td>511500.00</td>\n",
       "    </tr>\n",
       "    <tr>\n",
       "      <th>17641</th>\n",
       "      <td>2023-10-26</td>\n",
       "      <td>517000.00</td>\n",
       "    </tr>\n",
       "    <tr>\n",
       "      <th>17642</th>\n",
       "      <td>2023-10-27</td>\n",
       "      <td>517000.00</td>\n",
       "    </tr>\n",
       "    <tr>\n",
       "      <th>17643</th>\n",
       "      <td>2023-10-28</td>\n",
       "      <td>521500.00</td>\n",
       "    </tr>\n",
       "    <tr>\n",
       "      <th>17644</th>\n",
       "      <td>2023-10-29</td>\n",
       "      <td>520000.00</td>\n",
       "    </tr>\n",
       "  </tbody>\n",
       "</table>\n",
       "<p>17645 rows × 2 columns</p>\n",
       "</div>"
      ],
      "text/plain": [
       "             date      close\n",
       "0      1975-07-09      68.73\n",
       "1      1975-07-10      68.73\n",
       "2      1975-07-11      68.73\n",
       "3      1975-07-12      68.73\n",
       "4      1975-07-13      68.73\n",
       "...           ...        ...\n",
       "17640  2023-10-25  511500.00\n",
       "17641  2023-10-26  517000.00\n",
       "17642  2023-10-27  517000.00\n",
       "17643  2023-10-28  521500.00\n",
       "17644  2023-10-29  520000.00\n",
       "\n",
       "[17645 rows x 2 columns]"
      ]
     },
     "execution_count": 343,
     "metadata": {},
     "output_type": "execute_result"
    }
   ],
   "source": [
    "dollar"
   ]
  },
  {
   "cell_type": "code",
   "execution_count": 344,
   "metadata": {},
   "outputs": [],
   "source": [
    "from datetime import datetime\n",
    "dollar['date'] = dollar['date'].apply(lambda x: datetime.strptime(x, '%Y-%m-%d'))"
   ]
  },
  {
   "cell_type": "code",
   "execution_count": 345,
   "metadata": {},
   "outputs": [
    {
     "data": {
      "text/html": [
       "<div>\n",
       "<style scoped>\n",
       "    .dataframe tbody tr th:only-of-type {\n",
       "        vertical-align: middle;\n",
       "    }\n",
       "\n",
       "    .dataframe tbody tr th {\n",
       "        vertical-align: top;\n",
       "    }\n",
       "\n",
       "    .dataframe thead th {\n",
       "        text-align: right;\n",
       "    }\n",
       "</style>\n",
       "<table border=\"1\" class=\"dataframe\">\n",
       "  <thead>\n",
       "    <tr style=\"text-align: right;\">\n",
       "      <th></th>\n",
       "      <th>date</th>\n",
       "      <th>close</th>\n",
       "    </tr>\n",
       "  </thead>\n",
       "  <tbody>\n",
       "    <tr>\n",
       "      <th>0</th>\n",
       "      <td>1975-07-09</td>\n",
       "      <td>68.73</td>\n",
       "    </tr>\n",
       "    <tr>\n",
       "      <th>1</th>\n",
       "      <td>1975-07-10</td>\n",
       "      <td>68.73</td>\n",
       "    </tr>\n",
       "    <tr>\n",
       "      <th>2</th>\n",
       "      <td>1975-07-11</td>\n",
       "      <td>68.73</td>\n",
       "    </tr>\n",
       "    <tr>\n",
       "      <th>3</th>\n",
       "      <td>1975-07-12</td>\n",
       "      <td>68.73</td>\n",
       "    </tr>\n",
       "    <tr>\n",
       "      <th>4</th>\n",
       "      <td>1975-07-13</td>\n",
       "      <td>68.73</td>\n",
       "    </tr>\n",
       "    <tr>\n",
       "      <th>...</th>\n",
       "      <td>...</td>\n",
       "      <td>...</td>\n",
       "    </tr>\n",
       "    <tr>\n",
       "      <th>17640</th>\n",
       "      <td>2023-10-25</td>\n",
       "      <td>511500.00</td>\n",
       "    </tr>\n",
       "    <tr>\n",
       "      <th>17641</th>\n",
       "      <td>2023-10-26</td>\n",
       "      <td>517000.00</td>\n",
       "    </tr>\n",
       "    <tr>\n",
       "      <th>17642</th>\n",
       "      <td>2023-10-27</td>\n",
       "      <td>517000.00</td>\n",
       "    </tr>\n",
       "    <tr>\n",
       "      <th>17643</th>\n",
       "      <td>2023-10-28</td>\n",
       "      <td>521500.00</td>\n",
       "    </tr>\n",
       "    <tr>\n",
       "      <th>17644</th>\n",
       "      <td>2023-10-29</td>\n",
       "      <td>520000.00</td>\n",
       "    </tr>\n",
       "  </tbody>\n",
       "</table>\n",
       "<p>17645 rows × 2 columns</p>\n",
       "</div>"
      ],
      "text/plain": [
       "            date      close\n",
       "0     1975-07-09      68.73\n",
       "1     1975-07-10      68.73\n",
       "2     1975-07-11      68.73\n",
       "3     1975-07-12      68.73\n",
       "4     1975-07-13      68.73\n",
       "...          ...        ...\n",
       "17640 2023-10-25  511500.00\n",
       "17641 2023-10-26  517000.00\n",
       "17642 2023-10-27  517000.00\n",
       "17643 2023-10-28  521500.00\n",
       "17644 2023-10-29  520000.00\n",
       "\n",
       "[17645 rows x 2 columns]"
      ]
     },
     "execution_count": 345,
     "metadata": {},
     "output_type": "execute_result"
    }
   ],
   "source": [
    "dollar"
   ]
  },
  {
   "cell_type": "code",
   "execution_count": 346,
   "metadata": {},
   "outputs": [],
   "source": [
    "list_year = []\n",
    "list_month = []\n",
    "list_day = []\n",
    "for i in range(len(dollar.date)):\n",
    "    list_year.append(dollar.date[i].year)\n",
    "    list_month.append(dollar.date[i].month)\n",
    "    list_day.append(dollar.date[i].day)\n",
    "\n",
    "    "
   ]
  },
  {
   "cell_type": "code",
   "execution_count": 347,
   "metadata": {},
   "outputs": [],
   "source": [
    "dollar['year'] = list_year\n",
    "dollar['month'] = list_month\n",
    "dollar['day'] = list_day"
   ]
  },
  {
   "cell_type": "code",
   "execution_count": 348,
   "metadata": {},
   "outputs": [
    {
     "data": {
      "text/html": [
       "<div>\n",
       "<style scoped>\n",
       "    .dataframe tbody tr th:only-of-type {\n",
       "        vertical-align: middle;\n",
       "    }\n",
       "\n",
       "    .dataframe tbody tr th {\n",
       "        vertical-align: top;\n",
       "    }\n",
       "\n",
       "    .dataframe thead th {\n",
       "        text-align: right;\n",
       "    }\n",
       "</style>\n",
       "<table border=\"1\" class=\"dataframe\">\n",
       "  <thead>\n",
       "    <tr style=\"text-align: right;\">\n",
       "      <th></th>\n",
       "      <th>date</th>\n",
       "      <th>close</th>\n",
       "      <th>year</th>\n",
       "      <th>month</th>\n",
       "      <th>day</th>\n",
       "    </tr>\n",
       "  </thead>\n",
       "  <tbody>\n",
       "    <tr>\n",
       "      <th>0</th>\n",
       "      <td>1975-07-09</td>\n",
       "      <td>68.73</td>\n",
       "      <td>1975</td>\n",
       "      <td>7</td>\n",
       "      <td>9</td>\n",
       "    </tr>\n",
       "    <tr>\n",
       "      <th>1</th>\n",
       "      <td>1975-07-10</td>\n",
       "      <td>68.73</td>\n",
       "      <td>1975</td>\n",
       "      <td>7</td>\n",
       "      <td>10</td>\n",
       "    </tr>\n",
       "    <tr>\n",
       "      <th>2</th>\n",
       "      <td>1975-07-11</td>\n",
       "      <td>68.73</td>\n",
       "      <td>1975</td>\n",
       "      <td>7</td>\n",
       "      <td>11</td>\n",
       "    </tr>\n",
       "    <tr>\n",
       "      <th>3</th>\n",
       "      <td>1975-07-12</td>\n",
       "      <td>68.73</td>\n",
       "      <td>1975</td>\n",
       "      <td>7</td>\n",
       "      <td>12</td>\n",
       "    </tr>\n",
       "    <tr>\n",
       "      <th>4</th>\n",
       "      <td>1975-07-13</td>\n",
       "      <td>68.73</td>\n",
       "      <td>1975</td>\n",
       "      <td>7</td>\n",
       "      <td>13</td>\n",
       "    </tr>\n",
       "    <tr>\n",
       "      <th>...</th>\n",
       "      <td>...</td>\n",
       "      <td>...</td>\n",
       "      <td>...</td>\n",
       "      <td>...</td>\n",
       "      <td>...</td>\n",
       "    </tr>\n",
       "    <tr>\n",
       "      <th>17640</th>\n",
       "      <td>2023-10-25</td>\n",
       "      <td>511500.00</td>\n",
       "      <td>2023</td>\n",
       "      <td>10</td>\n",
       "      <td>25</td>\n",
       "    </tr>\n",
       "    <tr>\n",
       "      <th>17641</th>\n",
       "      <td>2023-10-26</td>\n",
       "      <td>517000.00</td>\n",
       "      <td>2023</td>\n",
       "      <td>10</td>\n",
       "      <td>26</td>\n",
       "    </tr>\n",
       "    <tr>\n",
       "      <th>17642</th>\n",
       "      <td>2023-10-27</td>\n",
       "      <td>517000.00</td>\n",
       "      <td>2023</td>\n",
       "      <td>10</td>\n",
       "      <td>27</td>\n",
       "    </tr>\n",
       "    <tr>\n",
       "      <th>17643</th>\n",
       "      <td>2023-10-28</td>\n",
       "      <td>521500.00</td>\n",
       "      <td>2023</td>\n",
       "      <td>10</td>\n",
       "      <td>28</td>\n",
       "    </tr>\n",
       "    <tr>\n",
       "      <th>17644</th>\n",
       "      <td>2023-10-29</td>\n",
       "      <td>520000.00</td>\n",
       "      <td>2023</td>\n",
       "      <td>10</td>\n",
       "      <td>29</td>\n",
       "    </tr>\n",
       "  </tbody>\n",
       "</table>\n",
       "<p>17645 rows × 5 columns</p>\n",
       "</div>"
      ],
      "text/plain": [
       "            date      close  year  month  day\n",
       "0     1975-07-09      68.73  1975      7    9\n",
       "1     1975-07-10      68.73  1975      7   10\n",
       "2     1975-07-11      68.73  1975      7   11\n",
       "3     1975-07-12      68.73  1975      7   12\n",
       "4     1975-07-13      68.73  1975      7   13\n",
       "...          ...        ...   ...    ...  ...\n",
       "17640 2023-10-25  511500.00  2023     10   25\n",
       "17641 2023-10-26  517000.00  2023     10   26\n",
       "17642 2023-10-27  517000.00  2023     10   27\n",
       "17643 2023-10-28  521500.00  2023     10   28\n",
       "17644 2023-10-29  520000.00  2023     10   29\n",
       "\n",
       "[17645 rows x 5 columns]"
      ]
     },
     "execution_count": 348,
     "metadata": {},
     "output_type": "execute_result"
    }
   ],
   "source": [
    "dollar"
   ]
  },
  {
   "cell_type": "code",
   "execution_count": 358,
   "metadata": {},
   "outputs": [],
   "source": [
    "dollar.year = dollar.year[dollar.year > 2018]\n",
    "dollar = dollar[~dollar.year.isna()]"
   ]
  },
  {
   "cell_type": "code",
   "execution_count": 359,
   "metadata": {},
   "outputs": [
    {
     "data": {
      "text/html": [
       "<div>\n",
       "<style scoped>\n",
       "    .dataframe tbody tr th:only-of-type {\n",
       "        vertical-align: middle;\n",
       "    }\n",
       "\n",
       "    .dataframe tbody tr th {\n",
       "        vertical-align: top;\n",
       "    }\n",
       "\n",
       "    .dataframe thead th {\n",
       "        text-align: right;\n",
       "    }\n",
       "</style>\n",
       "<table border=\"1\" class=\"dataframe\">\n",
       "  <thead>\n",
       "    <tr style=\"text-align: right;\">\n",
       "      <th></th>\n",
       "      <th>date</th>\n",
       "      <th>close</th>\n",
       "      <th>year</th>\n",
       "      <th>month</th>\n",
       "      <th>day</th>\n",
       "    </tr>\n",
       "  </thead>\n",
       "  <tbody>\n",
       "    <tr>\n",
       "      <th>15882</th>\n",
       "      <td>2019-01-01</td>\n",
       "      <td>104900.0</td>\n",
       "      <td>2019.0</td>\n",
       "      <td>1</td>\n",
       "      <td>1</td>\n",
       "    </tr>\n",
       "    <tr>\n",
       "      <th>15883</th>\n",
       "      <td>2019-01-02</td>\n",
       "      <td>106700.0</td>\n",
       "      <td>2019.0</td>\n",
       "      <td>1</td>\n",
       "      <td>2</td>\n",
       "    </tr>\n",
       "    <tr>\n",
       "      <th>15884</th>\n",
       "      <td>2019-01-03</td>\n",
       "      <td>107000.0</td>\n",
       "      <td>2019.0</td>\n",
       "      <td>1</td>\n",
       "      <td>3</td>\n",
       "    </tr>\n",
       "    <tr>\n",
       "      <th>15885</th>\n",
       "      <td>2019-01-04</td>\n",
       "      <td>107200.0</td>\n",
       "      <td>2019.0</td>\n",
       "      <td>1</td>\n",
       "      <td>4</td>\n",
       "    </tr>\n",
       "    <tr>\n",
       "      <th>15886</th>\n",
       "      <td>2019-01-05</td>\n",
       "      <td>106700.0</td>\n",
       "      <td>2019.0</td>\n",
       "      <td>1</td>\n",
       "      <td>5</td>\n",
       "    </tr>\n",
       "    <tr>\n",
       "      <th>...</th>\n",
       "      <td>...</td>\n",
       "      <td>...</td>\n",
       "      <td>...</td>\n",
       "      <td>...</td>\n",
       "      <td>...</td>\n",
       "    </tr>\n",
       "    <tr>\n",
       "      <th>17640</th>\n",
       "      <td>2023-10-25</td>\n",
       "      <td>511500.0</td>\n",
       "      <td>2023.0</td>\n",
       "      <td>10</td>\n",
       "      <td>25</td>\n",
       "    </tr>\n",
       "    <tr>\n",
       "      <th>17641</th>\n",
       "      <td>2023-10-26</td>\n",
       "      <td>517000.0</td>\n",
       "      <td>2023.0</td>\n",
       "      <td>10</td>\n",
       "      <td>26</td>\n",
       "    </tr>\n",
       "    <tr>\n",
       "      <th>17642</th>\n",
       "      <td>2023-10-27</td>\n",
       "      <td>517000.0</td>\n",
       "      <td>2023.0</td>\n",
       "      <td>10</td>\n",
       "      <td>27</td>\n",
       "    </tr>\n",
       "    <tr>\n",
       "      <th>17643</th>\n",
       "      <td>2023-10-28</td>\n",
       "      <td>521500.0</td>\n",
       "      <td>2023.0</td>\n",
       "      <td>10</td>\n",
       "      <td>28</td>\n",
       "    </tr>\n",
       "    <tr>\n",
       "      <th>17644</th>\n",
       "      <td>2023-10-29</td>\n",
       "      <td>520000.0</td>\n",
       "      <td>2023.0</td>\n",
       "      <td>10</td>\n",
       "      <td>29</td>\n",
       "    </tr>\n",
       "  </tbody>\n",
       "</table>\n",
       "<p>1763 rows × 5 columns</p>\n",
       "</div>"
      ],
      "text/plain": [
       "            date     close    year  month  day\n",
       "15882 2019-01-01  104900.0  2019.0      1    1\n",
       "15883 2019-01-02  106700.0  2019.0      1    2\n",
       "15884 2019-01-03  107000.0  2019.0      1    3\n",
       "15885 2019-01-04  107200.0  2019.0      1    4\n",
       "15886 2019-01-05  106700.0  2019.0      1    5\n",
       "...          ...       ...     ...    ...  ...\n",
       "17640 2023-10-25  511500.0  2023.0     10   25\n",
       "17641 2023-10-26  517000.0  2023.0     10   26\n",
       "17642 2023-10-27  517000.0  2023.0     10   27\n",
       "17643 2023-10-28  521500.0  2023.0     10   28\n",
       "17644 2023-10-29  520000.0  2023.0     10   29\n",
       "\n",
       "[1763 rows x 5 columns]"
      ]
     },
     "execution_count": 359,
     "metadata": {},
     "output_type": "execute_result"
    }
   ],
   "source": [
    "dollar"
   ]
  },
  {
   "cell_type": "code",
   "execution_count": 376,
   "metadata": {},
   "outputs": [],
   "source": [
    "dollar_2019 = dollar[dollar.year == 2019]\n",
    "dollar_2020 = dollar[dollar.year == 2020]\n",
    "dollar_2021 = dollar[dollar.year == 2021]\n",
    "dollar_2022 = dollar[dollar.year == 2022]\n",
    "dollar_2023 = dollar[dollar.year == 2023]\n"
   ]
  },
  {
   "attachments": {},
   "cell_type": "markdown",
   "metadata": {},
   "source": [
    "- 1398 = 21/3/2019 - 19/3/2020\n",
    "- 1399 = 20/3/2020 - 20/3/2021\n",
    "- 1400 = 21/3/2021 - 20/3/2022\n",
    "- 1401 = 21/3/2022 - 20/3/2023"
   ]
  },
  {
   "cell_type": "code",
   "execution_count": 407,
   "metadata": {},
   "outputs": [],
   "source": [
    "dollar98_1 = dollar_2019.loc[dollar_2019['month'] > 2]\n",
    "dollar98_1 = dollar98_1.loc[dollar98_1['day'] > 20]\n",
    "dollar98_2 = dollar_2020.loc[dollar_2020['month'] < 4]\n",
    "dollar98_2 = dollar98_2.loc[dollar98_2['day'] < 20]"
   ]
  },
  {
   "cell_type": "code",
   "execution_count": 412,
   "metadata": {},
   "outputs": [],
   "source": [
    "dollar98 = (dollar98_1.close.mean() + dollar98_2.close.mean()) / 2"
   ]
  },
  {
   "cell_type": "code",
   "execution_count": 413,
   "metadata": {},
   "outputs": [],
   "source": [
    "# 1399 = 20/3/2020 - 20/3/2021\n",
    "dollar99_1 = dollar_2020.loc[dollar_2020['month'] > 2]\n",
    "dollar99_1 = dollar99_1.loc[dollar99_1['day'] > 19]\n",
    "dollar99_2 = dollar_2021.loc[dollar_2021['month'] < 4]\n",
    "dollar99_2 = dollar99_2.loc[dollar99_2['day'] < 21]"
   ]
  },
  {
   "cell_type": "code",
   "execution_count": 414,
   "metadata": {},
   "outputs": [],
   "source": [
    "dollar99 = (dollar99_1.close.mean() + dollar99_2.close.mean()) / 2"
   ]
  },
  {
   "cell_type": "code",
   "execution_count": 416,
   "metadata": {},
   "outputs": [],
   "source": [
    "# 1400 = 21/3/2021 - 20/3/2022\n",
    "dollar1400_1 = dollar_2021.loc[dollar_2021['month'] > 2]\n",
    "dollar1400_1 = dollar1400_1.loc[dollar1400_1['day'] > 20]\n",
    "dollar1400_2 = dollar_2022.loc[dollar_2022['month'] < 4]\n",
    "dollar1400_2 = dollar1400_2.loc[dollar1400_2['day'] < 21]"
   ]
  },
  {
   "cell_type": "code",
   "execution_count": 417,
   "metadata": {},
   "outputs": [],
   "source": [
    "dollar1400 = (dollar1400_1.close.mean() + dollar1400_2.close.mean()) / 2"
   ]
  },
  {
   "cell_type": "code",
   "execution_count": 419,
   "metadata": {},
   "outputs": [],
   "source": [
    "# 1401 = 21/3/2022 - 20/3/2023\n",
    "dollar1401_1 = dollar_2022.loc[dollar_2022['month'] > 2]\n",
    "dollar1401_1 = dollar1401_1.loc[dollar1401_1['day'] > 20]\n",
    "dollar1401_2 = dollar_2023.loc[dollar_2023['month'] < 4]\n",
    "dollar1401_2 = dollar1401_2.loc[dollar1401_2['day'] < 21]"
   ]
  },
  {
   "cell_type": "code",
   "execution_count": 420,
   "metadata": {},
   "outputs": [],
   "source": [
    "dollar1401 = (dollar1401_1.close.mean() + dollar1401_2.close.mean()) / 2"
   ]
  },
  {
   "cell_type": "code",
   "execution_count": 421,
   "metadata": {},
   "outputs": [
    {
     "name": "stdout",
     "output_type": "stream",
     "text": [
      "134607.03409467064\n",
      "236036.9827586207\n",
      "267272.66509433964\n",
      "386627.1855345912\n"
     ]
    }
   ],
   "source": [
    "print(dollar98)\n",
    "print(dollar99)\n",
    "print(dollar1400)\n",
    "print(dollar1401)"
   ]
  },
  {
   "cell_type": "code",
   "execution_count": 422,
   "metadata": {},
   "outputs": [
    {
     "name": "stdout",
     "output_type": "stream",
     "text": [
      "134607\n",
      "236036\n",
      "267272\n",
      "386627\n"
     ]
    }
   ],
   "source": [
    "print(int(dollar98))\n",
    "print(int(dollar99))\n",
    "print(int(dollar1400))\n",
    "print(int(dollar1401))"
   ]
  },
  {
   "attachments": {},
   "cell_type": "markdown",
   "metadata": {},
   "source": [
    " - dollar98 = 134607\n",
    " - dollar99 = 236036\n",
    " - dollar1400 = 267272\n",
    " - dollar1401 = 386627"
   ]
  },
  {
   "cell_type": "code",
   "execution_count": null,
   "metadata": {},
   "outputs": [],
   "source": []
  }
 ],
 "metadata": {
  "kernelspec": {
   "display_name": "venv",
   "language": "python",
   "name": "python3"
  },
  "language_info": {
   "codemirror_mode": {
    "name": "ipython",
    "version": 3
   },
   "file_extension": ".py",
   "mimetype": "text/x-python",
   "name": "python",
   "nbconvert_exporter": "python",
   "pygments_lexer": "ipython3",
   "version": "3.9.6"
  },
  "orig_nbformat": 4,
  "vscode": {
   "interpreter": {
    "hash": "9400284a0ef70becef75eeb1c015f314df36300ea42313f71f668894b3f3147e"
   }
  }
 },
 "nbformat": 4,
 "nbformat_minor": 2
}
