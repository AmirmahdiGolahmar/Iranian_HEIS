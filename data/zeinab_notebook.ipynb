{
 "cells": [
  {
   "cell_type": "code",
   "execution_count": 823,
   "metadata": {},
   "outputs": [],
   "source": [
    "# import all libraries\n",
    "import numpy as np\n",
    "import pandas as pd\n",
    "import os\n",
    "import datetime\n",
    "import matplotlib.pyplot as plt\n",
    "import seaborn as sns"
   ]
  },
  {
   "cell_type": "code",
   "execution_count": 423,
   "metadata": {},
   "outputs": [
    {
     "data": {
      "text/plain": [
       "True"
      ]
     },
     "execution_count": 423,
     "metadata": {},
     "output_type": "execute_result"
    }
   ],
   "source": [
    "os.getcwd()\n",
    "os.path.exists(\"/Users/zeinab/Downloads/Project1_data\")"
   ]
  },
  {
   "attachments": {},
   "cell_type": "markdown",
   "metadata": {},
   "source": [
    "# Read all sheet in a year"
   ]
  },
  {
   "cell_type": "code",
   "execution_count": 932,
   "metadata": {},
   "outputs": [],
   "source": [
    "#all datasets\n",
    "all_files_name = [\"R98.xlsx\", \"R99.xlsx\", \"R1400.xlsx\", \"R1401.xlsx\", \"U98.xlsx\", \"U99.xlsx\", \"U1400.xlsx\", \"U1401.xlsx\"]\n",
    "path_data = \"/Users/zeinab/Downloads/Project1_data/\"\n",
    "Year = \"U1401\""
   ]
  },
  {
   "cell_type": "code",
   "execution_count": 933,
   "metadata": {},
   "outputs": [],
   "source": [
    "# #Read all sheets for a Year\n",
    "# data = pd.read_excel(path_data + all_files_name[4], Year + 'Data')\n",
    "P1 = pd.read_excel(path_data + all_files_name[7], Year + 'P1')\n",
    "# P2 = pd.read_excel(path_data + all_files_name[4], Year + 'P2')\n",
    "# P3S01 = pd.read_excel(path_data + all_files_name[3], Year + 'P3S01')\n",
    "# P3S02 = pd.read_excel(path_data + all_files_name[3], Year + 'P3S02')\n",
    "# P3S03 = pd.read_excel(path_data + all_files_name[3], Year + 'P3S03')\n",
    "# P3S04 = pd.read_excel(path_data + all_files_name[4], Year + 'P3S04')\n",
    "# P3S05 = pd.read_excel(path_data + all_files_name[3], Year + 'P3S05')\n",
    "# P3S06 = pd.read_excel(path_data + all_files_name[3], Year + 'P3S06')\n",
    "# P3S07 = pd.read_excel(path_data + all_files_name[3], Year + 'P3S07')\n",
    "# P3S08 = pd.read_excel(path_data + all_files_name[3], Year + 'P3S08')\n",
    "# P3S09 = pd.read_excel(path_data + all_files_name[3], Year + 'P3S09')\n",
    "# P3S11 = pd.read_excel(path_data + all_files_name[3], Year + 'P3S11')\n",
    "# P3S12 = pd.read_excel(path_data + all_files_name[3], Year + 'P3S12')\n",
    "# P3S13 = pd.read_excel(path_data + all_files_name[3], Year + 'P3S13')\n",
    "# P3S14 = pd.read_excel(path_data + all_files_name[3], Year + 'P3S14')\n",
    "# P4S01 = pd.read_excel(path_data + all_files_name[3], Year + 'P4S01')\n",
    "# P4S02 = pd.read_excel(path_data + all_files_name[3], Year + 'P4S02')\n",
    "# P4S03 = pd.read_excel(path_data + all_files_name[3], Year + 'P4S03')\n",
    "# P4S04 = pd.read_excel(path_data + all_files_name[3], Year + 'P4S04')\n"
   ]
  },
  {
   "cell_type": "code",
   "execution_count": 804,
   "metadata": {},
   "outputs": [
    {
     "name": "stdout",
     "output_type": "stream",
     "text": [
      "<class 'pandas.core.frame.DataFrame'>\n",
      "RangeIndex: 19898 entries, 0 to 19897\n",
      "Data columns (total 17 columns):\n",
      " #   Column          Non-Null Count  Dtype  \n",
      "---  ------          --------------  -----  \n",
      " 0   Address         19898 non-null  int64  \n",
      " 1   MahMorajeh      19898 non-null  int64  \n",
      " 2   Fasl            19898 non-null  int64  \n",
      " 3   weight          19898 non-null  float64\n",
      " 4   khanevartype    19898 non-null  int64  \n",
      " 5   Takmil          19898 non-null  int64  \n",
      " 6   TakmilDescA     0 non-null      float64\n",
      " 7   TakmilDescB     4724 non-null   float64\n",
      " 8   TakmilDescC     34 non-null     object \n",
      " 9   Jaygozin        4724 non-null   float64\n",
      " 10  JaygozinDescA   0 non-null      float64\n",
      " 11  JaygozinDescB   0 non-null      float64\n",
      " 12  JaygozinDescC   0 non-null      float64\n",
      " 13  BlkAbdJaygozin  4724 non-null   float64\n",
      " 14  RadifJaygozin   4724 non-null   float64\n",
      " 15  province        19898 non-null  object \n",
      " 16  town            19898 non-null  int64  \n",
      "dtypes: float64(9), int64(6), object(2)\n",
      "memory usage: 2.6+ MB\n"
     ]
    }
   ],
   "source": [
    "data.info()"
   ]
  },
  {
   "attachments": {},
   "cell_type": "markdown",
   "metadata": {},
   "source": [
    "آمار توصیفی\n",
    "- 1\n",
    "\n",
    "توزیع اطلاعات خانوار (میزان degree، age، relation، وضع فعاليت) را رسم نمایید.\n",
    "- 2\n",
    "\n",
    "توزیع استفاده‌ی خانوارها از وسایل نقلیه (ماشین، موتور، دوچرخه و …) به تفکیک سال\n",
    "\n",
    "- 3 \n",
    "\n",
    "توزیع حقوق بازنشستگان و هزینه اجاره املاک (مسکن، باغ و …) به تفکیک سال در یک نمودار تجمیعی\n",
    "\n",
    "- 4 \n",
    "\n",
    "ترند هزینه خانوار برای در هر سال برای غذاهای آماده، هتل و رستوران رسم نمایید.\n",
    "\n",
    "- 5 \n",
    "\n",
    " ماتریس هم‌بستگی را برای هزینه‌های پوشاک و كفش خانوار، هزينه‌هاي خوراكي خانوار، هزينه‌های مسكن، آب، فاضلاب، سوخت و روشنايي خانوار و هزينه‌هاي بهداشتي و درماني خانوار رسم نمایید.\n",
    "\n",
    "- 6 \n",
    "\n",
    "تعاریف زیر را در نظر بگیرید:\n",
    "درآمد حقیقی: میزان درآمد با در نظر گرفتن تورم و تنزیل کردن آن\n",
    "درآمد اسمی: میزان درآمد بدون در نظر گرفتن تورم\n",
    "با توجه به تعاریف بالا، روند میزان درآمد اسمی و درآمد حقیقی را در یک صفحه رسم نمایید.\n"
   ]
  },
  {
   "attachments": {},
   "cell_type": "markdown",
   "metadata": {},
   "source": [
    "# Question 1"
   ]
  },
  {
   "cell_type": "code",
   "execution_count": 934,
   "metadata": {},
   "outputs": [
    {
     "name": "stderr",
     "output_type": "stream",
     "text": [
      "/var/folders/7y/37m2bn3d6y778v332m4hd77c0000gn/T/ipykernel_68045/2706736989.py:6: FutureWarning: A value is trying to be set on a copy of a DataFrame or Series through chained assignment using an inplace method.\n",
      "The behavior will change in pandas 3.0. This inplace method will never work because the intermediate object on which we are setting values always behaves as a copy.\n",
      "\n",
      "For example, when doing 'df[col].method(value, inplace=True)', try using 'df.method({col: value}, inplace=True)' or df[col] = df[col].method(value) instead, to perform the operation inplace on the original object.\n",
      "\n",
      "\n",
      "  df.degree.fillna(\"illiterate\", inplace=True)\n",
      "/var/folders/7y/37m2bn3d6y778v332m4hd77c0000gn/T/ipykernel_68045/2706736989.py:6: SettingWithCopyWarning: \n",
      "A value is trying to be set on a copy of a slice from a DataFrame\n",
      "\n",
      "See the caveats in the documentation: https://pandas.pydata.org/pandas-docs/stable/user_guide/indexing.html#returning-a-view-versus-a-copy\n",
      "  df.degree.fillna(\"illiterate\", inplace=True)\n",
      "/var/folders/7y/37m2bn3d6y778v332m4hd77c0000gn/T/ipykernel_68045/2706736989.py:7: FutureWarning: A value is trying to be set on a copy of a DataFrame or Series through chained assignment using an inplace method.\n",
      "The behavior will change in pandas 3.0. This inplace method will never work because the intermediate object on which we are setting values always behaves as a copy.\n",
      "\n",
      "For example, when doing 'df[col].method(value, inplace=True)', try using 'df.method({col: value}, inplace=True)' or df[col] = df[col].method(value) instead, to perform the operation inplace on the original object.\n",
      "\n",
      "\n",
      "  df.occupationalst.fillna(\"Other\",inplace=True)\n",
      "/var/folders/7y/37m2bn3d6y778v332m4hd77c0000gn/T/ipykernel_68045/2706736989.py:7: SettingWithCopyWarning: \n",
      "A value is trying to be set on a copy of a slice from a DataFrame\n",
      "\n",
      "See the caveats in the documentation: https://pandas.pydata.org/pandas-docs/stable/user_guide/indexing.html#returning-a-view-versus-a-copy\n",
      "  df.occupationalst.fillna(\"Other\",inplace=True)\n",
      "/var/folders/7y/37m2bn3d6y778v332m4hd77c0000gn/T/ipykernel_68045/2706736989.py:20: FutureWarning: A value is trying to be set on a copy of a DataFrame or Series through chained assignment using an inplace method.\n",
      "The behavior will change in pandas 3.0. This inplace method will never work because the intermediate object on which we are setting values always behaves as a copy.\n",
      "\n",
      "For example, when doing 'df[col].method(value, inplace=True)', try using 'df.method({col: value}, inplace=True)' or df[col] = df[col].method(value) instead, to perform the operation inplace on the original object.\n",
      "\n",
      "\n",
      "  test.occupationalst.fillna(\"Student\", inplace=True)\n"
     ]
    }
   ],
   "source": [
    "# read spesific file\n",
    "P1_test = P1[[\"Address\", \"relation\", \"age\", \"degree\", \"occupationalst\"]]\n",
    "\n",
    "# find all age < 6 and fill the null cells\n",
    "df = P1_test[P1_test.age < 6]\n",
    "df.degree.fillna(\"illiterate\", inplace=True)\n",
    "df.occupationalst.fillna(\"Other\",inplace=True)\n",
    "\n",
    "dele = P1_test[P1_test.age < 6]\n",
    "dele = P1_test[((P1_test.age < 6))].index\n",
    "P1_test = P1_test.drop(dele)\n",
    "P1_test = pd.concat([P1_test, df])\n",
    "\n",
    "# find all age < 11 and fill the null cells\n",
    "\n",
    "# (P1_test[(P1_test.age < 11) & (P1_test.degree == 'Elemantry') & (P1_test.occupationalst.isna())]).occupationalst.fillna(\"Student\", inplace=True)\n",
    "# P1_test[(P1_test.age < 11) & (P1_test.degree == 'Elemantry') & (P1_test.occupationalst.isna())]\n",
    "test = P1_test[(P1_test.age < 11) & (P1_test.degree == 'Elemantry') & (P1_test.occupationalst.isna())]\n",
    "P1_test = P1_test.drop(test.index)\n",
    "test.occupationalst.fillna(\"Student\", inplace=True)\n",
    "P1_test = pd.concat([P1_test, test])\n",
    "\n",
    "# drop null degree's rows & occupationalst's rows\n",
    "P1_test=P1_test[~P1_test.degree.isna()]\n",
    "P1_U1401=P1_test[~P1_test.occupationalst.isna()]"
   ]
  },
  {
   "cell_type": "code",
   "execution_count": 935,
   "metadata": {},
   "outputs": [],
   "source": [
    "all_q1 = pd.concat([P1_U98, P1_U99, P1_U1400, P1_U1401, P1_R98, P1_R99, P1_R1400, P1_R1401])\n",
    "all_q1.to_csv('q1.csv', encoding='utf-8', index=False)\n"
   ]
  },
  {
   "cell_type": "code",
   "execution_count": 936,
   "metadata": {},
   "outputs": [
    {
     "data": {
      "image/png": "[encoded data removed]",
      "text/plain": [
       "<Figure size 1600x1200 with 4 Axes>"
      ]
     },
     "metadata": {},
     "output_type": "display_data"
    }
   ],
   "source": [
    "sns.set(style=\"whitegrid\")\n",
    "fig, axes = plt.subplots(2, 2, figsize=(16, 12))\n",
    "\n",
    "# Distribution of household age (subplot 1)\n",
    "sns.histplot(all_q1['age'], kde=True, bins=8, ax=axes[0, 0])\n",
    "axes[0, 0].set_title('Distribution of household age')\n",
    "axes[0, 0].set_xlabel('age')\n",
    "axes[0, 0].set_ylabel('number')\n",
    "\n",
    "# Distribution of household degree (subplot 2)\n",
    "sns.countplot(y=all_q1['degree'], order=all_q1['degree'].value_counts().index, ax=axes[0, 1])\n",
    "axes[0, 1].set_title('Distribution of household degree')\n",
    "axes[0, 1].set_xlabel('number')\n",
    "axes[0, 1].set_ylabel('degree')\n",
    "\n",
    "# Distribution of household relation (subplot 3)\n",
    "sns.countplot(y=all_q1['relation'], order=all_q1['relation'].value_counts().index, ax=axes[1, 0])\n",
    "axes[1, 0].set_title('Distribution of household relation')\n",
    "axes[1, 0].set_xlabel('number')\n",
    "axes[1, 0].set_ylabel('relation')\n",
    "\n",
    "# Distribution of household occupationalst (subplot 4)\n",
    "sns.countplot(y=all_q1['occupationalst'], order=all_q1['occupationalst'].value_counts().index, ax=axes[1, 1])\n",
    "axes[1, 1].set_title('Distribution of household occupationalst')\n",
    "axes[1, 1].set_xlabel('number')\n",
    "axes[1, 1].set_ylabel('occupationalst')\n",
    "\n",
    "plt.tight_layout()\n",
    "plt.show()\n",
    "\n"
   ]
  },
  {
   "attachments": {},
   "cell_type": "markdown",
   "metadata": {},
   "source": [
    "# Question 2"
   ]
  },
  {
   "cell_type": "code",
   "execution_count": null,
   "metadata": {},
   "outputs": [
    {
     "data": {
      "text/plain": [
       "Index(['Address', 'tenure', 'room', 'space', 'construction', 'material',\n",
       "       'vehicle', 'motorcycle', 'bicycle', 'radio', 'radiotape', 'TVbw', 'TV',\n",
       "       'VHS_VCD_DVD', 'computer', 'cellphone', 'freezer', 'refridgerator',\n",
       "       'fridge', 'stove', 'vacuum', 'washingmachine', 'sewingmachine', 'fan',\n",
       "       'evapcoolingportable', 'splitportable', 'dishwasher', 'microwave',\n",
       "       'none', 'pipewater', 'electricity', 'pipegas', 'telephone', 'internet',\n",
       "       'bathroom', 'kitchen', 'evapcooling', 'centralcooling',\n",
       "       'centralheating', 'package', 'split', 'wastewater', 'cookingfuel',\n",
       "       'heatingfuel', 'waterheatingfuel'],\n",
       "      dtype='object')"
      ]
     },
     "execution_count": 170,
     "metadata": {},
     "output_type": "execute_result"
    }
   ],
   "source": [
    "P2.keys()"
   ]
  },
  {
   "cell_type": "code",
   "execution_count": null,
   "metadata": {},
   "outputs": [],
   "source": [
    "P2_test = P2[[\"Address\", \"vehicle\", \"motorcycle\", \"bicycle\"]]"
   ]
  },
  {
   "cell_type": "code",
   "execution_count": null,
   "metadata": {},
   "outputs": [
    {
     "name": "stdout",
     "output_type": "stream",
     "text": [
      "<class 'pandas.core.frame.DataFrame'>\n",
      "RangeIndex: 18430 entries, 0 to 18429\n",
      "Data columns (total 4 columns):\n",
      " #   Column      Non-Null Count  Dtype\n",
      "---  ------      --------------  -----\n",
      " 0   Address     18430 non-null  int64\n",
      " 1   vehicle     18430 non-null  bool \n",
      " 2   motorcycle  18430 non-null  bool \n",
      " 3   bicycle     18430 non-null  bool \n",
      "dtypes: bool(3), int64(1)\n",
      "memory usage: 198.1 KB\n"
     ]
    }
   ],
   "source": [
    "P2_test.info()"
   ]
  },
  {
   "cell_type": "code",
   "execution_count": null,
   "metadata": {},
   "outputs": [],
   "source": []
  },
  {
   "attachments": {},
   "cell_type": "markdown",
   "metadata": {},
   "source": [
    "# Question 4\n"
   ]
  },
  {
   "cell_type": "code",
   "execution_count": null,
   "metadata": {},
   "outputs": [
    {
     "name": "stdout",
     "output_type": "stream",
     "text": [
      "<class 'pandas.core.frame.DataFrame'>\n",
      "RangeIndex: 11269 entries, 0 to 11268\n",
      "Data columns (total 4 columns):\n",
      " #   Column     Non-Null Count  Dtype\n",
      "---  ------     --------------  -----\n",
      " 0   Address    11269 non-null  int64\n",
      " 1   code       11269 non-null  int64\n",
      " 2   purchased  11269 non-null  int64\n",
      " 3   value      11269 non-null  int64\n",
      "dtypes: int64(4)\n",
      "memory usage: 352.3 KB\n"
     ]
    }
   ],
   "source": [
    "P3S11.info()"
   ]
  },
  {
   "cell_type": "code",
   "execution_count": null,
   "metadata": {},
   "outputs": [
    {
     "name": "stdout",
     "output_type": "stream",
     "text": [
      "Unexpected exception formatting exception. Falling back to standard exception\n"
     ]
    },
    {
     "name": "stderr",
     "output_type": "stream",
     "text": [
      "Traceback (most recent call last):\n",
      "  File \"/Users/zeinab/Documents/venv/lib/python3.9/site-packages/IPython/core/formatters.py\", line 221, in catch_format_error\n",
      "    r = method(self, *args, **kwargs)\n",
      "  File \"/Users/zeinab/Documents/venv/lib/python3.9/site-packages/IPython/core/formatters.py\", line 342, in __call__\n",
      "    return method()\n",
      "  File \"/Users/zeinab/Documents/venv/lib/python3.9/site-packages/pandas/core/frame.py\", line 1106, in _repr_html_\n",
      "  File \"/Users/zeinab/Documents/venv/lib/python3.9/site-packages/pandas/io/formats/format.py\", line 1110, in to_html\n",
      "    When formatting an Index subclass\n",
      "  File \"/Users/zeinab/Documents/venv/lib/python3.9/site-packages/pandas/io/formats/html.py\", line 88, in to_string\n",
      "    lines = self.render()\n",
      "  File \"/Users/zeinab/Documents/venv/lib/python3.9/site-packages/pandas/io/formats/html.py\", line 644, in render\n",
      "    super().render()\n",
      "  File \"/Users/zeinab/Documents/venv/lib/python3.9/site-packages/pandas/io/formats/html.py\", line 94, in render\n",
      "    self._write_table()\n",
      "  File \"/Users/zeinab/Documents/venv/lib/python3.9/site-packages/pandas/io/formats/html.py\", line 267, in _write_table\n",
      "    self._write_header(indent + self.indent_delta)\n",
      "  File \"/Users/zeinab/Documents/venv/lib/python3.9/site-packages/pandas/io/formats/html.py\", line 403, in _write_header\n",
      "    self._write_col_header(indent + self.indent_delta)\n",
      "  File \"/Users/zeinab/Documents/venv/lib/python3.9/site-packages/pandas/io/formats/html.py\", line 383, in _write_col_header\n",
      "    row.extend(self._get_columns_formatted_values())\n",
      "  File \"/Users/zeinab/Documents/venv/lib/python3.9/site-packages/pandas/io/formats/html.py\", line 611, in _get_columns_formatted_values\n",
      "    return self.columns._format_flat(include_name=False)\n",
      "AttributeError: 'Index' object has no attribute '_format_flat'\n",
      "\n",
      "During handling of the above exception, another exception occurred:\n",
      "\n",
      "Traceback (most recent call last):\n",
      "  File \"/Users/zeinab/Documents/venv/lib/python3.9/site-packages/IPython/core/interactiveshell.py\", line 2057, in showtraceback\n",
      "    stb = self.InteractiveTB.structured_traceback(\n",
      "  File \"/Users/zeinab/Documents/venv/lib/python3.9/site-packages/IPython/core/ultratb.py\", line 1118, in structured_traceback\n",
      "    return FormattedTB.structured_traceback(\n",
      "  File \"/Users/zeinab/Documents/venv/lib/python3.9/site-packages/IPython/core/ultratb.py\", line 1012, in structured_traceback\n",
      "    return VerboseTB.structured_traceback(\n",
      "  File \"/Users/zeinab/Documents/venv/lib/python3.9/site-packages/IPython/core/ultratb.py\", line 865, in structured_traceback\n",
      "    formatted_exception = self.format_exception_as_a_whole(etype, evalue, etb, number_of_lines_of_context,\n",
      "  File \"/Users/zeinab/Documents/venv/lib/python3.9/site-packages/IPython/core/ultratb.py\", line 818, in format_exception_as_a_whole\n",
      "    frames.append(self.format_record(r))\n",
      "  File \"/Users/zeinab/Documents/venv/lib/python3.9/site-packages/IPython/core/ultratb.py\", line 736, in format_record\n",
      "    result += ''.join(_format_traceback_lines(frame_info.lines, Colors, self.has_colors, lvals))\n",
      "  File \"/Users/zeinab/Documents/venv/lib/python3.9/site-packages/stack_data/utils.py\", line 144, in cached_property_wrapper\n",
      "    value = obj.__dict__[self.func.__name__] = self.func(obj)\n",
      "  File \"/Users/zeinab/Documents/venv/lib/python3.9/site-packages/stack_data/core.py\", line 734, in lines\n",
      "    pieces = self.included_pieces\n",
      "  File \"/Users/zeinab/Documents/venv/lib/python3.9/site-packages/stack_data/utils.py\", line 144, in cached_property_wrapper\n",
      "    value = obj.__dict__[self.func.__name__] = self.func(obj)\n",
      "  File \"/Users/zeinab/Documents/venv/lib/python3.9/site-packages/stack_data/core.py\", line 681, in included_pieces\n",
      "    pos = scope_pieces.index(self.executing_piece)\n",
      "  File \"/Users/zeinab/Documents/venv/lib/python3.9/site-packages/stack_data/utils.py\", line 144, in cached_property_wrapper\n",
      "    value = obj.__dict__[self.func.__name__] = self.func(obj)\n",
      "  File \"/Users/zeinab/Documents/venv/lib/python3.9/site-packages/stack_data/core.py\", line 660, in executing_piece\n",
      "    return only(\n",
      "  File \"/Users/zeinab/Documents/venv/lib/python3.9/site-packages/executing/executing.py\", line 190, in only\n",
      "    raise NotOneValueFound('Expected one value, found 0')\n",
      "executing.executing.NotOneValueFound: Expected one value, found 0\n"
     ]
    },
    {
     "data": {
      "text/plain": [
       "           Address   code  mortgage purchased    value\n",
       "0      20011395420  42111       NaN       NaN  1000000\n",
       "1      20011395420  44418       NaN         1    20000\n",
       "2      20011395420  45111       NaN         1   350000\n",
       "3      20011395420  45211       NaN         1   200000\n",
       "4      20001385412  42111       NaN       NaN  1500000\n",
       "...            ...    ...       ...       ...      ...\n",
       "68762  23006709423  44411       NaN         1   200000\n",
       "68763  23006709423  44412       NaN         1   200000\n",
       "68764  23006709423  44413       NaN         1   100000\n",
       "68765  23006709423  45111       NaN         1   450000\n",
       "68766  23006709423  45211       NaN         1   320000\n",
       "\n",
       "[68767 rows x 5 columns]"
      ]
     },
     "execution_count": 178,
     "metadata": {},
     "output_type": "execute_result"
    }
   ],
   "source": [
    "P3S04"
   ]
  },
  {
   "attachments": {},
   "cell_type": "markdown",
   "metadata": {},
   "source": [
    "# Fateme - arzesh khane U & R"
   ]
  },
  {
   "cell_type": "code",
   "execution_count": 701,
   "metadata": {},
   "outputs": [],
   "source": [
    "P2_test = P2[['Address', 'space']]"
   ]
  },
  {
   "cell_type": "code",
   "execution_count": 702,
   "metadata": {},
   "outputs": [
    {
     "data": {
      "text/plain": [
       "(3491, 5)"
      ]
     },
     "execution_count": 702,
     "metadata": {},
     "output_type": "execute_result"
    }
   ],
   "source": [
    "U98P3S04 = P3S04[P3S04.code ==  42212]\n",
    "U98P3S04.shape"
   ]
  },
  {
   "cell_type": "code",
   "execution_count": 703,
   "metadata": {},
   "outputs": [
    {
     "data": {
      "text/plain": [
       "3491"
      ]
     },
     "execution_count": 703,
     "metadata": {},
     "output_type": "execute_result"
    }
   ],
   "source": [
    "(list(map(lambda x: x in list(U98P3S04.Address), list(P2_test.Address)))).count(True)"
   ]
  },
  {
   "cell_type": "code",
   "execution_count": 704,
   "metadata": {},
   "outputs": [],
   "source": [
    "U98P3S04.set_index('Address', inplace=True)\n",
    "P2_test.set_index('Address', inplace=True)"
   ]
  },
  {
   "cell_type": "code",
   "execution_count": 705,
   "metadata": {},
   "outputs": [],
   "source": [
    "# meterR1401['mortgage'] = pd.to_numeric(meterR1401['mortgage'], errors='coerce')"
   ]
  },
  {
   "attachments": {},
   "cell_type": "markdown",
   "metadata": {},
   "source": [
    " - dollar98 = 134607\n",
    " - dollar99 = 236036\n",
    " - dollar1400 = 267272\n",
    " - dollar1401 = 386627"
   ]
  },
  {
   "cell_type": "code",
   "execution_count": 707,
   "metadata": {},
   "outputs": [],
   "source": [
    "meterU98 = pd.concat([P2_test, U98P3S04], axis=1, join=\"inner\")\n",
    "meterU98['mortgage'] = pd.to_numeric(meterU98['mortgage'], errors='coerce')\n",
    "meterU98['per_meter'] = meterU98['mortgage'] / meterU98['space']\n",
    "meterU98['per_meter'] = meterU98['per_meter'] / 134607\n",
    "meterU98 = meterU98.rename_axis(index=None, columns='Address')"
   ]
  },
  {
   "cell_type": "code",
   "execution_count": 708,
   "metadata": {},
   "outputs": [],
   "source": [
    "meterU98 = meterU98[~meterU98.per_meter.isna()]"
   ]
  },
  {
   "cell_type": "code",
   "execution_count": 709,
   "metadata": {},
   "outputs": [
    {
     "name": "stdout",
     "output_type": "stream",
     "text": [
      "<class 'pandas.core.frame.DataFrame'>\n",
      "Index: 3489 entries, 10004004220 to 13001376708\n",
      "Data columns (total 6 columns):\n",
      " #   Column     Non-Null Count  Dtype  \n",
      "---  ------     --------------  -----  \n",
      " 0   space      3489 non-null   int64  \n",
      " 1   code       3489 non-null   int64  \n",
      " 2   mortgage   3489 non-null   float64\n",
      " 3   purchased  3489 non-null   object \n",
      " 4   value      3489 non-null   int64  \n",
      " 5   per_meter  3489 non-null   float64\n",
      "dtypes: float64(2), int64(3), object(1)\n",
      "memory usage: 190.8+ KB\n"
     ]
    }
   ],
   "source": [
    "meterU98.info()"
   ]
  },
  {
   "cell_type": "code",
   "execution_count": 689,
   "metadata": {},
   "outputs": [],
   "source": [
    "meterU99 = meterU99[~meterU99.per_meter.isna()]"
   ]
  },
  {
   "cell_type": "code",
   "execution_count": 690,
   "metadata": {},
   "outputs": [
    {
     "name": "stdout",
     "output_type": "stream",
     "text": [
      "<class 'pandas.core.frame.DataFrame'>\n",
      "Index: 3328 entries, 10005004619 to 13001372414\n",
      "Data columns (total 6 columns):\n",
      " #   Column     Non-Null Count  Dtype  \n",
      "---  ------     --------------  -----  \n",
      " 0   space      3328 non-null   int64  \n",
      " 1   code       3328 non-null   int64  \n",
      " 2   mortgage   3328 non-null   float64\n",
      " 3   purchased  3328 non-null   object \n",
      " 4   value      3328 non-null   int64  \n",
      " 5   per_meter  3328 non-null   float64\n",
      "dtypes: float64(2), int64(3), object(1)\n",
      "memory usage: 182.0+ KB\n"
     ]
    }
   ],
   "source": [
    "meterU99.info()"
   ]
  },
  {
   "cell_type": "code",
   "execution_count": 687,
   "metadata": {},
   "outputs": [],
   "source": [
    "meterU1400 = meterU1400[~meterU1400.per_meter.isna()]"
   ]
  },
  {
   "cell_type": "code",
   "execution_count": 688,
   "metadata": {},
   "outputs": [
    {
     "name": "stdout",
     "output_type": "stream",
     "text": [
      "<class 'pandas.core.frame.DataFrame'>\n",
      "Index: 1004 entries, 10006005930 to 13001379825\n",
      "Data columns (total 6 columns):\n",
      " #   Column     Non-Null Count  Dtype  \n",
      "---  ------     --------------  -----  \n",
      " 0   space      1004 non-null   int64  \n",
      " 1   code       1004 non-null   int64  \n",
      " 2   mortgage   1004 non-null   float64\n",
      " 3   purchased  1004 non-null   object \n",
      " 4   value      1004 non-null   int64  \n",
      " 5   per_meter  1004 non-null   float64\n",
      "dtypes: float64(2), int64(3), object(1)\n",
      "memory usage: 54.9+ KB\n"
     ]
    }
   ],
   "source": [
    "meterU1400.info()"
   ]
  },
  {
   "cell_type": "code",
   "execution_count": 685,
   "metadata": {},
   "outputs": [],
   "source": [
    "meterU1401 = meterU1401[~meterU1401.per_meter.isna()]"
   ]
  },
  {
   "cell_type": "code",
   "execution_count": 686,
   "metadata": {},
   "outputs": [
    {
     "name": "stdout",
     "output_type": "stream",
     "text": [
      "<class 'pandas.core.frame.DataFrame'>\n",
      "Index: 3342 entries, 10001000226 to 13006383438\n",
      "Data columns (total 6 columns):\n",
      " #   Column     Non-Null Count  Dtype  \n",
      "---  ------     --------------  -----  \n",
      " 0   space      3342 non-null   float64\n",
      " 1   code       3342 non-null   int64  \n",
      " 2   mortgage   3342 non-null   int64  \n",
      " 3   purchased  3342 non-null   object \n",
      " 4   value      3342 non-null   int64  \n",
      " 5   per_meter  3342 non-null   float64\n",
      "dtypes: float64(2), int64(3), object(1)\n",
      "memory usage: 311.8+ KB\n"
     ]
    }
   ],
   "source": [
    "meterU1401.info()"
   ]
  },
  {
   "cell_type": "code",
   "execution_count": 683,
   "metadata": {},
   "outputs": [],
   "source": [
    "meterR1401 = meterR1401[~meterR1401.per_meter.isna()]"
   ]
  },
  {
   "cell_type": "code",
   "execution_count": 684,
   "metadata": {},
   "outputs": [
    {
     "name": "stdout",
     "output_type": "stream",
     "text": [
      "<class 'pandas.core.frame.DataFrame'>\n",
      "Index: 626 entries, 22105613726 to 22007607441\n",
      "Data columns (total 6 columns):\n",
      " #   Column     Non-Null Count  Dtype  \n",
      "---  ------     --------------  -----  \n",
      " 0   space      626 non-null    float64\n",
      " 1   code       626 non-null    int64  \n",
      " 2   mortgage   626 non-null    int64  \n",
      " 3   purchased  626 non-null    object \n",
      " 4   value      626 non-null    int64  \n",
      " 5   per_meter  626 non-null    float64\n",
      "dtypes: float64(2), int64(3), object(1)\n",
      "memory usage: 34.2+ KB\n"
     ]
    }
   ],
   "source": [
    "meterR1401.info()"
   ]
  },
  {
   "cell_type": "code",
   "execution_count": 681,
   "metadata": {},
   "outputs": [],
   "source": [
    "meterR1400 = meterR1400[~meterR1400.per_meter.isna()]"
   ]
  },
  {
   "cell_type": "code",
   "execution_count": 682,
   "metadata": {},
   "outputs": [
    {
     "name": "stdout",
     "output_type": "stream",
     "text": [
      "<class 'pandas.core.frame.DataFrame'>\n",
      "Index: 654 entries, 20001384621 to 23003707035\n",
      "Data columns (total 6 columns):\n",
      " #   Column     Non-Null Count  Dtype  \n",
      "---  ------     --------------  -----  \n",
      " 0   space      654 non-null    int64  \n",
      " 1   code       654 non-null    int64  \n",
      " 2   mortgage   654 non-null    float64\n",
      " 3   purchased  654 non-null    object \n",
      " 4   value      654 non-null    int64  \n",
      " 5   per_meter  654 non-null    float64\n",
      "dtypes: float64(2), int64(3), object(1)\n",
      "memory usage: 35.8+ KB\n"
     ]
    }
   ],
   "source": [
    "meterR1400.info()"
   ]
  },
  {
   "cell_type": "code",
   "execution_count": 679,
   "metadata": {},
   "outputs": [],
   "source": [
    "meterR99=meterR99[~meterR99.per_meter.isna()]"
   ]
  },
  {
   "cell_type": "code",
   "execution_count": 680,
   "metadata": {},
   "outputs": [
    {
     "name": "stdout",
     "output_type": "stream",
     "text": [
      "<class 'pandas.core.frame.DataFrame'>\n",
      "Index: 620 entries, 20001384620 to 23003707029\n",
      "Data columns (total 6 columns):\n",
      " #   Column     Non-Null Count  Dtype  \n",
      "---  ------     --------------  -----  \n",
      " 0   space      620 non-null    int64  \n",
      " 1   code       620 non-null    int64  \n",
      " 2   mortgage   620 non-null    float64\n",
      " 3   purchased  620 non-null    object \n",
      " 4   value      620 non-null    int64  \n",
      " 5   per_meter  620 non-null    float64\n",
      "dtypes: float64(2), int64(3), object(1)\n",
      "memory usage: 33.9+ KB\n"
     ]
    }
   ],
   "source": [
    "meterR99.info()"
   ]
  },
  {
   "cell_type": "code",
   "execution_count": 677,
   "metadata": {},
   "outputs": [],
   "source": [
    "meterR98=meterR98[~meterR98.per_meter.isna()]"
   ]
  },
  {
   "cell_type": "code",
   "execution_count": 678,
   "metadata": {},
   "outputs": [
    {
     "name": "stdout",
     "output_type": "stream",
     "text": [
      "<class 'pandas.core.frame.DataFrame'>\n",
      "Index: 614 entries, 20007391408 to 23006709014\n",
      "Data columns (total 6 columns):\n",
      " #   Column     Non-Null Count  Dtype  \n",
      "---  ------     --------------  -----  \n",
      " 0   space      614 non-null    int64  \n",
      " 1   code       614 non-null    int64  \n",
      " 2   mortgage   614 non-null    float64\n",
      " 3   purchased  614 non-null    object \n",
      " 4   value      614 non-null    int64  \n",
      " 5   per_meter  614 non-null    float64\n",
      "dtypes: float64(2), int64(3), object(1)\n",
      "memory usage: 33.6+ KB\n"
     ]
    }
   ],
   "source": [
    "meterR98.info()"
   ]
  },
  {
   "cell_type": "code",
   "execution_count": 710,
   "metadata": {},
   "outputs": [],
   "source": [
    "all_u = pd.concat([meterU98, meterU99, meterU1400, meterU1401])\n",
    "all_r = pd.concat([meterR98, meterR99, meterR1400, meterR1401])"
   ]
  },
  {
   "cell_type": "code",
   "execution_count": 712,
   "metadata": {},
   "outputs": [
    {
     "data": {
      "text/html": [
       "<div>\n",
       "<style scoped>\n",
       "    .dataframe tbody tr th:only-of-type {\n",
       "        vertical-align: middle;\n",
       "    }\n",
       "\n",
       "    .dataframe tbody tr th {\n",
       "        vertical-align: top;\n",
       "    }\n",
       "\n",
       "    .dataframe thead th {\n",
       "        text-align: right;\n",
       "    }\n",
       "</style>\n",
       "<table border=\"1\" class=\"dataframe\">\n",
       "  <thead>\n",
       "    <tr style=\"text-align: right;\">\n",
       "      <th>Address</th>\n",
       "      <th>space</th>\n",
       "      <th>code</th>\n",
       "      <th>mortgage</th>\n",
       "      <th>purchased</th>\n",
       "      <th>value</th>\n",
       "      <th>per_meter</th>\n",
       "    </tr>\n",
       "  </thead>\n",
       "  <tbody>\n",
       "    <tr>\n",
       "      <th>10004004220</th>\n",
       "      <td>58.0</td>\n",
       "      <td>42212</td>\n",
       "      <td>1.000000e+08</td>\n",
       "      <td>1</td>\n",
       "      <td>3000000</td>\n",
       "      <td>12.808680</td>\n",
       "    </tr>\n",
       "    <tr>\n",
       "      <th>10013010608</th>\n",
       "      <td>60.0</td>\n",
       "      <td>42212</td>\n",
       "      <td>5.000000e+07</td>\n",
       "      <td>1</td>\n",
       "      <td>1500000</td>\n",
       "      <td>6.190862</td>\n",
       "    </tr>\n",
       "    <tr>\n",
       "      <th>10009008108</th>\n",
       "      <td>160.0</td>\n",
       "      <td>42212</td>\n",
       "      <td>6.000000e+07</td>\n",
       "      <td>1</td>\n",
       "      <td>1800000</td>\n",
       "      <td>2.785888</td>\n",
       "    </tr>\n",
       "    <tr>\n",
       "      <th>10001000620</th>\n",
       "      <td>100.0</td>\n",
       "      <td>42212</td>\n",
       "      <td>9.000000e+07</td>\n",
       "      <td>1</td>\n",
       "      <td>2700000</td>\n",
       "      <td>6.686131</td>\n",
       "    </tr>\n",
       "    <tr>\n",
       "      <th>10005004623</th>\n",
       "      <td>110.0</td>\n",
       "      <td>42212</td>\n",
       "      <td>4.000000e+08</td>\n",
       "      <td>1</td>\n",
       "      <td>1200000</td>\n",
       "      <td>27.014670</td>\n",
       "    </tr>\n",
       "    <tr>\n",
       "      <th>...</th>\n",
       "      <td>...</td>\n",
       "      <td>...</td>\n",
       "      <td>...</td>\n",
       "      <td>...</td>\n",
       "      <td>...</td>\n",
       "      <td>...</td>\n",
       "    </tr>\n",
       "    <tr>\n",
       "      <th>13003381826</th>\n",
       "      <td>75.0</td>\n",
       "      <td>42212</td>\n",
       "      <td>3.000000e+08</td>\n",
       "      <td>1</td>\n",
       "      <td>9000000</td>\n",
       "      <td>10.345889</td>\n",
       "    </tr>\n",
       "    <tr>\n",
       "      <th>13003381838</th>\n",
       "      <td>78.0</td>\n",
       "      <td>42212</td>\n",
       "      <td>5.000000e+08</td>\n",
       "      <td>1</td>\n",
       "      <td>15000000</td>\n",
       "      <td>16.579950</td>\n",
       "    </tr>\n",
       "    <tr>\n",
       "      <th>13006382727</th>\n",
       "      <td>60.0</td>\n",
       "      <td>42212</td>\n",
       "      <td>4.000000e+08</td>\n",
       "      <td>1</td>\n",
       "      <td>12000000</td>\n",
       "      <td>17.243148</td>\n",
       "    </tr>\n",
       "    <tr>\n",
       "      <th>13006382729</th>\n",
       "      <td>70.0</td>\n",
       "      <td>42212</td>\n",
       "      <td>5.000000e+08</td>\n",
       "      <td>1</td>\n",
       "      <td>15000000</td>\n",
       "      <td>18.474802</td>\n",
       "    </tr>\n",
       "    <tr>\n",
       "      <th>13006383438</th>\n",
       "      <td>90.0</td>\n",
       "      <td>42212</td>\n",
       "      <td>4.000000e+09</td>\n",
       "      <td>1</td>\n",
       "      <td>120000000</td>\n",
       "      <td>114.954321</td>\n",
       "    </tr>\n",
       "  </tbody>\n",
       "</table>\n",
       "<p>11163 rows × 6 columns</p>\n",
       "</div>"
      ],
      "text/plain": [
       "Address      space   code      mortgage purchased      value   per_meter\n",
       "10004004220   58.0  42212  1.000000e+08         1    3000000   12.808680\n",
       "10013010608   60.0  42212  5.000000e+07         1    1500000    6.190862\n",
       "10009008108  160.0  42212  6.000000e+07         1    1800000    2.785888\n",
       "10001000620  100.0  42212  9.000000e+07         1    2700000    6.686131\n",
       "10005004623  110.0  42212  4.000000e+08         1    1200000   27.014670\n",
       "...            ...    ...           ...       ...        ...         ...\n",
       "13003381826   75.0  42212  3.000000e+08         1    9000000   10.345889\n",
       "13003381838   78.0  42212  5.000000e+08         1   15000000   16.579950\n",
       "13006382727   60.0  42212  4.000000e+08         1   12000000   17.243148\n",
       "13006382729   70.0  42212  5.000000e+08         1   15000000   18.474802\n",
       "13006383438   90.0  42212  4.000000e+09         1  120000000  114.954321\n",
       "\n",
       "[11163 rows x 6 columns]"
      ]
     },
     "execution_count": 712,
     "metadata": {},
     "output_type": "execute_result"
    }
   ],
   "source": [
    "all_u"
   ]
  },
  {
   "cell_type": "code",
   "execution_count": 711,
   "metadata": {},
   "outputs": [
    {
     "data": {
      "text/plain": [
       "Index(['space', 'code', 'mortgage', 'purchased', 'value', 'per_meter'], dtype='object', name='Address')"
      ]
     },
     "execution_count": 711,
     "metadata": {},
     "output_type": "execute_result"
    }
   ],
   "source": [
    "all_u.keys()"
   ]
  },
  {
   "cell_type": "code",
   "execution_count": 713,
   "metadata": {},
   "outputs": [],
   "source": [
    "all_u = all_u.drop(['space', 'code', 'mortgage', 'purchased', 'value'], axis=1)\n",
    "all_r = all_r.drop(['space', 'code', 'mortgage', 'purchased', 'value'], axis=1)"
   ]
  },
  {
   "cell_type": "code",
   "execution_count": 715,
   "metadata": {},
   "outputs": [
    {
     "data": {
      "text/html": [
       "<div>\n",
       "<style scoped>\n",
       "    .dataframe tbody tr th:only-of-type {\n",
       "        vertical-align: middle;\n",
       "    }\n",
       "\n",
       "    .dataframe tbody tr th {\n",
       "        vertical-align: top;\n",
       "    }\n",
       "\n",
       "    .dataframe thead th {\n",
       "        text-align: right;\n",
       "    }\n",
       "</style>\n",
       "<table border=\"1\" class=\"dataframe\">\n",
       "  <thead>\n",
       "    <tr style=\"text-align: right;\">\n",
       "      <th>Address</th>\n",
       "      <th>per_meter</th>\n",
       "    </tr>\n",
       "  </thead>\n",
       "  <tbody>\n",
       "    <tr>\n",
       "      <th>10004004220</th>\n",
       "      <td>12.808680</td>\n",
       "    </tr>\n",
       "    <tr>\n",
       "      <th>10013010608</th>\n",
       "      <td>6.190862</td>\n",
       "    </tr>\n",
       "    <tr>\n",
       "      <th>10009008108</th>\n",
       "      <td>2.785888</td>\n",
       "    </tr>\n",
       "    <tr>\n",
       "      <th>10001000620</th>\n",
       "      <td>6.686131</td>\n",
       "    </tr>\n",
       "    <tr>\n",
       "      <th>10005004623</th>\n",
       "      <td>27.014670</td>\n",
       "    </tr>\n",
       "    <tr>\n",
       "      <th>...</th>\n",
       "      <td>...</td>\n",
       "    </tr>\n",
       "    <tr>\n",
       "      <th>13003381826</th>\n",
       "      <td>10.345889</td>\n",
       "    </tr>\n",
       "    <tr>\n",
       "      <th>13003381838</th>\n",
       "      <td>16.579950</td>\n",
       "    </tr>\n",
       "    <tr>\n",
       "      <th>13006382727</th>\n",
       "      <td>17.243148</td>\n",
       "    </tr>\n",
       "    <tr>\n",
       "      <th>13006382729</th>\n",
       "      <td>18.474802</td>\n",
       "    </tr>\n",
       "    <tr>\n",
       "      <th>13006383438</th>\n",
       "      <td>114.954321</td>\n",
       "    </tr>\n",
       "  </tbody>\n",
       "</table>\n",
       "<p>11163 rows × 1 columns</p>\n",
       "</div>"
      ],
      "text/plain": [
       "Address       per_meter\n",
       "10004004220   12.808680\n",
       "10013010608    6.190862\n",
       "10009008108    2.785888\n",
       "10001000620    6.686131\n",
       "10005004623   27.014670\n",
       "...                 ...\n",
       "13003381826   10.345889\n",
       "13003381838   16.579950\n",
       "13006382727   17.243148\n",
       "13006382729   18.474802\n",
       "13006383438  114.954321\n",
       "\n",
       "[11163 rows x 1 columns]"
      ]
     },
     "execution_count": 715,
     "metadata": {},
     "output_type": "execute_result"
    }
   ],
   "source": [
    "all_u"
   ]
  },
  {
   "cell_type": "code",
   "execution_count": 716,
   "metadata": {},
   "outputs": [
    {
     "data": {
      "text/html": [
       "<div>\n",
       "<style scoped>\n",
       "    .dataframe tbody tr th:only-of-type {\n",
       "        vertical-align: middle;\n",
       "    }\n",
       "\n",
       "    .dataframe tbody tr th {\n",
       "        vertical-align: top;\n",
       "    }\n",
       "\n",
       "    .dataframe thead th {\n",
       "        text-align: right;\n",
       "    }\n",
       "</style>\n",
       "<table border=\"1\" class=\"dataframe\">\n",
       "  <thead>\n",
       "    <tr style=\"text-align: right;\">\n",
       "      <th>Address</th>\n",
       "      <th>per_meter</th>\n",
       "    </tr>\n",
       "  </thead>\n",
       "  <tbody>\n",
       "    <tr>\n",
       "      <th>20007391408</th>\n",
       "      <td>0.742898</td>\n",
       "    </tr>\n",
       "    <tr>\n",
       "      <th>20005388614</th>\n",
       "      <td>0.619082</td>\n",
       "    </tr>\n",
       "    <tr>\n",
       "      <th>20215411908</th>\n",
       "      <td>27.858671</td>\n",
       "    </tr>\n",
       "    <tr>\n",
       "      <th>20219413520</th>\n",
       "      <td>2.228694</td>\n",
       "    </tr>\n",
       "    <tr>\n",
       "      <th>20210410717</th>\n",
       "      <td>7.428979</td>\n",
       "    </tr>\n",
       "    <tr>\n",
       "      <th>...</th>\n",
       "      <td>...</td>\n",
       "    </tr>\n",
       "    <tr>\n",
       "      <th>22003603832</th>\n",
       "      <td>0.323309</td>\n",
       "    </tr>\n",
       "    <tr>\n",
       "      <th>22003603838</th>\n",
       "      <td>20.691778</td>\n",
       "    </tr>\n",
       "    <tr>\n",
       "      <th>22006606229</th>\n",
       "      <td>0.646618</td>\n",
       "    </tr>\n",
       "    <tr>\n",
       "      <th>22007607425</th>\n",
       "      <td>0.431079</td>\n",
       "    </tr>\n",
       "    <tr>\n",
       "      <th>22007607441</th>\n",
       "      <td>25.864722</td>\n",
       "    </tr>\n",
       "  </tbody>\n",
       "</table>\n",
       "<p>2514 rows × 1 columns</p>\n",
       "</div>"
      ],
      "text/plain": [
       "Address      per_meter\n",
       "20007391408   0.742898\n",
       "20005388614   0.619082\n",
       "20215411908  27.858671\n",
       "20219413520   2.228694\n",
       "20210410717   7.428979\n",
       "...                ...\n",
       "22003603832   0.323309\n",
       "22003603838  20.691778\n",
       "22006606229   0.646618\n",
       "22007607425   0.431079\n",
       "22007607441  25.864722\n",
       "\n",
       "[2514 rows x 1 columns]"
      ]
     },
     "execution_count": 716,
     "metadata": {},
     "output_type": "execute_result"
    }
   ],
   "source": [
    "all_r"
   ]
  },
  {
   "cell_type": "code",
   "execution_count": 714,
   "metadata": {},
   "outputs": [
    {
     "name": "stdout",
     "output_type": "stream",
     "text": [
      "(11163, 1)\n",
      "(2514, 1)\n"
     ]
    }
   ],
   "source": [
    "print(all_u.shape)\n",
    "print(all_r.shape)"
   ]
  },
  {
   "cell_type": "code",
   "execution_count": 718,
   "metadata": {},
   "outputs": [],
   "source": [
    "all_u.to_csv('U_arzesh_khane.csv', encoding='utf-8', index=False)\n",
    "all_r.to_csv('R_arzesh_khane.csv', encoding='utf-8', index=False)\n"
   ]
  },
  {
   "attachments": {},
   "cell_type": "markdown",
   "metadata": {},
   "source": [
    "# Change all Costs To Dollars"
   ]
  },
  {
   "cell_type": "code",
   "execution_count": null,
   "metadata": {},
   "outputs": [],
   "source": [
    "# read Dollars file\n",
    "dollar = pd.read_csv(\"/Users/zeinab/Downloads/Project1_data/Dollar+.csv\")\n"
   ]
  },
  {
   "cell_type": "code",
   "execution_count": null,
   "metadata": {},
   "outputs": [
    {
     "data": {
      "text/plain": [
       "Index(['date', 'close', 'high', 'low', 'open', 'time', 'volume', 'date.1'], dtype='object')"
      ]
     },
     "execution_count": 341,
     "metadata": {},
     "output_type": "execute_result"
    }
   ],
   "source": [
    "dollar.keys()"
   ]
  },
  {
   "cell_type": "code",
   "execution_count": null,
   "metadata": {},
   "outputs": [],
   "source": [
    "dollar = dollar.drop(['high', 'low', 'open', 'time', 'volume', 'date.1'], axis=1)"
   ]
  },
  {
   "cell_type": "code",
   "execution_count": null,
   "metadata": {},
   "outputs": [
    {
     "data": {
      "text/html": [
       "<div>\n",
       "<style scoped>\n",
       "    .dataframe tbody tr th:only-of-type {\n",
       "        vertical-align: middle;\n",
       "    }\n",
       "\n",
       "    .dataframe tbody tr th {\n",
       "        vertical-align: top;\n",
       "    }\n",
       "\n",
       "    .dataframe thead th {\n",
       "        text-align: right;\n",
       "    }\n",
       "</style>\n",
       "<table border=\"1\" class=\"dataframe\">\n",
       "  <thead>\n",
       "    <tr style=\"text-align: right;\">\n",
       "      <th></th>\n",
       "      <th>date</th>\n",
       "      <th>close</th>\n",
       "    </tr>\n",
       "  </thead>\n",
       "  <tbody>\n",
       "    <tr>\n",
       "      <th>0</th>\n",
       "      <td>1975-07-09</td>\n",
       "      <td>68.73</td>\n",
       "    </tr>\n",
       "    <tr>\n",
       "      <th>1</th>\n",
       "      <td>1975-07-10</td>\n",
       "      <td>68.73</td>\n",
       "    </tr>\n",
       "    <tr>\n",
       "      <th>2</th>\n",
       "      <td>1975-07-11</td>\n",
       "      <td>68.73</td>\n",
       "    </tr>\n",
       "    <tr>\n",
       "      <th>3</th>\n",
       "      <td>1975-07-12</td>\n",
       "      <td>68.73</td>\n",
       "    </tr>\n",
       "    <tr>\n",
       "      <th>4</th>\n",
       "      <td>1975-07-13</td>\n",
       "      <td>68.73</td>\n",
       "    </tr>\n",
       "    <tr>\n",
       "      <th>...</th>\n",
       "      <td>...</td>\n",
       "      <td>...</td>\n",
       "    </tr>\n",
       "    <tr>\n",
       "      <th>17640</th>\n",
       "      <td>2023-10-25</td>\n",
       "      <td>511500.00</td>\n",
       "    </tr>\n",
       "    <tr>\n",
       "      <th>17641</th>\n",
       "      <td>2023-10-26</td>\n",
       "      <td>517000.00</td>\n",
       "    </tr>\n",
       "    <tr>\n",
       "      <th>17642</th>\n",
       "      <td>2023-10-27</td>\n",
       "      <td>517000.00</td>\n",
       "    </tr>\n",
       "    <tr>\n",
       "      <th>17643</th>\n",
       "      <td>2023-10-28</td>\n",
       "      <td>521500.00</td>\n",
       "    </tr>\n",
       "    <tr>\n",
       "      <th>17644</th>\n",
       "      <td>2023-10-29</td>\n",
       "      <td>520000.00</td>\n",
       "    </tr>\n",
       "  </tbody>\n",
       "</table>\n",
       "<p>17645 rows × 2 columns</p>\n",
       "</div>"
      ],
      "text/plain": [
       "             date      close\n",
       "0      1975-07-09      68.73\n",
       "1      1975-07-10      68.73\n",
       "2      1975-07-11      68.73\n",
       "3      1975-07-12      68.73\n",
       "4      1975-07-13      68.73\n",
       "...           ...        ...\n",
       "17640  2023-10-25  511500.00\n",
       "17641  2023-10-26  517000.00\n",
       "17642  2023-10-27  517000.00\n",
       "17643  2023-10-28  521500.00\n",
       "17644  2023-10-29  520000.00\n",
       "\n",
       "[17645 rows x 2 columns]"
      ]
     },
     "execution_count": 343,
     "metadata": {},
     "output_type": "execute_result"
    }
   ],
   "source": [
    "dollar"
   ]
  },
  {
   "cell_type": "code",
   "execution_count": null,
   "metadata": {},
   "outputs": [],
   "source": [
    "from datetime import datetime\n",
    "dollar['date'] = dollar['date'].apply(lambda x: datetime.strptime(x, '%Y-%m-%d'))"
   ]
  },
  {
   "cell_type": "code",
   "execution_count": null,
   "metadata": {},
   "outputs": [
    {
     "data": {
      "text/html": [
       "<div>\n",
       "<style scoped>\n",
       "    .dataframe tbody tr th:only-of-type {\n",
       "        vertical-align: middle;\n",
       "    }\n",
       "\n",
       "    .dataframe tbody tr th {\n",
       "        vertical-align: top;\n",
       "    }\n",
       "\n",
       "    .dataframe thead th {\n",
       "        text-align: right;\n",
       "    }\n",
       "</style>\n",
       "<table border=\"1\" class=\"dataframe\">\n",
       "  <thead>\n",
       "    <tr style=\"text-align: right;\">\n",
       "      <th></th>\n",
       "      <th>date</th>\n",
       "      <th>close</th>\n",
       "    </tr>\n",
       "  </thead>\n",
       "  <tbody>\n",
       "    <tr>\n",
       "      <th>0</th>\n",
       "      <td>1975-07-09</td>\n",
       "      <td>68.73</td>\n",
       "    </tr>\n",
       "    <tr>\n",
       "      <th>1</th>\n",
       "      <td>1975-07-10</td>\n",
       "      <td>68.73</td>\n",
       "    </tr>\n",
       "    <tr>\n",
       "      <th>2</th>\n",
       "      <td>1975-07-11</td>\n",
       "      <td>68.73</td>\n",
       "    </tr>\n",
       "    <tr>\n",
       "      <th>3</th>\n",
       "      <td>1975-07-12</td>\n",
       "      <td>68.73</td>\n",
       "    </tr>\n",
       "    <tr>\n",
       "      <th>4</th>\n",
       "      <td>1975-07-13</td>\n",
       "      <td>68.73</td>\n",
       "    </tr>\n",
       "    <tr>\n",
       "      <th>...</th>\n",
       "      <td>...</td>\n",
       "      <td>...</td>\n",
       "    </tr>\n",
       "    <tr>\n",
       "      <th>17640</th>\n",
       "      <td>2023-10-25</td>\n",
       "      <td>511500.00</td>\n",
       "    </tr>\n",
       "    <tr>\n",
       "      <th>17641</th>\n",
       "      <td>2023-10-26</td>\n",
       "      <td>517000.00</td>\n",
       "    </tr>\n",
       "    <tr>\n",
       "      <th>17642</th>\n",
       "      <td>2023-10-27</td>\n",
       "      <td>517000.00</td>\n",
       "    </tr>\n",
       "    <tr>\n",
       "      <th>17643</th>\n",
       "      <td>2023-10-28</td>\n",
       "      <td>521500.00</td>\n",
       "    </tr>\n",
       "    <tr>\n",
       "      <th>17644</th>\n",
       "      <td>2023-10-29</td>\n",
       "      <td>520000.00</td>\n",
       "    </tr>\n",
       "  </tbody>\n",
       "</table>\n",
       "<p>17645 rows × 2 columns</p>\n",
       "</div>"
      ],
      "text/plain": [
       "            date      close\n",
       "0     1975-07-09      68.73\n",
       "1     1975-07-10      68.73\n",
       "2     1975-07-11      68.73\n",
       "3     1975-07-12      68.73\n",
       "4     1975-07-13      68.73\n",
       "...          ...        ...\n",
       "17640 2023-10-25  511500.00\n",
       "17641 2023-10-26  517000.00\n",
       "17642 2023-10-27  517000.00\n",
       "17643 2023-10-28  521500.00\n",
       "17644 2023-10-29  520000.00\n",
       "\n",
       "[17645 rows x 2 columns]"
      ]
     },
     "execution_count": 345,
     "metadata": {},
     "output_type": "execute_result"
    }
   ],
   "source": [
    "dollar"
   ]
  },
  {
   "cell_type": "code",
   "execution_count": null,
   "metadata": {},
   "outputs": [],
   "source": [
    "list_year = []\n",
    "list_month = []\n",
    "list_day = []\n",
    "for i in range(len(dollar.date)):\n",
    "    list_year.append(dollar.date[i].year)\n",
    "    list_month.append(dollar.date[i].month)\n",
    "    list_day.append(dollar.date[i].day)\n",
    "\n",
    "    "
   ]
  },
  {
   "cell_type": "code",
   "execution_count": null,
   "metadata": {},
   "outputs": [],
   "source": [
    "dollar['year'] = list_year\n",
    "dollar['month'] = list_month\n",
    "dollar['day'] = list_day"
   ]
  },
  {
   "cell_type": "code",
   "execution_count": null,
   "metadata": {},
   "outputs": [
    {
     "data": {
      "text/html": [
       "<div>\n",
       "<style scoped>\n",
       "    .dataframe tbody tr th:only-of-type {\n",
       "        vertical-align: middle;\n",
       "    }\n",
       "\n",
       "    .dataframe tbody tr th {\n",
       "        vertical-align: top;\n",
       "    }\n",
       "\n",
       "    .dataframe thead th {\n",
       "        text-align: right;\n",
       "    }\n",
       "</style>\n",
       "<table border=\"1\" class=\"dataframe\">\n",
       "  <thead>\n",
       "    <tr style=\"text-align: right;\">\n",
       "      <th></th>\n",
       "      <th>date</th>\n",
       "      <th>close</th>\n",
       "      <th>year</th>\n",
       "      <th>month</th>\n",
       "      <th>day</th>\n",
       "    </tr>\n",
       "  </thead>\n",
       "  <tbody>\n",
       "    <tr>\n",
       "      <th>0</th>\n",
       "      <td>1975-07-09</td>\n",
       "      <td>68.73</td>\n",
       "      <td>1975</td>\n",
       "      <td>7</td>\n",
       "      <td>9</td>\n",
       "    </tr>\n",
       "    <tr>\n",
       "      <th>1</th>\n",
       "      <td>1975-07-10</td>\n",
       "      <td>68.73</td>\n",
       "      <td>1975</td>\n",
       "      <td>7</td>\n",
       "      <td>10</td>\n",
       "    </tr>\n",
       "    <tr>\n",
       "      <th>2</th>\n",
       "      <td>1975-07-11</td>\n",
       "      <td>68.73</td>\n",
       "      <td>1975</td>\n",
       "      <td>7</td>\n",
       "      <td>11</td>\n",
       "    </tr>\n",
       "    <tr>\n",
       "      <th>3</th>\n",
       "      <td>1975-07-12</td>\n",
       "      <td>68.73</td>\n",
       "      <td>1975</td>\n",
       "      <td>7</td>\n",
       "      <td>12</td>\n",
       "    </tr>\n",
       "    <tr>\n",
       "      <th>4</th>\n",
       "      <td>1975-07-13</td>\n",
       "      <td>68.73</td>\n",
       "      <td>1975</td>\n",
       "      <td>7</td>\n",
       "      <td>13</td>\n",
       "    </tr>\n",
       "    <tr>\n",
       "      <th>...</th>\n",
       "      <td>...</td>\n",
       "      <td>...</td>\n",
       "      <td>...</td>\n",
       "      <td>...</td>\n",
       "      <td>...</td>\n",
       "    </tr>\n",
       "    <tr>\n",
       "      <th>17640</th>\n",
       "      <td>2023-10-25</td>\n",
       "      <td>511500.00</td>\n",
       "      <td>2023</td>\n",
       "      <td>10</td>\n",
       "      <td>25</td>\n",
       "    </tr>\n",
       "    <tr>\n",
       "      <th>17641</th>\n",
       "      <td>2023-10-26</td>\n",
       "      <td>517000.00</td>\n",
       "      <td>2023</td>\n",
       "      <td>10</td>\n",
       "      <td>26</td>\n",
       "    </tr>\n",
       "    <tr>\n",
       "      <th>17642</th>\n",
       "      <td>2023-10-27</td>\n",
       "      <td>517000.00</td>\n",
       "      <td>2023</td>\n",
       "      <td>10</td>\n",
       "      <td>27</td>\n",
       "    </tr>\n",
       "    <tr>\n",
       "      <th>17643</th>\n",
       "      <td>2023-10-28</td>\n",
       "      <td>521500.00</td>\n",
       "      <td>2023</td>\n",
       "      <td>10</td>\n",
       "      <td>28</td>\n",
       "    </tr>\n",
       "    <tr>\n",
       "      <th>17644</th>\n",
       "      <td>2023-10-29</td>\n",
       "      <td>520000.00</td>\n",
       "      <td>2023</td>\n",
       "      <td>10</td>\n",
       "      <td>29</td>\n",
       "    </tr>\n",
       "  </tbody>\n",
       "</table>\n",
       "<p>17645 rows × 5 columns</p>\n",
       "</div>"
      ],
      "text/plain": [
       "            date      close  year  month  day\n",
       "0     1975-07-09      68.73  1975      7    9\n",
       "1     1975-07-10      68.73  1975      7   10\n",
       "2     1975-07-11      68.73  1975      7   11\n",
       "3     1975-07-12      68.73  1975      7   12\n",
       "4     1975-07-13      68.73  1975      7   13\n",
       "...          ...        ...   ...    ...  ...\n",
       "17640 2023-10-25  511500.00  2023     10   25\n",
       "17641 2023-10-26  517000.00  2023     10   26\n",
       "17642 2023-10-27  517000.00  2023     10   27\n",
       "17643 2023-10-28  521500.00  2023     10   28\n",
       "17644 2023-10-29  520000.00  2023     10   29\n",
       "\n",
       "[17645 rows x 5 columns]"
      ]
     },
     "execution_count": 348,
     "metadata": {},
     "output_type": "execute_result"
    }
   ],
   "source": [
    "dollar"
   ]
  },
  {
   "cell_type": "code",
   "execution_count": null,
   "metadata": {},
   "outputs": [],
   "source": [
    "dollar.year = dollar.year[dollar.year > 2018]\n",
    "dollar = dollar[~dollar.year.isna()]"
   ]
  },
  {
   "cell_type": "code",
   "execution_count": null,
   "metadata": {},
   "outputs": [
    {
     "data": {
      "text/html": [
       "<div>\n",
       "<style scoped>\n",
       "    .dataframe tbody tr th:only-of-type {\n",
       "        vertical-align: middle;\n",
       "    }\n",
       "\n",
       "    .dataframe tbody tr th {\n",
       "        vertical-align: top;\n",
       "    }\n",
       "\n",
       "    .dataframe thead th {\n",
       "        text-align: right;\n",
       "    }\n",
       "</style>\n",
       "<table border=\"1\" class=\"dataframe\">\n",
       "  <thead>\n",
       "    <tr style=\"text-align: right;\">\n",
       "      <th></th>\n",
       "      <th>date</th>\n",
       "      <th>close</th>\n",
       "      <th>year</th>\n",
       "      <th>month</th>\n",
       "      <th>day</th>\n",
       "    </tr>\n",
       "  </thead>\n",
       "  <tbody>\n",
       "    <tr>\n",
       "      <th>15882</th>\n",
       "      <td>2019-01-01</td>\n",
       "      <td>104900.0</td>\n",
       "      <td>2019.0</td>\n",
       "      <td>1</td>\n",
       "      <td>1</td>\n",
       "    </tr>\n",
       "    <tr>\n",
       "      <th>15883</th>\n",
       "      <td>2019-01-02</td>\n",
       "      <td>106700.0</td>\n",
       "      <td>2019.0</td>\n",
       "      <td>1</td>\n",
       "      <td>2</td>\n",
       "    </tr>\n",
       "    <tr>\n",
       "      <th>15884</th>\n",
       "      <td>2019-01-03</td>\n",
       "      <td>107000.0</td>\n",
       "      <td>2019.0</td>\n",
       "      <td>1</td>\n",
       "      <td>3</td>\n",
       "    </tr>\n",
       "    <tr>\n",
       "      <th>15885</th>\n",
       "      <td>2019-01-04</td>\n",
       "      <td>107200.0</td>\n",
       "      <td>2019.0</td>\n",
       "      <td>1</td>\n",
       "      <td>4</td>\n",
       "    </tr>\n",
       "    <tr>\n",
       "      <th>15886</th>\n",
       "      <td>2019-01-05</td>\n",
       "      <td>106700.0</td>\n",
       "      <td>2019.0</td>\n",
       "      <td>1</td>\n",
       "      <td>5</td>\n",
       "    </tr>\n",
       "    <tr>\n",
       "      <th>...</th>\n",
       "      <td>...</td>\n",
       "      <td>...</td>\n",
       "      <td>...</td>\n",
       "      <td>...</td>\n",
       "      <td>...</td>\n",
       "    </tr>\n",
       "    <tr>\n",
       "      <th>17640</th>\n",
       "      <td>2023-10-25</td>\n",
       "      <td>511500.0</td>\n",
       "      <td>2023.0</td>\n",
       "      <td>10</td>\n",
       "      <td>25</td>\n",
       "    </tr>\n",
       "    <tr>\n",
       "      <th>17641</th>\n",
       "      <td>2023-10-26</td>\n",
       "      <td>517000.0</td>\n",
       "      <td>2023.0</td>\n",
       "      <td>10</td>\n",
       "      <td>26</td>\n",
       "    </tr>\n",
       "    <tr>\n",
       "      <th>17642</th>\n",
       "      <td>2023-10-27</td>\n",
       "      <td>517000.0</td>\n",
       "      <td>2023.0</td>\n",
       "      <td>10</td>\n",
       "      <td>27</td>\n",
       "    </tr>\n",
       "    <tr>\n",
       "      <th>17643</th>\n",
       "      <td>2023-10-28</td>\n",
       "      <td>521500.0</td>\n",
       "      <td>2023.0</td>\n",
       "      <td>10</td>\n",
       "      <td>28</td>\n",
       "    </tr>\n",
       "    <tr>\n",
       "      <th>17644</th>\n",
       "      <td>2023-10-29</td>\n",
       "      <td>520000.0</td>\n",
       "      <td>2023.0</td>\n",
       "      <td>10</td>\n",
       "      <td>29</td>\n",
       "    </tr>\n",
       "  </tbody>\n",
       "</table>\n",
       "<p>1763 rows × 5 columns</p>\n",
       "</div>"
      ],
      "text/plain": [
       "            date     close    year  month  day\n",
       "15882 2019-01-01  104900.0  2019.0      1    1\n",
       "15883 2019-01-02  106700.0  2019.0      1    2\n",
       "15884 2019-01-03  107000.0  2019.0      1    3\n",
       "15885 2019-01-04  107200.0  2019.0      1    4\n",
       "15886 2019-01-05  106700.0  2019.0      1    5\n",
       "...          ...       ...     ...    ...  ...\n",
       "17640 2023-10-25  511500.0  2023.0     10   25\n",
       "17641 2023-10-26  517000.0  2023.0     10   26\n",
       "17642 2023-10-27  517000.0  2023.0     10   27\n",
       "17643 2023-10-28  521500.0  2023.0     10   28\n",
       "17644 2023-10-29  520000.0  2023.0     10   29\n",
       "\n",
       "[1763 rows x 5 columns]"
      ]
     },
     "execution_count": 359,
     "metadata": {},
     "output_type": "execute_result"
    }
   ],
   "source": [
    "dollar"
   ]
  },
  {
   "cell_type": "code",
   "execution_count": null,
   "metadata": {},
   "outputs": [],
   "source": [
    "dollar_2019 = dollar[dollar.year == 2019]\n",
    "dollar_2020 = dollar[dollar.year == 2020]\n",
    "dollar_2021 = dollar[dollar.year == 2021]\n",
    "dollar_2022 = dollar[dollar.year == 2022]\n",
    "dollar_2023 = dollar[dollar.year == 2023]\n"
   ]
  },
  {
   "attachments": {},
   "cell_type": "markdown",
   "metadata": {},
   "source": [
    "- 1398 = 21/3/2019 - 19/3/2020\n",
    "- 1399 = 20/3/2020 - 20/3/2021\n",
    "- 1400 = 21/3/2021 - 20/3/2022\n",
    "- 1401 = 21/3/2022 - 20/3/2023"
   ]
  },
  {
   "cell_type": "code",
   "execution_count": null,
   "metadata": {},
   "outputs": [],
   "source": [
    "dollar98_1 = dollar_2019.loc[dollar_2019['month'] > 2]\n",
    "dollar98_1 = dollar98_1.loc[dollar98_1['day'] > 20]\n",
    "dollar98_2 = dollar_2020.loc[dollar_2020['month'] < 4]\n",
    "dollar98_2 = dollar98_2.loc[dollar98_2['day'] < 20]"
   ]
  },
  {
   "cell_type": "code",
   "execution_count": null,
   "metadata": {},
   "outputs": [],
   "source": [
    "dollar98 = (dollar98_1.close.mean() + dollar98_2.close.mean()) / 2"
   ]
  },
  {
   "cell_type": "code",
   "execution_count": null,
   "metadata": {},
   "outputs": [],
   "source": [
    "# 1399 = 20/3/2020 - 20/3/2021\n",
    "dollar99_1 = dollar_2020.loc[dollar_2020['month'] > 2]\n",
    "dollar99_1 = dollar99_1.loc[dollar99_1['day'] > 19]\n",
    "dollar99_2 = dollar_2021.loc[dollar_2021['month'] < 4]\n",
    "dollar99_2 = dollar99_2.loc[dollar99_2['day'] < 21]"
   ]
  },
  {
   "cell_type": "code",
   "execution_count": null,
   "metadata": {},
   "outputs": [],
   "source": [
    "dollar99 = (dollar99_1.close.mean() + dollar99_2.close.mean()) / 2"
   ]
  },
  {
   "cell_type": "code",
   "execution_count": null,
   "metadata": {},
   "outputs": [],
   "source": [
    "# 1400 = 21/3/2021 - 20/3/2022\n",
    "dollar1400_1 = dollar_2021.loc[dollar_2021['month'] > 2]\n",
    "dollar1400_1 = dollar1400_1.loc[dollar1400_1['day'] > 20]\n",
    "dollar1400_2 = dollar_2022.loc[dollar_2022['month'] < 4]\n",
    "dollar1400_2 = dollar1400_2.loc[dollar1400_2['day'] < 21]"
   ]
  },
  {
   "cell_type": "code",
   "execution_count": null,
   "metadata": {},
   "outputs": [],
   "source": [
    "dollar1400 = (dollar1400_1.close.mean() + dollar1400_2.close.mean()) / 2"
   ]
  },
  {
   "cell_type": "code",
   "execution_count": null,
   "metadata": {},
   "outputs": [],
   "source": [
    "# 1401 = 21/3/2022 - 20/3/2023\n",
    "dollar1401_1 = dollar_2022.loc[dollar_2022['month'] > 2]\n",
    "dollar1401_1 = dollar1401_1.loc[dollar1401_1['day'] > 20]\n",
    "dollar1401_2 = dollar_2023.loc[dollar_2023['month'] < 4]\n",
    "dollar1401_2 = dollar1401_2.loc[dollar1401_2['day'] < 21]"
   ]
  },
  {
   "cell_type": "code",
   "execution_count": null,
   "metadata": {},
   "outputs": [],
   "source": [
    "dollar1401 = (dollar1401_1.close.mean() + dollar1401_2.close.mean()) / 2"
   ]
  },
  {
   "cell_type": "code",
   "execution_count": null,
   "metadata": {},
   "outputs": [
    {
     "name": "stdout",
     "output_type": "stream",
     "text": [
      "134607.03409467064\n",
      "236036.9827586207\n",
      "267272.66509433964\n",
      "386627.1855345912\n"
     ]
    }
   ],
   "source": [
    "print(dollar98)\n",
    "print(dollar99)\n",
    "print(dollar1400)\n",
    "print(dollar1401)"
   ]
  },
  {
   "cell_type": "code",
   "execution_count": null,
   "metadata": {},
   "outputs": [
    {
     "name": "stdout",
     "output_type": "stream",
     "text": [
      "134607\n",
      "236036\n",
      "267272\n",
      "386627\n"
     ]
    }
   ],
   "source": [
    "print(int(dollar98))\n",
    "print(int(dollar99))\n",
    "print(int(dollar1400))\n",
    "print(int(dollar1401))"
   ]
  },
  {
   "attachments": {},
   "cell_type": "markdown",
   "metadata": {},
   "source": [
    " - dollar98 = 134607\n",
    " - dollar99 = 236036\n",
    " - dollar1400 = 267272\n",
    " - dollar1401 = 386627"
   ]
  }
 ],
 "metadata": {
  "kernelspec": {
   "display_name": "venv",
   "language": "python",
   "name": "python3"
  },
  "language_info": {
   "codemirror_mode": {
    "name": "ipython",
    "version": 3
   },
   "file_extension": ".py",
   "mimetype": "text/x-python",
   "name": "python",
   "nbconvert_exporter": "python",
   "pygments_lexer": "ipython3",
   "version": "3.9.6"
  },
  "orig_nbformat": 4,
  "vscode": {
   "interpreter": {
    "hash": "9400284a0ef70becef75eeb1c015f314df36300ea42313f71f668894b3f3147e"
   }
  }
 },
 "nbformat": 4,
 "nbformat_minor": 2
}
