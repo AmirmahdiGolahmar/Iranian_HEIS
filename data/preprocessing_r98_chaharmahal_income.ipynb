{
 "cells": [
  {
   "cell_type": "markdown",
   "metadata": {},
   "source": [
    "# Import"
   ]
  },
  {
   "cell_type": "code",
   "execution_count": 1,
   "metadata": {},
   "outputs": [],
   "source": [
    "# Import cell \n",
    "import pandas as pd\n",
    "import numpy as np\n",
    "import re\n",
    "from sklearn.model_selection import train_test_split\n",
    "from sklearn.svm import SVC\n",
    "from sklearn.ensemble import RandomForestRegressor\n",
    "from sklearn.ensemble import GradientBoostingRegressor\n",
    "from sklearn.neural_network import MLPRegressor\n",
    "from sklearn.metrics import mean_squared_error, r2_score"
   ]
  },
  {
   "cell_type": "code",
   "execution_count": 2,
   "metadata": {},
   "outputs": [
    {
     "name": "stdout",
     "output_type": "stream",
     "text": [
      "Requirement already satisfied: openpyxl in /opt/miniconda3/envs/quera_ai/lib/python3.9/site-packages (3.1.5)\n",
      "Requirement already satisfied: et-xmlfile in /opt/miniconda3/envs/quera_ai/lib/python3.9/site-packages (from openpyxl) (1.1.0)\n"
     ]
    }
   ],
   "source": [
    "!pip install openpyxl"
   ]
  },
  {
   "cell_type": "code",
   "execution_count": 3,
   "metadata": {},
   "outputs": [],
   "source": [
    "base_path = \"/Users/Mahdi/quera_ai/projects/project1/Project1_data\"\n",
    "r98 = pd.read_excel(base_path + \"/R98.xlsx\", sheet_name=None, engine = 'openpyxl')"
   ]
  },
  {
   "cell_type": "code",
   "execution_count": 4,
   "metadata": {},
   "outputs": [],
   "source": [
    "R98 = r98.copy()"
   ]
  },
  {
   "cell_type": "code",
   "execution_count": 5,
   "metadata": {},
   "outputs": [],
   "source": [
    "file_list = [r98]\n",
    "file_names = ['R98']"
   ]
  },
  {
   "cell_type": "code",
   "execution_count": 6,
   "metadata": {},
   "outputs": [
    {
     "name": "stderr",
     "output_type": "stream",
     "text": [
      "/var/folders/xn/pc_68lms5455_7h8m5ncshrw0000gp/T/ipykernel_2551/896754946.py:11: SettingWithCopyWarning: \n",
      "A value is trying to be set on a copy of a slice from a DataFrame.\n",
      "Try using .loc[row_indexer,col_indexer] = value instead\n",
      "\n",
      "See the caveats in the documentation: https://pandas.pydata.org/pandas-docs/stable/user_guide/indexing.html#returning-a-view-versus-a-copy\n",
      "  file[f'{file_name}P3S01'][(file[f'{file_name}P3S01']['kilogram'].isna()) & (~file[f'{file_name}P3S01']['price'].isna())]['kilogram'] = file[f'{file_name}P3S01']['value'] / file[f'{file_name}P3S01']['price']\n"
     ]
    }
   ],
   "source": [
    "# Develope\n",
    "def get_columns(columns, prefix):\n",
    "    file_list = [r98]\n",
    "    file_names = ['R98']\n",
    "    for file, file_name in zip(file_list, file_names):\n",
    "        file[f'{file_name}{prefix}'] = file[f'{file_name}{prefix}'][columns]   \n",
    "        \n",
    "file_list = [r98]\n",
    "file_names = ['R98']\n",
    "for file, file_name in zip(file_list, file_names):\n",
    "    file[f'{file_name}P3S01'][(file[f'{file_name}P3S01']['kilogram'].isna()) & (~file[f'{file_name}P3S01']['price'].isna())]['kilogram'] = file[f'{file_name}P3S01']['value'] / file[f'{file_name}P3S01']['price']\n",
    "    file[f'{file_name}P3S01'][(~file[f'{file_name}P3S01']['kilogram'].isna()) & (file[f'{file_name}P3S01']['price'].isna())]['kilogram'] = file[f'{file_name}P3S01']['value'] / file[f'{file_name}P3S01']['kilogram']\n",
    "    file[f'{file_name}P3S01'] = file[f'{file_name}P3S01'][~(file[f'{file_name}P3S01']['kilogram'].isna()) | (~file[f'{file_name}P3S01']['price'].isna())]\n",
    "get_columns(['Address', 'code', 'purchased', 'kilogram', 'value'], 'P3S01')"
   ]
  },
  {
   "cell_type": "markdown",
   "metadata": {},
   "source": [
    "# R98Data"
   ]
  },
  {
   "cell_type": "code",
   "execution_count": 8,
   "metadata": {},
   "outputs": [
    {
     "name": "stdout",
     "output_type": "stream",
     "text": [
      "Index(['Address', 'MahMorajeh', 'Fasl', 'weight', 'khanevartype', 'Takmil',\n",
      "       'TakmilDescA', 'TakmilDescB', 'TakmilDescC', 'Jaygozin',\n",
      "       'JaygozinDescA', 'JaygozinDescB', 'JaygozinDescC', 'BlkAbdJaygozin',\n",
      "       'RadifJaygozin', 'province', 'town'],\n",
      "      dtype='object')\n"
     ]
    }
   ],
   "source": [
    "print(r98['R98Data'].columns)\n",
    "r98['R98Data'] = r98['R98Data'][['Address', 'Fasl', 'weight', 'khanevartype', 'province','town']]"
   ]
  },
  {
   "cell_type": "code",
   "execution_count": 9,
   "metadata": {},
   "outputs": [
    {
     "data": {
      "text/plain": [
       "Address         0.0\n",
       "Fasl            0.0\n",
       "weight          0.0\n",
       "khanevartype    0.0\n",
       "province        0.0\n",
       "town            0.0\n",
       "dtype: float64"
      ]
     },
     "execution_count": 9,
     "metadata": {},
     "output_type": "execute_result"
    }
   ],
   "source": [
    "r98['R98Data'].isna().mean()*100"
   ]
  },
  {
   "cell_type": "markdown",
   "metadata": {},
   "source": [
    "# r98P4S01"
   ]
  },
  {
   "cell_type": "code",
   "execution_count": 12,
   "metadata": {},
   "outputs": [
    {
     "data": {
      "text/plain": [
       "Address            0.000000\n",
       "member             0.000000\n",
       "employed_w         0.000000\n",
       "ISCO_w             0.000000\n",
       "ISIC_w             0.000000\n",
       "status_w           0.000000\n",
       "hours_w           12.033272\n",
       "days_w            12.042514\n",
       "income_w_m         0.000000\n",
       "income_w_y         0.000000\n",
       "wage_w_m           0.055453\n",
       "wage_w_y           0.027726\n",
       "perk_w_m           0.073937\n",
       "perk_w_y           0.027726\n",
       "netincome_w_m      0.000000\n",
       "netincome_w_y      0.000000\n",
       "Fasl               0.000000\n",
       "year               0.000000\n",
       "DYCOL00          100.000000\n",
       "dtype: float64"
      ]
     },
     "execution_count": 12,
     "metadata": {},
     "output_type": "execute_result"
    }
   ],
   "source": [
    "r98['R98P4S01'].isna().mean()*100"
   ]
  },
  {
   "cell_type": "code",
   "execution_count": 13,
   "metadata": {},
   "outputs": [
    {
     "data": {
      "text/plain": [
       "Address           0.000000\n",
       "member            0.000000\n",
       "employed_w        0.000000\n",
       "ISCO_w            0.000000\n",
       "ISIC_w            0.000000\n",
       "status_w          0.000000\n",
       "hours_w          12.033272\n",
       "days_w           12.042514\n",
       "income_w_y        0.000000\n",
       "wage_w_y          0.027726\n",
       "perk_w_y          0.027726\n",
       "netincome_w_y     0.000000\n",
       "Fasl              0.000000\n",
       "year              0.000000\n",
       "dtype: float64"
      ]
     },
     "execution_count": 13,
     "metadata": {},
     "output_type": "execute_result"
    }
   ],
   "source": [
    "R98_P4S01_mahdi = r98['R98P4S01'][['Address', 'member', 'employed_w', 'ISCO_w', 'ISIC_w', 'status_w' , 'hours_w', 'days_w','income_w_y', 'wage_w_y', 'perk_w_y', 'netincome_w_y', 'Fasl', 'year']]\n",
    "R98_P4S01_mahdi.isna().mean()*100"
   ]
  },
  {
   "cell_type": "code",
   "execution_count": 36,
   "metadata": {},
   "outputs": [
    {
     "data": {
      "text/plain": [
       "(9512, 14)"
      ]
     },
     "execution_count": 36,
     "metadata": {},
     "output_type": "execute_result"
    }
   ],
   "source": [
    "R98_P4S01_mahdi.shape"
   ]
  },
  {
   "cell_type": "code",
   "execution_count": 14,
   "metadata": {},
   "outputs": [
    {
     "name": "stdout",
     "output_type": "stream",
     "text": [
      "Index([9480, 9481, 9482], dtype='int64')\n",
      "Index([9480, 9481, 9482], dtype='int64')\n"
     ]
    },
    {
     "data": {
      "text/html": [
       "<div>\n",
       "<style scoped>\n",
       "    .dataframe tbody tr th:only-of-type {\n",
       "        vertical-align: middle;\n",
       "    }\n",
       "\n",
       "    .dataframe tbody tr th {\n",
       "        vertical-align: top;\n",
       "    }\n",
       "\n",
       "    .dataframe thead th {\n",
       "        text-align: right;\n",
       "    }\n",
       "</style>\n",
       "<table border=\"1\" class=\"dataframe\">\n",
       "  <thead>\n",
       "    <tr style=\"text-align: right;\">\n",
       "      <th></th>\n",
       "      <th>Address</th>\n",
       "      <th>member</th>\n",
       "      <th>employed_w</th>\n",
       "      <th>ISCO_w</th>\n",
       "      <th>ISIC_w</th>\n",
       "      <th>status_w</th>\n",
       "      <th>hours_w</th>\n",
       "      <th>days_w</th>\n",
       "      <th>income_w_y</th>\n",
       "      <th>wage_w_y</th>\n",
       "      <th>perk_w_y</th>\n",
       "      <th>netincome_w_y</th>\n",
       "      <th>Fasl</th>\n",
       "      <th>year</th>\n",
       "    </tr>\n",
       "  </thead>\n",
       "  <tbody>\n",
       "    <tr>\n",
       "      <th>9480</th>\n",
       "      <td>21407551823</td>\n",
       "      <td>3</td>\n",
       "      <td>1</td>\n",
       "      <td>7518</td>\n",
       "      <td>10730</td>\n",
       "      <td>3</td>\n",
       "      <td>8.0</td>\n",
       "      <td>6.0</td>\n",
       "      <td>180000000</td>\n",
       "      <td>NaN</td>\n",
       "      <td>NaN</td>\n",
       "      <td>180000000</td>\n",
       "      <td>4</td>\n",
       "      <td>98</td>\n",
       "    </tr>\n",
       "    <tr>\n",
       "      <th>9481</th>\n",
       "      <td>21407551820</td>\n",
       "      <td>2</td>\n",
       "      <td>1</td>\n",
       "      <td>9314</td>\n",
       "      <td>41000</td>\n",
       "      <td>3</td>\n",
       "      <td>8.0</td>\n",
       "      <td>6.0</td>\n",
       "      <td>1500000000</td>\n",
       "      <td>NaN</td>\n",
       "      <td>NaN</td>\n",
       "      <td>150000000</td>\n",
       "      <td>4</td>\n",
       "      <td>98</td>\n",
       "    </tr>\n",
       "    <tr>\n",
       "      <th>9482</th>\n",
       "      <td>21407551811</td>\n",
       "      <td>1</td>\n",
       "      <td>1</td>\n",
       "      <td>6121</td>\n",
       "      <td>1411</td>\n",
       "      <td>3</td>\n",
       "      <td>8.0</td>\n",
       "      <td>6.0</td>\n",
       "      <td>77000000</td>\n",
       "      <td>NaN</td>\n",
       "      <td>NaN</td>\n",
       "      <td>77000000</td>\n",
       "      <td>4</td>\n",
       "      <td>98</td>\n",
       "    </tr>\n",
       "  </tbody>\n",
       "</table>\n",
       "</div>"
      ],
      "text/plain": [
       "          Address  member  employed_w  ISCO_w  ISIC_w  status_w  hours_w  \\\n",
       "9480  21407551823       3           1    7518   10730         3      8.0   \n",
       "9481  21407551820       2           1    9314   41000         3      8.0   \n",
       "9482  21407551811       1           1    6121    1411         3      8.0   \n",
       "\n",
       "      days_w  income_w_y  wage_w_y  perk_w_y  netincome_w_y  Fasl  year  \n",
       "9480     6.0   180000000       NaN       NaN      180000000     4    98  \n",
       "9481     6.0  1500000000       NaN       NaN      150000000     4    98  \n",
       "9482     6.0    77000000       NaN       NaN       77000000     4    98  "
      ]
     },
     "execution_count": 14,
     "metadata": {},
     "output_type": "execute_result"
    }
   ],
   "source": [
    "print(R98_P4S01_mahdi[R98_P4S01_mahdi['wage_w_y'].isna()].index)\n",
    "print(R98_P4S01_mahdi[R98_P4S01_mahdi['perk_w_y'].isna()].index)\n",
    "R98_P4S01_mahdi[(R98_P4S01_mahdi['perk_w_y'].isna()) | (R98_P4S01_mahdi['wage_w_y'].isna())]"
   ]
  },
  {
   "cell_type": "code",
   "execution_count": 15,
   "metadata": {},
   "outputs": [],
   "source": [
    "R98_P4S01_mahdi = R98_P4S01_mahdi[~R98_P4S01_mahdi['hours_w'].isna()]\n",
    "R98_P4S01_mahdi = R98_P4S01_mahdi[~R98_P4S01_mahdi['days_w'].isna()]"
   ]
  },
  {
   "cell_type": "code",
   "execution_count": 16,
   "metadata": {},
   "outputs": [
    {
     "name": "stdout",
     "output_type": "stream",
     "text": [
      "--- wage_w_y ---\n",
      "mean_squared_error = 379769333140169.0\n",
      "r2_score = 0.9670811294473213\n",
      "--- perk_w_y ---\n",
      "--- RandomForestRegressor ---\n",
      "mean_squared_error = 221972926767666.28\n",
      "r2_score = 0.24980790902138406\n",
      "--- perk_w_y ---\n",
      "--- GradientBoostingRegressor ---\n",
      "mean_squared_error = 186519978910252.4\n",
      "r2_score = 0.36962667012799\n"
     ]
    }
   ],
   "source": [
    "X = R98_P4S01_mahdi[(~R98_P4S01_mahdi['perk_w_y'].isna()) & (~R98_P4S01_mahdi['wage_w_y'].isna())].drop(['Address', 'member', 'wage_w_y', 'perk_w_y'], axis = 1)\n",
    "y1 = R98_P4S01_mahdi[(~R98_P4S01_mahdi['perk_w_y'].isna()) & (~R98_P4S01_mahdi['wage_w_y'].isna())]['wage_w_y']\n",
    "y2 = R98_P4S01_mahdi[(~R98_P4S01_mahdi['perk_w_y'].isna()) & (~R98_P4S01_mahdi['wage_w_y'].isna())]['perk_w_y']\n",
    "\n",
    "X_train, X_validation, y1_train, y1_validation = train_test_split(X, y1, test_size=0.25, random_state=42)\n",
    "X_train, X_validation, y2_train, y2_validation = train_test_split(X, y2, test_size=0.25, random_state=42)\n",
    "\n",
    "model = RandomForestRegressor(n_estimators=100)\n",
    "model.fit(X_train, y1_train)\n",
    "y1_pred_validation = model.predict(X_validation)\n",
    "mean_squared_error_1 = mean_squared_error(y1_validation, y1_pred_validation)\n",
    "r2_score_1 = r2_score(y1_validation, y1_pred_validation)\n",
    "print(\"--- wage_w_y ---\")\n",
    "print(f\"mean_squared_error = {mean_squared_error_1}\")\n",
    "print(f\"r2_score = {r2_score_1}\")\n",
    "\n",
    "model = RandomForestRegressor(n_estimators=1000)\n",
    "model.fit(X_train, y2_train)\n",
    "y2_pred_validation = model.predict(X_validation)\n",
    "mean_squared_error_2 = mean_squared_error(y2_validation, y2_pred_validation)\n",
    "r2_score_2 = r2_score(y2_validation, y2_pred_validation)\n",
    "print(\"--- perk_w_y ---\")\n",
    "print(\"--- RandomForestRegressor ---\")\n",
    "print(f\"mean_squared_error = {mean_squared_error_2}\")\n",
    "print(f\"r2_score = {r2_score_2}\")\n",
    "\n",
    "model = GradientBoostingRegressor()\n",
    "model.fit(X_train, y2_train)\n",
    "y2_pred_validation = model.predict(X_validation)\n",
    "mean_squared_error_2 = mean_squared_error(y2_validation, y2_pred_validation)\n",
    "r2_score_2 = r2_score(y2_validation, y2_pred_validation)\n",
    "print(\"--- perk_w_y ---\")\n",
    "print(\"--- GradientBoostingRegressor ---\")\n",
    "print(f\"mean_squared_error = {mean_squared_error_2}\")\n",
    "print(f\"r2_score = {r2_score_2}\")"
   ]
  },
  {
   "cell_type": "code",
   "execution_count": 17,
   "metadata": {},
   "outputs": [],
   "source": [
    "R98_P4S01_mahdi = R98_P4S01_mahdi.loc[(~R98_P4S01_mahdi['perk_w_y'].isna()) | (~R98_P4S01_mahdi['wage_w_y'].isna())]"
   ]
  },
  {
   "cell_type": "markdown",
   "metadata": {},
   "source": [
    "# r98P4S02"
   ]
  },
  {
   "cell_type": "code",
   "execution_count": 19,
   "metadata": {},
   "outputs": [
    {
     "data": {
      "text/plain": [
       "Address              0.000000\n",
       "member               0.000000\n",
       "employed_s           0.000000\n",
       "ISCO_s               0.000000\n",
       "ISIC_s               0.000000\n",
       "status_s             0.000000\n",
       "agriculture          0.000000\n",
       "hours_s              1.764419\n",
       "days_s               1.764419\n",
       "cost_employment      9.791478\n",
       "cost_raw             2.120092\n",
       "cost_machinery       8.745380\n",
       "cost_others          5.111932\n",
       "cost_tax            12.490411\n",
       "sale                 1.610991\n",
       "income_s_y           0.000000\n",
       "Fasl                 0.000000\n",
       "year                 0.000000\n",
       "DYCOL00            100.000000\n",
       "dtype: float64"
      ]
     },
     "execution_count": 19,
     "metadata": {},
     "output_type": "execute_result"
    }
   ],
   "source": [
    "r98['R98P4S02'].isna().mean()*100"
   ]
  },
  {
   "cell_type": "code",
   "execution_count": 20,
   "metadata": {},
   "outputs": [
    {
     "data": {
      "text/plain": [
       "Index(['Address', 'member', 'employed_s', 'ISCO_s', 'ISIC_s', 'status_s',\n",
       "       'agriculture', 'hours_s', 'days_s', 'cost_employment', 'cost_raw',\n",
       "       'cost_machinery', 'cost_others', 'cost_tax', 'sale', 'income_s_y',\n",
       "       'Fasl', 'year', 'DYCOL00'],\n",
       "      dtype='object')"
      ]
     },
     "execution_count": 20,
     "metadata": {},
     "output_type": "execute_result"
    }
   ],
   "source": [
    "r98['R98P4S02'].columns"
   ]
  },
  {
   "cell_type": "code",
   "execution_count": 21,
   "metadata": {},
   "outputs": [],
   "source": [
    "r98_P4S02_mahdi = r98['R98P4S02'][['Address', 'member', 'employed_s', 'ISCO_s', 'ISIC_s', 'status_s', 'agriculture', 'sale', 'income_s_y', 'Fasl', 'year']]\n",
    "r98_P4S02_mahdi = r98_P4S02_mahdi[(~r98_P4S02_mahdi['employed_s'].isna()) & (~r98_P4S02_mahdi['ISCO_s'].isna()) & (~r98_P4S02_mahdi['ISIC_s'].isna()) & (~r98_P4S02_mahdi['status_s'].isna()) & (~r98_P4S02_mahdi['agriculture'].isna())]"
   ]
  },
  {
   "cell_type": "code",
   "execution_count": 22,
   "metadata": {},
   "outputs": [
    {
     "data": {
      "text/plain": [
       "Address        0.000000\n",
       "member         0.000000\n",
       "employed_s     0.000000\n",
       "ISCO_s         0.000000\n",
       "ISIC_s         0.000000\n",
       "status_s       0.000000\n",
       "agriculture    0.000000\n",
       "sale           1.610991\n",
       "income_s_y     0.000000\n",
       "Fasl           0.000000\n",
       "year           0.000000\n",
       "dtype: float64"
      ]
     },
     "execution_count": 22,
     "metadata": {},
     "output_type": "execute_result"
    }
   ],
   "source": [
    "r98_P4S02_mahdi.isna().mean()*100"
   ]
  },
  {
   "cell_type": "code",
   "execution_count": 23,
   "metadata": {},
   "outputs": [
    {
     "name": "stdout",
     "output_type": "stream",
     "text": [
      "231\n",
      "2850\n",
      "0\n",
      "2905\n"
     ]
    }
   ],
   "source": [
    "print(len(r98_P4S02_mahdi[r98_P4S02_mahdi['sale'].isna()]))\n",
    "print(len(r98_P4S02_mahdi[r98_P4S02_mahdi['sale'] == 0]))\n",
    "print(len(r98_P4S02_mahdi[r98_P4S02_mahdi['income_s_y'].isna()]))\n",
    "print(len(r98_P4S02_mahdi[r98_P4S02_mahdi['income_s_y'] == 0]))\n"
   ]
  },
  {
   "cell_type": "code",
   "execution_count": 24,
   "metadata": {},
   "outputs": [
    {
     "data": {
      "text/plain": [
       "employed_s\n",
       "1    3054\n",
       "2      27\n",
       "Name: count, dtype: int64"
      ]
     },
     "execution_count": 24,
     "metadata": {},
     "output_type": "execute_result"
    }
   ],
   "source": [
    "r98_P4S02_mahdi[(r98_P4S02_mahdi['sale'] == 0) | (r98_P4S02_mahdi['sale'].isna())]['employed_s'].value_counts()"
   ]
  },
  {
   "cell_type": "code",
   "execution_count": 25,
   "metadata": {},
   "outputs": [
    {
     "data": {
      "text/plain": [
       "employed_s\n",
       "1    2880\n",
       "2      25\n",
       "Name: count, dtype: int64"
      ]
     },
     "execution_count": 25,
     "metadata": {},
     "output_type": "execute_result"
    }
   ],
   "source": [
    "r98_P4S02_mahdi[(r98_P4S02_mahdi['income_s_y'] == 0) | (r98_P4S02_mahdi['income_s_y'].isna())]['employed_s'].value_counts()"
   ]
  },
  {
   "cell_type": "code",
   "execution_count": 26,
   "metadata": {},
   "outputs": [],
   "source": [
    "r98_P4S02_mahdi.loc[((r98_P4S02_mahdi['income_s_y'] == 0) | (r98_P4S02_mahdi['income_s_y'].isna())) & (r98_P4S02_mahdi['employed_s'] == 2), 'income_s_y'] = 0\n",
    "r98_P4S02_mahdi.loc[((r98_P4S02_mahdi['sale'] == 0) | (r98_P4S02_mahdi['sale'].isna())) & (r98_P4S02_mahdi['employed_s'] == 2), 'sale'] = 0"
   ]
  },
  {
   "cell_type": "code",
   "execution_count": 27,
   "metadata": {},
   "outputs": [
    {
     "name": "stdout",
     "output_type": "stream",
     "text": [
      "r2_score = 0.1735509068844422\n",
      "r2_score = 0.18744660081225117\n",
      "r2_score = 0.12801848671121663\n",
      "r2_score = 0.29450501809872387\n"
     ]
    }
   ],
   "source": [
    "X = r98_P4S02_mahdi[~r98_P4S02_mahdi['sale'].isna()].drop(['Address', 'member', 'sale'], axis = 1)\n",
    "y1 = r98_P4S02_mahdi[~r98_P4S02_mahdi['sale'].isna()]['sale']\n",
    "X_train, X_validation, y_train, y_validation = train_test_split(X, y1, test_size=0.25, random_state=42)\n",
    "\n",
    "model = RandomForestRegressor(n_estimators=100)\n",
    "model.fit(X_train, y_train)\n",
    "y_pred_validation = model.predict(X_validation)\n",
    "r2 = r2_score(y_validation, y_pred_validation)\n",
    "print(f\"r2_score = {r2}\")\n",
    "\n",
    "model = GradientBoostingRegressor()\n",
    "model.fit(X_train, y_train)\n",
    "y_pred_validation = model.predict(X_validation)\n",
    "r2 = r2_score(y_validation, y_pred_validation)\n",
    "print(f\"r2_score = {r2}\")\n",
    "\n",
    "model = SVC(kernel='rbf')\n",
    "model.fit(X_train, y_train)\n",
    "y_pred_validation = model.predict(X_validation)\n",
    "r2 = r2_score(y_validation, y_pred_validation)\n",
    "print(f\"r2_score = {r2}\")\n",
    "\n",
    "model = model = MLPRegressor(hidden_layer_sizes=(50, 50), max_iter=1000)\n",
    "model.fit(X_train, y_train)\n",
    "y_pred_validation = model.predict(X_validation)\n",
    "r2 = r2_score(y_validation, y_pred_validation)\n",
    "print(f\"r2_score = {r2}\")"
   ]
  },
  {
   "cell_type": "code",
   "execution_count": 28,
   "metadata": {},
   "outputs": [],
   "source": [
    "r98_P4S02_mahdi = r98_P4S02_mahdi[~r98_P4S02_mahdi['sale'].isna()]"
   ]
  },
  {
   "cell_type": "markdown",
   "metadata": {},
   "source": [
    "# R98P4S03"
   ]
  },
  {
   "cell_type": "code",
   "execution_count": 29,
   "metadata": {},
   "outputs": [
    {
     "data": {
      "text/plain": [
       "Address              0.000000\n",
       "member               0.000000\n",
       "income_pension      67.105752\n",
       "income_rent         70.834440\n",
       "income_interest     29.771073\n",
       "income_aid          44.999203\n",
       "income_resale       74.116960\n",
       "income_transfer     56.222446\n",
       "Fasl                 0.000000\n",
       "year                 0.000000\n",
       "DYCOL00            100.000000\n",
       "dtype: float64"
      ]
     },
     "execution_count": 29,
     "metadata": {},
     "output_type": "execute_result"
    }
   ],
   "source": [
    "r98['R98P4S03'].isna().mean()*100"
   ]
  },
  {
   "cell_type": "code",
   "execution_count": 30,
   "metadata": {},
   "outputs": [],
   "source": [
    "r98_P4S03_mahdi = r98['R98P4S03'].drop(['DYCOL00'], axis = 1)"
   ]
  },
  {
   "cell_type": "markdown",
   "metadata": {},
   "source": [
    "# r98_P4S04"
   ]
  },
  {
   "cell_type": "code",
   "execution_count": 32,
   "metadata": {},
   "outputs": [
    {
     "data": {
      "text/plain": [
       "Address             0.0\n",
       "member              0.0\n",
       "subsidy_number      0.0\n",
       "subsidy_month       0.0\n",
       "subsidy             0.0\n",
       "Fasl                0.0\n",
       "year                0.0\n",
       "DYCOL00           100.0\n",
       "dtype: float64"
      ]
     },
     "execution_count": 32,
     "metadata": {},
     "output_type": "execute_result"
    }
   ],
   "source": [
    "r98['R98P4S04'].isna().mean()*100"
   ]
  },
  {
   "cell_type": "code",
   "execution_count": 33,
   "metadata": {},
   "outputs": [],
   "source": [
    "r98_P4S04_mahdi = r98['R98P4S04'].drop(['DYCOL00'], axis = 1)"
   ]
  },
  {
   "cell_type": "markdown",
   "metadata": {},
   "source": [
    "# Mahdi's Files"
   ]
  },
  {
   "cell_type": "code",
   "execution_count": 34,
   "metadata": {},
   "outputs": [
    {
     "data": {
      "text/html": [
       "<div>\n",
       "<style scoped>\n",
       "    .dataframe tbody tr th:only-of-type {\n",
       "        vertical-align: middle;\n",
       "    }\n",
       "\n",
       "    .dataframe tbody tr th {\n",
       "        vertical-align: top;\n",
       "    }\n",
       "\n",
       "    .dataframe thead th {\n",
       "        text-align: right;\n",
       "    }\n",
       "</style>\n",
       "<table border=\"1\" class=\"dataframe\">\n",
       "  <thead>\n",
       "    <tr style=\"text-align: right;\">\n",
       "      <th></th>\n",
       "      <th>Address</th>\n",
       "      <th>member</th>\n",
       "      <th>subsidy_number</th>\n",
       "      <th>subsidy_month</th>\n",
       "      <th>subsidy</th>\n",
       "      <th>Fasl</th>\n",
       "      <th>year</th>\n",
       "    </tr>\n",
       "  </thead>\n",
       "  <tbody>\n",
       "    <tr>\n",
       "      <th>0</th>\n",
       "      <td>20011395420</td>\n",
       "      <td>1</td>\n",
       "      <td>3</td>\n",
       "      <td>12</td>\n",
       "      <td>16380000</td>\n",
       "      <td>1</td>\n",
       "      <td>98</td>\n",
       "    </tr>\n",
       "    <tr>\n",
       "      <th>1</th>\n",
       "      <td>20001385412</td>\n",
       "      <td>1</td>\n",
       "      <td>4</td>\n",
       "      <td>12</td>\n",
       "      <td>21840000</td>\n",
       "      <td>1</td>\n",
       "      <td>98</td>\n",
       "    </tr>\n",
       "    <tr>\n",
       "      <th>2</th>\n",
       "      <td>20001385423</td>\n",
       "      <td>1</td>\n",
       "      <td>2</td>\n",
       "      <td>12</td>\n",
       "      <td>10920000</td>\n",
       "      <td>1</td>\n",
       "      <td>98</td>\n",
       "    </tr>\n",
       "    <tr>\n",
       "      <th>3</th>\n",
       "      <td>20001385420</td>\n",
       "      <td>1</td>\n",
       "      <td>1</td>\n",
       "      <td>12</td>\n",
       "      <td>5460000</td>\n",
       "      <td>1</td>\n",
       "      <td>98</td>\n",
       "    </tr>\n",
       "    <tr>\n",
       "      <th>4</th>\n",
       "      <td>20011395407</td>\n",
       "      <td>1</td>\n",
       "      <td>4</td>\n",
       "      <td>12</td>\n",
       "      <td>21840000</td>\n",
       "      <td>1</td>\n",
       "      <td>98</td>\n",
       "    </tr>\n",
       "    <tr>\n",
       "      <th>...</th>\n",
       "      <td>...</td>\n",
       "      <td>...</td>\n",
       "      <td>...</td>\n",
       "      <td>...</td>\n",
       "      <td>...</td>\n",
       "      <td>...</td>\n",
       "      <td>...</td>\n",
       "    </tr>\n",
       "    <tr>\n",
       "      <th>19605</th>\n",
       "      <td>23001700611</td>\n",
       "      <td>1</td>\n",
       "      <td>2</td>\n",
       "      <td>12</td>\n",
       "      <td>10920000</td>\n",
       "      <td>4</td>\n",
       "      <td>98</td>\n",
       "    </tr>\n",
       "    <tr>\n",
       "      <th>19606</th>\n",
       "      <td>23001700611</td>\n",
       "      <td>3</td>\n",
       "      <td>2</td>\n",
       "      <td>12</td>\n",
       "      <td>10920000</td>\n",
       "      <td>4</td>\n",
       "      <td>98</td>\n",
       "    </tr>\n",
       "    <tr>\n",
       "      <th>19607</th>\n",
       "      <td>23001701017</td>\n",
       "      <td>1</td>\n",
       "      <td>3</td>\n",
       "      <td>12</td>\n",
       "      <td>16380000</td>\n",
       "      <td>4</td>\n",
       "      <td>98</td>\n",
       "    </tr>\n",
       "    <tr>\n",
       "      <th>19608</th>\n",
       "      <td>23001701020</td>\n",
       "      <td>1</td>\n",
       "      <td>3</td>\n",
       "      <td>12</td>\n",
       "      <td>16380000</td>\n",
       "      <td>4</td>\n",
       "      <td>98</td>\n",
       "    </tr>\n",
       "    <tr>\n",
       "      <th>19609</th>\n",
       "      <td>23002703423</td>\n",
       "      <td>1</td>\n",
       "      <td>1</td>\n",
       "      <td>12</td>\n",
       "      <td>5460000</td>\n",
       "      <td>4</td>\n",
       "      <td>98</td>\n",
       "    </tr>\n",
       "  </tbody>\n",
       "</table>\n",
       "<p>19610 rows × 7 columns</p>\n",
       "</div>"
      ],
      "text/plain": [
       "           Address  member  subsidy_number  subsidy_month   subsidy  Fasl  \\\n",
       "0      20011395420       1               3             12  16380000     1   \n",
       "1      20001385412       1               4             12  21840000     1   \n",
       "2      20001385423       1               2             12  10920000     1   \n",
       "3      20001385420       1               1             12   5460000     1   \n",
       "4      20011395407       1               4             12  21840000     1   \n",
       "...            ...     ...             ...            ...       ...   ...   \n",
       "19605  23001700611       1               2             12  10920000     4   \n",
       "19606  23001700611       3               2             12  10920000     4   \n",
       "19607  23001701017       1               3             12  16380000     4   \n",
       "19608  23001701020       1               3             12  16380000     4   \n",
       "19609  23002703423       1               1             12   5460000     4   \n",
       "\n",
       "       year  \n",
       "0        98  \n",
       "1        98  \n",
       "2        98  \n",
       "3        98  \n",
       "4        98  \n",
       "...     ...  \n",
       "19605    98  \n",
       "19606    98  \n",
       "19607    98  \n",
       "19608    98  \n",
       "19609    98  \n",
       "\n",
       "[19610 rows x 7 columns]"
      ]
     },
     "execution_count": 34,
     "metadata": {},
     "output_type": "execute_result"
    }
   ],
   "source": [
    "R98_P4S01_mahdi\n",
    "r98_P4S02_mahdi\n",
    "r98_P4S03_mahdi\n",
    "r98_P4S04_mahdi"
   ]
  },
  {
   "cell_type": "markdown",
   "metadata": {},
   "source": [
    "# R98_P4S01"
   ]
  },
  {
   "cell_type": "code",
   "execution_count": 35,
   "metadata": {},
   "outputs": [
    {
     "name": "stdout",
     "output_type": "stream",
     "text": [
      "<class 'pandas.core.frame.DataFrame'>\n",
      "Index: 9512 entries, 0 to 10819\n",
      "Data columns (total 14 columns):\n",
      " #   Column         Non-Null Count  Dtype  \n",
      "---  ------         --------------  -----  \n",
      " 0   Address        9512 non-null   int64  \n",
      " 1   member         9512 non-null   int64  \n",
      " 2   employed_w     9512 non-null   int64  \n",
      " 3   ISCO_w         9512 non-null   int64  \n",
      " 4   ISIC_w         9512 non-null   int64  \n",
      " 5   status_w       9512 non-null   int64  \n",
      " 6   hours_w        9512 non-null   float64\n",
      " 7   days_w         9512 non-null   float64\n",
      " 8   income_w_y     9512 non-null   int64  \n",
      " 9   wage_w_y       9512 non-null   float64\n",
      " 10  perk_w_y       9512 non-null   float64\n",
      " 11  netincome_w_y  9512 non-null   int64  \n",
      " 12  Fasl           9512 non-null   int64  \n",
      " 13  year           9512 non-null   int64  \n",
      "dtypes: float64(4), int64(10)\n",
      "memory usage: 1.1 MB\n"
     ]
    }
   ],
   "source": [
    "R98_P4S01_mahdi.info()"
   ]
  },
  {
   "cell_type": "code",
   "execution_count": 37,
   "metadata": {},
   "outputs": [
    {
     "name": "stdout",
     "output_type": "stream",
     "text": [
      "(9512, 14)\n",
      "(9512, 14)\n"
     ]
    }
   ],
   "source": [
    "print(R98_P4S01_mahdi.shape)\n",
    "test_duplicate = R98_P4S01_mahdi.drop_duplicates()\n",
    "print(test_duplicate.shape)"
   ]
  },
  {
   "cell_type": "code",
   "execution_count": 38,
   "metadata": {},
   "outputs": [
    {
     "name": "stdout",
     "output_type": "stream",
     "text": [
      "9512\n",
      "29\n",
      "176\n"
     ]
    }
   ],
   "source": [
    "R98_P4S01_mahdi_employed_no_income = R98_P4S01_mahdi[(R98_P4S01_mahdi['employed_w'] == 1) & (R98_P4S01_mahdi['netincome_w_y'] == 0)]\n",
    "R98_P4S01_mahdi_unemployed_with_income = R98_P4S01_mahdi[(R98_P4S01_mahdi['employed_w'] == 2) & (R98_P4S01_mahdi['netincome_w_y'] != 0)]\n",
    "\n",
    "print(len(R98_P4S01_mahdi))\n",
    "print(len(R98_P4S01_mahdi_employed_no_income))\n",
    "print(len(R98_P4S01_mahdi_unemployed_with_income))"
   ]
  },
  {
   "cell_type": "code",
   "execution_count": 39,
   "metadata": {},
   "outputs": [
    {
     "name": "stdout",
     "output_type": "stream",
     "text": [
      "<class 'pandas.core.frame.DataFrame'>\n",
      "Index: 9307 entries, 0 to 10819\n",
      "Data columns (total 14 columns):\n",
      " #   Column         Non-Null Count  Dtype  \n",
      "---  ------         --------------  -----  \n",
      " 0   Address        9307 non-null   int64  \n",
      " 1   member         9307 non-null   int64  \n",
      " 2   employed_w     9307 non-null   int64  \n",
      " 3   ISCO_w         9307 non-null   int64  \n",
      " 4   ISIC_w         9307 non-null   int64  \n",
      " 5   status_w       9307 non-null   int64  \n",
      " 6   hours_w        9307 non-null   float64\n",
      " 7   days_w         9307 non-null   float64\n",
      " 8   income_w_y     9307 non-null   int64  \n",
      " 9   wage_w_y       9307 non-null   float64\n",
      " 10  perk_w_y       9307 non-null   float64\n",
      " 11  netincome_w_y  9307 non-null   int64  \n",
      " 12  Fasl           9307 non-null   int64  \n",
      " 13  year           9307 non-null   int64  \n",
      "dtypes: float64(4), int64(10)\n",
      "memory usage: 1.1 MB\n"
     ]
    }
   ],
   "source": [
    "R98_P4S01_mahdi_employed_no_income_condition = (R98_P4S01_mahdi['employed_w'] == 1) & (R98_P4S01_mahdi['netincome_w_y'] == 0)\n",
    "R98_P4S01_mahdi_unemployed_with_income_condition = (R98_P4S01_mahdi['employed_w'] == 2) & (R98_P4S01_mahdi['netincome_w_y'] != 0)\n",
    "\n",
    "R98_P4S01_mahdi_clean = R98_P4S01_mahdi[~(R98_P4S01_mahdi_employed_no_income_condition | R98_P4S01_mahdi_unemployed_with_income_condition)]\n",
    "R98_P4S01_mahdi_clean.info()"
   ]
  },
  {
   "cell_type": "code",
   "execution_count": 40,
   "metadata": {},
   "outputs": [
    {
     "data": {
      "text/plain": [
       "7807"
      ]
     },
     "execution_count": 40,
     "metadata": {},
     "output_type": "execute_result"
    }
   ],
   "source": [
    "r98_P4S01_family_netincome = R98_P4S01_mahdi_clean[['Address', 'netincome_w_y']]\n",
    "r98_P4S01_family_netincome = r98_P4S01_family_netincome.groupby('Address')['netincome_w_y'].sum().reset_index()\n",
    "r98_P4S01_family_netincome['Address'].is_unique\n",
    "len(r98_P4S01_family_netincome)"
   ]
  },
  {
   "cell_type": "markdown",
   "metadata": {},
   "source": [
    "# r98_P4S02"
   ]
  },
  {
   "cell_type": "code",
   "execution_count": 41,
   "metadata": {},
   "outputs": [
    {
     "data": {
      "text/html": [
       "<div>\n",
       "<style scoped>\n",
       "    .dataframe tbody tr th:only-of-type {\n",
       "        vertical-align: middle;\n",
       "    }\n",
       "\n",
       "    .dataframe tbody tr th {\n",
       "        vertical-align: top;\n",
       "    }\n",
       "\n",
       "    .dataframe thead th {\n",
       "        text-align: right;\n",
       "    }\n",
       "</style>\n",
       "<table border=\"1\" class=\"dataframe\">\n",
       "  <thead>\n",
       "    <tr style=\"text-align: right;\">\n",
       "      <th></th>\n",
       "      <th>Address</th>\n",
       "      <th>member</th>\n",
       "      <th>employed_s</th>\n",
       "      <th>ISCO_s</th>\n",
       "      <th>ISIC_s</th>\n",
       "      <th>status_s</th>\n",
       "      <th>agriculture</th>\n",
       "      <th>sale</th>\n",
       "      <th>income_s_y</th>\n",
       "      <th>Fasl</th>\n",
       "      <th>year</th>\n",
       "    </tr>\n",
       "  </thead>\n",
       "  <tbody>\n",
       "    <tr>\n",
       "      <th>0</th>\n",
       "      <td>20011395420</td>\n",
       "      <td>1</td>\n",
       "      <td>1</td>\n",
       "      <td>6121</td>\n",
       "      <td>1440</td>\n",
       "      <td>5</td>\n",
       "      <td>1</td>\n",
       "      <td>142500000.0</td>\n",
       "      <td>72500000</td>\n",
       "      <td>1</td>\n",
       "      <td>98</td>\n",
       "    </tr>\n",
       "    <tr>\n",
       "      <th>1</th>\n",
       "      <td>20001385423</td>\n",
       "      <td>1</td>\n",
       "      <td>1</td>\n",
       "      <td>6111</td>\n",
       "      <td>1110</td>\n",
       "      <td>5</td>\n",
       "      <td>1</td>\n",
       "      <td>113000000.0</td>\n",
       "      <td>70000000</td>\n",
       "      <td>1</td>\n",
       "      <td>98</td>\n",
       "    </tr>\n",
       "    <tr>\n",
       "      <th>2</th>\n",
       "      <td>20011395407</td>\n",
       "      <td>1</td>\n",
       "      <td>1</td>\n",
       "      <td>6111</td>\n",
       "      <td>1110</td>\n",
       "      <td>5</td>\n",
       "      <td>1</td>\n",
       "      <td>185000000.0</td>\n",
       "      <td>108500000</td>\n",
       "      <td>1</td>\n",
       "      <td>98</td>\n",
       "    </tr>\n",
       "    <tr>\n",
       "      <th>3</th>\n",
       "      <td>20011395407</td>\n",
       "      <td>1</td>\n",
       "      <td>1</td>\n",
       "      <td>6121</td>\n",
       "      <td>1440</td>\n",
       "      <td>5</td>\n",
       "      <td>1</td>\n",
       "      <td>205000000.0</td>\n",
       "      <td>100000000</td>\n",
       "      <td>1</td>\n",
       "      <td>98</td>\n",
       "    </tr>\n",
       "    <tr>\n",
       "      <th>4</th>\n",
       "      <td>20004387823</td>\n",
       "      <td>1</td>\n",
       "      <td>1</td>\n",
       "      <td>8322</td>\n",
       "      <td>49230</td>\n",
       "      <td>5</td>\n",
       "      <td>2</td>\n",
       "      <td>190000000.0</td>\n",
       "      <td>120000000</td>\n",
       "      <td>1</td>\n",
       "      <td>98</td>\n",
       "    </tr>\n",
       "    <tr>\n",
       "      <th>...</th>\n",
       "      <td>...</td>\n",
       "      <td>...</td>\n",
       "      <td>...</td>\n",
       "      <td>...</td>\n",
       "      <td>...</td>\n",
       "      <td>...</td>\n",
       "      <td>...</td>\n",
       "      <td>...</td>\n",
       "      <td>...</td>\n",
       "      <td>...</td>\n",
       "      <td>...</td>\n",
       "    </tr>\n",
       "    <tr>\n",
       "      <th>14334</th>\n",
       "      <td>23002703011</td>\n",
       "      <td>1</td>\n",
       "      <td>1</td>\n",
       "      <td>8322</td>\n",
       "      <td>49220</td>\n",
       "      <td>5</td>\n",
       "      <td>2</td>\n",
       "      <td>240000000.0</td>\n",
       "      <td>140000000</td>\n",
       "      <td>4</td>\n",
       "      <td>98</td>\n",
       "    </tr>\n",
       "    <tr>\n",
       "      <th>14335</th>\n",
       "      <td>23002703011</td>\n",
       "      <td>2</td>\n",
       "      <td>1</td>\n",
       "      <td>5120</td>\n",
       "      <td>47212</td>\n",
       "      <td>5</td>\n",
       "      <td>2</td>\n",
       "      <td>470000000.0</td>\n",
       "      <td>130000000</td>\n",
       "      <td>4</td>\n",
       "      <td>98</td>\n",
       "    </tr>\n",
       "    <tr>\n",
       "      <th>14336</th>\n",
       "      <td>23002703814</td>\n",
       "      <td>1</td>\n",
       "      <td>1</td>\n",
       "      <td>8322</td>\n",
       "      <td>49220</td>\n",
       "      <td>5</td>\n",
       "      <td>2</td>\n",
       "      <td>420000000.0</td>\n",
       "      <td>340000000</td>\n",
       "      <td>4</td>\n",
       "      <td>98</td>\n",
       "    </tr>\n",
       "    <tr>\n",
       "      <th>14337</th>\n",
       "      <td>23006708208</td>\n",
       "      <td>1</td>\n",
       "      <td>1</td>\n",
       "      <td>5120</td>\n",
       "      <td>47510</td>\n",
       "      <td>5</td>\n",
       "      <td>2</td>\n",
       "      <td>184000000.0</td>\n",
       "      <td>184000000</td>\n",
       "      <td>4</td>\n",
       "      <td>98</td>\n",
       "    </tr>\n",
       "    <tr>\n",
       "      <th>14338</th>\n",
       "      <td>23001701414</td>\n",
       "      <td>1</td>\n",
       "      <td>1</td>\n",
       "      <td>5224</td>\n",
       "      <td>47212</td>\n",
       "      <td>5</td>\n",
       "      <td>2</td>\n",
       "      <td>456000000.0</td>\n",
       "      <td>300000000</td>\n",
       "      <td>4</td>\n",
       "      <td>98</td>\n",
       "    </tr>\n",
       "  </tbody>\n",
       "</table>\n",
       "<p>14108 rows × 11 columns</p>\n",
       "</div>"
      ],
      "text/plain": [
       "           Address  member  employed_s  ISCO_s  ISIC_s  status_s  agriculture  \\\n",
       "0      20011395420       1           1    6121    1440         5            1   \n",
       "1      20001385423       1           1    6111    1110         5            1   \n",
       "2      20011395407       1           1    6111    1110         5            1   \n",
       "3      20011395407       1           1    6121    1440         5            1   \n",
       "4      20004387823       1           1    8322   49230         5            2   \n",
       "...            ...     ...         ...     ...     ...       ...          ...   \n",
       "14334  23002703011       1           1    8322   49220         5            2   \n",
       "14335  23002703011       2           1    5120   47212         5            2   \n",
       "14336  23002703814       1           1    8322   49220         5            2   \n",
       "14337  23006708208       1           1    5120   47510         5            2   \n",
       "14338  23001701414       1           1    5224   47212         5            2   \n",
       "\n",
       "              sale  income_s_y  Fasl  year  \n",
       "0      142500000.0    72500000     1    98  \n",
       "1      113000000.0    70000000     1    98  \n",
       "2      185000000.0   108500000     1    98  \n",
       "3      205000000.0   100000000     1    98  \n",
       "4      190000000.0   120000000     1    98  \n",
       "...            ...         ...   ...   ...  \n",
       "14334  240000000.0   140000000     4    98  \n",
       "14335  470000000.0   130000000     4    98  \n",
       "14336  420000000.0   340000000     4    98  \n",
       "14337  184000000.0   184000000     4    98  \n",
       "14338  456000000.0   300000000     4    98  \n",
       "\n",
       "[14108 rows x 11 columns]"
      ]
     },
     "execution_count": 41,
     "metadata": {},
     "output_type": "execute_result"
    }
   ],
   "source": [
    "r98_P4S02_mahdi"
   ]
  },
  {
   "cell_type": "code",
   "execution_count": 42,
   "metadata": {},
   "outputs": [
    {
     "name": "stdout",
     "output_type": "stream",
     "text": [
      "(14108, 11)\n",
      "(14107, 11)\n"
     ]
    }
   ],
   "source": [
    "print(r98_P4S02_mahdi.shape)\n",
    "test_duplicate = r98_P4S02_mahdi.drop_duplicates()\n",
    "print(test_duplicate.shape)"
   ]
  },
  {
   "cell_type": "code",
   "execution_count": 43,
   "metadata": {},
   "outputs": [
    {
     "name": "stdout",
     "output_type": "stream",
     "text": [
      "14108\n",
      "2650\n",
      "288\n"
     ]
    }
   ],
   "source": [
    "r98_P4S02_mahdi_employed_no_income = r98_P4S02_mahdi[(r98_P4S02_mahdi['employed_s'] == 1) & (r98_P4S02_mahdi['income_s_y'] == 0)]\n",
    "r98_P4S02_mahdi_unemployed_with_income = r98_P4S02_mahdi[(r98_P4S02_mahdi['employed_s'] == 2) & (r98_P4S02_mahdi['income_s_y'] != 0)]\n",
    "\n",
    "print(len(r98_P4S02_mahdi))\n",
    "print(len(r98_P4S02_mahdi_employed_no_income))\n",
    "print(len(r98_P4S02_mahdi_unemployed_with_income))"
   ]
  },
  {
   "cell_type": "code",
   "execution_count": 44,
   "metadata": {},
   "outputs": [
    {
     "data": {
      "text/html": [
       "<div>\n",
       "<style scoped>\n",
       "    .dataframe tbody tr th:only-of-type {\n",
       "        vertical-align: middle;\n",
       "    }\n",
       "\n",
       "    .dataframe tbody tr th {\n",
       "        vertical-align: top;\n",
       "    }\n",
       "\n",
       "    .dataframe thead th {\n",
       "        text-align: right;\n",
       "    }\n",
       "</style>\n",
       "<table border=\"1\" class=\"dataframe\">\n",
       "  <thead>\n",
       "    <tr style=\"text-align: right;\">\n",
       "      <th></th>\n",
       "      <th>Address</th>\n",
       "      <th>member</th>\n",
       "      <th>employed_s</th>\n",
       "      <th>ISCO_s</th>\n",
       "      <th>ISIC_s</th>\n",
       "      <th>status_s</th>\n",
       "      <th>agriculture</th>\n",
       "      <th>sale</th>\n",
       "      <th>income_s_y</th>\n",
       "      <th>Fasl</th>\n",
       "      <th>year</th>\n",
       "    </tr>\n",
       "  </thead>\n",
       "  <tbody>\n",
       "    <tr>\n",
       "      <th>244</th>\n",
       "      <td>20207409917</td>\n",
       "      <td>3</td>\n",
       "      <td>1</td>\n",
       "      <td>9214</td>\n",
       "      <td>1230</td>\n",
       "      <td>6</td>\n",
       "      <td>1</td>\n",
       "      <td>0.0</td>\n",
       "      <td>0</td>\n",
       "      <td>1</td>\n",
       "      <td>98</td>\n",
       "    </tr>\n",
       "    <tr>\n",
       "      <th>250</th>\n",
       "      <td>20214411123</td>\n",
       "      <td>2</td>\n",
       "      <td>1</td>\n",
       "      <td>6121</td>\n",
       "      <td>1411</td>\n",
       "      <td>6</td>\n",
       "      <td>1</td>\n",
       "      <td>0.0</td>\n",
       "      <td>0</td>\n",
       "      <td>1</td>\n",
       "      <td>98</td>\n",
       "    </tr>\n",
       "    <tr>\n",
       "      <th>271</th>\n",
       "      <td>20225415911</td>\n",
       "      <td>3</td>\n",
       "      <td>1</td>\n",
       "      <td>9211</td>\n",
       "      <td>1610</td>\n",
       "      <td>6</td>\n",
       "      <td>1</td>\n",
       "      <td>0.0</td>\n",
       "      <td>0</td>\n",
       "      <td>1</td>\n",
       "      <td>98</td>\n",
       "    </tr>\n",
       "    <tr>\n",
       "      <th>295</th>\n",
       "      <td>20204407914</td>\n",
       "      <td>2</td>\n",
       "      <td>1</td>\n",
       "      <td>6111</td>\n",
       "      <td>1120</td>\n",
       "      <td>6</td>\n",
       "      <td>1</td>\n",
       "      <td>0.0</td>\n",
       "      <td>0</td>\n",
       "      <td>1</td>\n",
       "      <td>98</td>\n",
       "    </tr>\n",
       "    <tr>\n",
       "      <th>298</th>\n",
       "      <td>20204407917</td>\n",
       "      <td>2</td>\n",
       "      <td>1</td>\n",
       "      <td>6111</td>\n",
       "      <td>1130</td>\n",
       "      <td>6</td>\n",
       "      <td>1</td>\n",
       "      <td>0.0</td>\n",
       "      <td>0</td>\n",
       "      <td>1</td>\n",
       "      <td>98</td>\n",
       "    </tr>\n",
       "    <tr>\n",
       "      <th>...</th>\n",
       "      <td>...</td>\n",
       "      <td>...</td>\n",
       "      <td>...</td>\n",
       "      <td>...</td>\n",
       "      <td>...</td>\n",
       "      <td>...</td>\n",
       "      <td>...</td>\n",
       "      <td>...</td>\n",
       "      <td>...</td>\n",
       "      <td>...</td>\n",
       "      <td>...</td>\n",
       "    </tr>\n",
       "    <tr>\n",
       "      <th>14276</th>\n",
       "      <td>22905694408</td>\n",
       "      <td>2</td>\n",
       "      <td>1</td>\n",
       "      <td>6121</td>\n",
       "      <td>1440</td>\n",
       "      <td>6</td>\n",
       "      <td>1</td>\n",
       "      <td>0.0</td>\n",
       "      <td>0</td>\n",
       "      <td>4</td>\n",
       "      <td>98</td>\n",
       "    </tr>\n",
       "    <tr>\n",
       "      <th>14277</th>\n",
       "      <td>22905694408</td>\n",
       "      <td>3</td>\n",
       "      <td>1</td>\n",
       "      <td>6121</td>\n",
       "      <td>1440</td>\n",
       "      <td>6</td>\n",
       "      <td>1</td>\n",
       "      <td>0.0</td>\n",
       "      <td>0</td>\n",
       "      <td>4</td>\n",
       "      <td>98</td>\n",
       "    </tr>\n",
       "    <tr>\n",
       "      <th>14278</th>\n",
       "      <td>22905694408</td>\n",
       "      <td>4</td>\n",
       "      <td>1</td>\n",
       "      <td>6121</td>\n",
       "      <td>1440</td>\n",
       "      <td>6</td>\n",
       "      <td>1</td>\n",
       "      <td>0.0</td>\n",
       "      <td>0</td>\n",
       "      <td>4</td>\n",
       "      <td>98</td>\n",
       "    </tr>\n",
       "    <tr>\n",
       "      <th>14289</th>\n",
       "      <td>22904692808</td>\n",
       "      <td>3</td>\n",
       "      <td>1</td>\n",
       "      <td>6121</td>\n",
       "      <td>1440</td>\n",
       "      <td>6</td>\n",
       "      <td>1</td>\n",
       "      <td>0.0</td>\n",
       "      <td>0</td>\n",
       "      <td>4</td>\n",
       "      <td>98</td>\n",
       "    </tr>\n",
       "    <tr>\n",
       "      <th>14292</th>\n",
       "      <td>22905694020</td>\n",
       "      <td>2</td>\n",
       "      <td>1</td>\n",
       "      <td>6121</td>\n",
       "      <td>1440</td>\n",
       "      <td>6</td>\n",
       "      <td>1</td>\n",
       "      <td>0.0</td>\n",
       "      <td>0</td>\n",
       "      <td>4</td>\n",
       "      <td>98</td>\n",
       "    </tr>\n",
       "  </tbody>\n",
       "</table>\n",
       "<p>2462 rows × 11 columns</p>\n",
       "</div>"
      ],
      "text/plain": [
       "           Address  member  employed_s  ISCO_s  ISIC_s  status_s  agriculture  \\\n",
       "244    20207409917       3           1    9214    1230         6            1   \n",
       "250    20214411123       2           1    6121    1411         6            1   \n",
       "271    20225415911       3           1    9211    1610         6            1   \n",
       "295    20204407914       2           1    6111    1120         6            1   \n",
       "298    20204407917       2           1    6111    1130         6            1   \n",
       "...            ...     ...         ...     ...     ...       ...          ...   \n",
       "14276  22905694408       2           1    6121    1440         6            1   \n",
       "14277  22905694408       3           1    6121    1440         6            1   \n",
       "14278  22905694408       4           1    6121    1440         6            1   \n",
       "14289  22904692808       3           1    6121    1440         6            1   \n",
       "14292  22905694020       2           1    6121    1440         6            1   \n",
       "\n",
       "       sale  income_s_y  Fasl  year  \n",
       "244     0.0           0     1    98  \n",
       "250     0.0           0     1    98  \n",
       "271     0.0           0     1    98  \n",
       "295     0.0           0     1    98  \n",
       "298     0.0           0     1    98  \n",
       "...     ...         ...   ...   ...  \n",
       "14276   0.0           0     4    98  \n",
       "14277   0.0           0     4    98  \n",
       "14278   0.0           0     4    98  \n",
       "14289   0.0           0     4    98  \n",
       "14292   0.0           0     4    98  \n",
       "\n",
       "[2462 rows x 11 columns]"
      ]
     },
     "execution_count": 44,
     "metadata": {},
     "output_type": "execute_result"
    }
   ],
   "source": [
    "r98_P4S02_mahdi_employed_no_income[r98_P4S02_mahdi_employed_no_income['agriculture']!=2]"
   ]
  },
  {
   "cell_type": "code",
   "execution_count": 46,
   "metadata": {},
   "outputs": [],
   "source": [
    "test_employment_income = r98['R98P4S02']"
   ]
  },
  {
   "cell_type": "code",
   "execution_count": 47,
   "metadata": {},
   "outputs": [
    {
     "name": "stdout",
     "output_type": "stream",
     "text": [
      "2880\n",
      "2876\n"
     ]
    }
   ],
   "source": [
    "r98_P4S02_mahdi_employed_no_income_test = test_employment_income[(test_employment_income['employed_s'] == 1) & (test_employment_income['income_s_y'] == 0)]\n",
    "r98_P4S02_selected_columns = r98_P4S02_mahdi_employed_no_income_test[['cost_employment', 'cost_raw', 'cost_machinery', 'cost_others', 'sale','income_s_y']]\n",
    "# r98_P4S02_mahdi_employed_no_income_test.info()\n",
    "num_zero_or_nan_cost_raw = ((r98_P4S02_selected_columns['cost_others'] == 0) | r98_P4S02_selected_columns['cost_others'].isna()).sum()\n",
    "print(len(r98_P4S02_mahdi_employed_no_income_test))\n",
    "print(num_zero_or_nan_cost_raw)\n",
    "\n"
   ]
  },
  {
   "cell_type": "code",
   "execution_count": 48,
   "metadata": {},
   "outputs": [
    {
     "name": "stdout",
     "output_type": "stream",
     "text": [
      "       cost_employment    cost_raw  cost_machinery  cost_others        sale  \\\n",
      "1399        18000000.0  34000000.0      13000000.0    5000000.0  70000000.0   \n",
      "1993               0.0   9000000.0             0.0     500000.0   9500000.0   \n",
      "8849               0.0         0.0             0.0   30000000.0  30000000.0   \n",
      "13540              0.0  55000000.0             0.0   15000000.0  70000000.0   \n",
      "\n",
      "       income_s_y  \n",
      "1399            0  \n",
      "1993            0  \n",
      "8849            0  \n",
      "13540           0  \n",
      "4\n"
     ]
    }
   ],
   "source": [
    "not_zero_not_nan_cost_raw = r98_P4S02_selected_columns[(r98_P4S02_selected_columns['cost_others'] != 0) & r98_P4S02_selected_columns['cost_others'].notna()]\n",
    "print(not_zero_not_nan_cost_raw)\n",
    "print(len(not_zero_not_nan_cost_raw))"
   ]
  },
  {
   "cell_type": "code",
   "execution_count": 49,
   "metadata": {},
   "outputs": [
    {
     "name": "stdout",
     "output_type": "stream",
     "text": [
      "<class 'pandas.core.frame.DataFrame'>\n",
      "Index: 11170 entries, 0 to 14338\n",
      "Data columns (total 11 columns):\n",
      " #   Column       Non-Null Count  Dtype  \n",
      "---  ------       --------------  -----  \n",
      " 0   Address      11170 non-null  int64  \n",
      " 1   member       11170 non-null  int64  \n",
      " 2   employed_s   11170 non-null  int64  \n",
      " 3   ISCO_s       11170 non-null  int64  \n",
      " 4   ISIC_s       11170 non-null  int64  \n",
      " 5   status_s     11170 non-null  int64  \n",
      " 6   agriculture  11170 non-null  int64  \n",
      " 7   sale         11170 non-null  float64\n",
      " 8   income_s_y   11170 non-null  int64  \n",
      " 9   Fasl         11170 non-null  int64  \n",
      " 10  year         11170 non-null  int64  \n",
      "dtypes: float64(1), int64(10)\n",
      "memory usage: 1.0 MB\n"
     ]
    }
   ],
   "source": [
    "r98_P4S02_mahdi_employed_no_income_condition = (r98_P4S02_mahdi['employed_s'] == 1) & (r98_P4S02_mahdi['income_s_y'] == 0)\n",
    "r98_P4S02_mahdi_unemployed_with_income_condition = (r98_P4S02_mahdi['employed_s'] == 2) & (r98_P4S02_mahdi['income_s_y'] != 0)\n",
    "\n",
    "r98_P4S02_mahdi_clean = r98_P4S02_mahdi[~(r98_P4S02_mahdi_employed_no_income_condition | r98_P4S02_mahdi_unemployed_with_income_condition)]\n",
    "r98_P4S02_mahdi_clean.info()"
   ]
  },
  {
   "cell_type": "code",
   "execution_count": 50,
   "metadata": {},
   "outputs": [
    {
     "data": {
      "text/plain": [
       "8166"
      ]
     },
     "execution_count": 50,
     "metadata": {},
     "output_type": "execute_result"
    }
   ],
   "source": [
    "r98_P4S02_family_netincome = r98_P4S02_mahdi_clean[['Address', 'income_s_y']]\n",
    "r98_P4S02_family_netincome = r98_P4S02_family_netincome.groupby('Address')['income_s_y'].sum().reset_index()\n",
    "r98_P4S02_family_netincome['Address'].is_unique\n",
    "len(r98_P4S02_family_netincome)"
   ]
  },
  {
   "cell_type": "markdown",
   "metadata": {},
   "source": [
    "# R98_P4S03"
   ]
  },
  {
   "cell_type": "code",
   "execution_count": 51,
   "metadata": {},
   "outputs": [
    {
     "name": "stdout",
     "output_type": "stream",
     "text": [
      "<class 'pandas.core.frame.DataFrame'>\n",
      "RangeIndex: 18827 entries, 0 to 18826\n",
      "Data columns (total 10 columns):\n",
      " #   Column           Non-Null Count  Dtype  \n",
      "---  ------           --------------  -----  \n",
      " 0   Address          18827 non-null  int64  \n",
      " 1   member           18827 non-null  int64  \n",
      " 2   income_pension   6193 non-null   object \n",
      " 3   income_rent      5491 non-null   object \n",
      " 4   income_interest  13222 non-null  float64\n",
      " 5   income_aid       10355 non-null  float64\n",
      " 6   income_resale    4873 non-null   float64\n",
      " 7   income_transfer  8242 non-null   float64\n",
      " 8   Fasl             18827 non-null  int64  \n",
      " 9   year             18827 non-null  int64  \n",
      "dtypes: float64(4), int64(4), object(2)\n",
      "memory usage: 1.4+ MB\n"
     ]
    }
   ],
   "source": [
    "r98_P4S03_mahdi.info()"
   ]
  },
  {
   "cell_type": "code",
   "execution_count": 52,
   "metadata": {},
   "outputs": [
    {
     "name": "stdout",
     "output_type": "stream",
     "text": [
      "(18827, 10)\n",
      "(18827, 10)\n"
     ]
    }
   ],
   "source": [
    "print(r98_P4S03_mahdi.shape)\n",
    "test_duplicate = r98_P4S03_mahdi.drop_duplicates()\n",
    "print(test_duplicate.shape)"
   ]
  },
  {
   "cell_type": "code",
   "execution_count": 53,
   "metadata": {},
   "outputs": [
    {
     "data": {
      "text/html": [
       "<div>\n",
       "<style scoped>\n",
       "    .dataframe tbody tr th:only-of-type {\n",
       "        vertical-align: middle;\n",
       "    }\n",
       "\n",
       "    .dataframe tbody tr th {\n",
       "        vertical-align: top;\n",
       "    }\n",
       "\n",
       "    .dataframe thead th {\n",
       "        text-align: right;\n",
       "    }\n",
       "</style>\n",
       "<table border=\"1\" class=\"dataframe\">\n",
       "  <thead>\n",
       "    <tr style=\"text-align: right;\">\n",
       "      <th></th>\n",
       "      <th>Address</th>\n",
       "      <th>member</th>\n",
       "      <th>income_pension</th>\n",
       "      <th>income_rent</th>\n",
       "      <th>income_interest</th>\n",
       "      <th>income_aid</th>\n",
       "      <th>income_resale</th>\n",
       "      <th>income_transfer</th>\n",
       "      <th>Fasl</th>\n",
       "      <th>year</th>\n",
       "    </tr>\n",
       "  </thead>\n",
       "  <tbody>\n",
       "    <tr>\n",
       "      <th>0</th>\n",
       "      <td>20001385412</td>\n",
       "      <td>1</td>\n",
       "      <td>NaN</td>\n",
       "      <td>0024600000</td>\n",
       "      <td>NaN</td>\n",
       "      <td>NaN</td>\n",
       "      <td>NaN</td>\n",
       "      <td>NaN</td>\n",
       "      <td>1</td>\n",
       "      <td>98</td>\n",
       "    </tr>\n",
       "    <tr>\n",
       "      <th>1</th>\n",
       "      <td>20001385423</td>\n",
       "      <td>1</td>\n",
       "      <td>0154000000</td>\n",
       "      <td>NaN</td>\n",
       "      <td>NaN</td>\n",
       "      <td>NaN</td>\n",
       "      <td>NaN</td>\n",
       "      <td>NaN</td>\n",
       "      <td>1</td>\n",
       "      <td>98</td>\n",
       "    </tr>\n",
       "    <tr>\n",
       "      <th>2</th>\n",
       "      <td>20001385420</td>\n",
       "      <td>1</td>\n",
       "      <td>0130000000</td>\n",
       "      <td>NaN</td>\n",
       "      <td>NaN</td>\n",
       "      <td>NaN</td>\n",
       "      <td>NaN</td>\n",
       "      <td>NaN</td>\n",
       "      <td>1</td>\n",
       "      <td>98</td>\n",
       "    </tr>\n",
       "    <tr>\n",
       "      <th>3</th>\n",
       "      <td>20011395423</td>\n",
       "      <td>1</td>\n",
       "      <td>NaN</td>\n",
       "      <td>NaN</td>\n",
       "      <td>NaN</td>\n",
       "      <td>NaN</td>\n",
       "      <td>5000000.0</td>\n",
       "      <td>5000000.0</td>\n",
       "      <td>1</td>\n",
       "      <td>98</td>\n",
       "    </tr>\n",
       "    <tr>\n",
       "      <th>4</th>\n",
       "      <td>20011395416</td>\n",
       "      <td>1</td>\n",
       "      <td>NaN</td>\n",
       "      <td>0080000000</td>\n",
       "      <td>NaN</td>\n",
       "      <td>12000000.0</td>\n",
       "      <td>NaN</td>\n",
       "      <td>NaN</td>\n",
       "      <td>1</td>\n",
       "      <td>98</td>\n",
       "    </tr>\n",
       "  </tbody>\n",
       "</table>\n",
       "</div>"
      ],
      "text/plain": [
       "       Address  member income_pension income_rent  income_interest  \\\n",
       "0  20001385412       1            NaN  0024600000              NaN   \n",
       "1  20001385423       1     0154000000         NaN              NaN   \n",
       "2  20001385420       1     0130000000         NaN              NaN   \n",
       "3  20011395423       1            NaN         NaN              NaN   \n",
       "4  20011395416       1            NaN  0080000000              NaN   \n",
       "\n",
       "   income_aid  income_resale  income_transfer  Fasl  year  \n",
       "0         NaN            NaN              NaN     1    98  \n",
       "1         NaN            NaN              NaN     1    98  \n",
       "2         NaN            NaN              NaN     1    98  \n",
       "3         NaN      5000000.0        5000000.0     1    98  \n",
       "4  12000000.0            NaN              NaN     1    98  "
      ]
     },
     "execution_count": 53,
     "metadata": {},
     "output_type": "execute_result"
    }
   ],
   "source": [
    "r98_P4S03_mahdi.head()"
   ]
  },
  {
   "cell_type": "code",
   "execution_count": 54,
   "metadata": {},
   "outputs": [],
   "source": [
    "r98_P4S03_family_netincome = r98_P4S03_mahdi.copy()\n",
    "r98_P4S03_family_netincome['income_pension'] = pd.to_numeric(r98_P4S03_family_netincome['income_pension'], errors='coerce')\n",
    "r98_P4S03_family_netincome['income_rent'] = pd.to_numeric(r98_P4S03_family_netincome['income_rent'], errors='coerce')"
   ]
  },
  {
   "cell_type": "code",
   "execution_count": 55,
   "metadata": {},
   "outputs": [
    {
     "name": "stdout",
     "output_type": "stream",
     "text": [
      "<class 'pandas.core.frame.DataFrame'>\n",
      "RangeIndex: 18827 entries, 0 to 18826\n",
      "Data columns (total 10 columns):\n",
      " #   Column           Non-Null Count  Dtype  \n",
      "---  ------           --------------  -----  \n",
      " 0   Address          18827 non-null  int64  \n",
      " 1   member           18827 non-null  int64  \n",
      " 2   income_pension   6191 non-null   float64\n",
      " 3   income_rent      5488 non-null   float64\n",
      " 4   income_interest  13222 non-null  float64\n",
      " 5   income_aid       10355 non-null  float64\n",
      " 6   income_resale    4873 non-null   float64\n",
      " 7   income_transfer  8242 non-null   float64\n",
      " 8   Fasl             18827 non-null  int64  \n",
      " 9   year             18827 non-null  int64  \n",
      "dtypes: float64(6), int64(4)\n",
      "memory usage: 1.4 MB\n"
     ]
    }
   ],
   "source": [
    "r98_P4S03_family_netincome.info()"
   ]
  },
  {
   "cell_type": "code",
   "execution_count": 56,
   "metadata": {},
   "outputs": [
    {
     "data": {
      "text/html": [
       "<div>\n",
       "<style scoped>\n",
       "    .dataframe tbody tr th:only-of-type {\n",
       "        vertical-align: middle;\n",
       "    }\n",
       "\n",
       "    .dataframe tbody tr th {\n",
       "        vertical-align: top;\n",
       "    }\n",
       "\n",
       "    .dataframe thead th {\n",
       "        text-align: right;\n",
       "    }\n",
       "</style>\n",
       "<table border=\"1\" class=\"dataframe\">\n",
       "  <thead>\n",
       "    <tr style=\"text-align: right;\">\n",
       "      <th></th>\n",
       "      <th>Address</th>\n",
       "      <th>member</th>\n",
       "      <th>income_pension</th>\n",
       "      <th>income_rent</th>\n",
       "      <th>income_interest</th>\n",
       "      <th>income_aid</th>\n",
       "      <th>income_resale</th>\n",
       "      <th>income_transfer</th>\n",
       "      <th>Fasl</th>\n",
       "      <th>year</th>\n",
       "    </tr>\n",
       "  </thead>\n",
       "  <tbody>\n",
       "    <tr>\n",
       "      <th>0</th>\n",
       "      <td>20001385412</td>\n",
       "      <td>1</td>\n",
       "      <td>NaN</td>\n",
       "      <td>24600000.0</td>\n",
       "      <td>NaN</td>\n",
       "      <td>NaN</td>\n",
       "      <td>NaN</td>\n",
       "      <td>NaN</td>\n",
       "      <td>1</td>\n",
       "      <td>98</td>\n",
       "    </tr>\n",
       "    <tr>\n",
       "      <th>1</th>\n",
       "      <td>20001385423</td>\n",
       "      <td>1</td>\n",
       "      <td>154000000.0</td>\n",
       "      <td>NaN</td>\n",
       "      <td>NaN</td>\n",
       "      <td>NaN</td>\n",
       "      <td>NaN</td>\n",
       "      <td>NaN</td>\n",
       "      <td>1</td>\n",
       "      <td>98</td>\n",
       "    </tr>\n",
       "    <tr>\n",
       "      <th>2</th>\n",
       "      <td>20001385420</td>\n",
       "      <td>1</td>\n",
       "      <td>130000000.0</td>\n",
       "      <td>NaN</td>\n",
       "      <td>NaN</td>\n",
       "      <td>NaN</td>\n",
       "      <td>NaN</td>\n",
       "      <td>NaN</td>\n",
       "      <td>1</td>\n",
       "      <td>98</td>\n",
       "    </tr>\n",
       "    <tr>\n",
       "      <th>3</th>\n",
       "      <td>20011395423</td>\n",
       "      <td>1</td>\n",
       "      <td>NaN</td>\n",
       "      <td>NaN</td>\n",
       "      <td>NaN</td>\n",
       "      <td>NaN</td>\n",
       "      <td>5000000.0</td>\n",
       "      <td>5000000.0</td>\n",
       "      <td>1</td>\n",
       "      <td>98</td>\n",
       "    </tr>\n",
       "    <tr>\n",
       "      <th>4</th>\n",
       "      <td>20011395416</td>\n",
       "      <td>1</td>\n",
       "      <td>NaN</td>\n",
       "      <td>80000000.0</td>\n",
       "      <td>NaN</td>\n",
       "      <td>12000000.0</td>\n",
       "      <td>NaN</td>\n",
       "      <td>NaN</td>\n",
       "      <td>1</td>\n",
       "      <td>98</td>\n",
       "    </tr>\n",
       "  </tbody>\n",
       "</table>\n",
       "</div>"
      ],
      "text/plain": [
       "       Address  member  income_pension  income_rent  income_interest  \\\n",
       "0  20001385412       1             NaN   24600000.0              NaN   \n",
       "1  20001385423       1     154000000.0          NaN              NaN   \n",
       "2  20001385420       1     130000000.0          NaN              NaN   \n",
       "3  20011395423       1             NaN          NaN              NaN   \n",
       "4  20011395416       1             NaN   80000000.0              NaN   \n",
       "\n",
       "   income_aid  income_resale  income_transfer  Fasl  year  \n",
       "0         NaN            NaN              NaN     1    98  \n",
       "1         NaN            NaN              NaN     1    98  \n",
       "2         NaN            NaN              NaN     1    98  \n",
       "3         NaN      5000000.0        5000000.0     1    98  \n",
       "4  12000000.0            NaN              NaN     1    98  "
      ]
     },
     "execution_count": 56,
     "metadata": {},
     "output_type": "execute_result"
    }
   ],
   "source": [
    "r98_P4S03_family_netincome.head()"
   ]
  },
  {
   "cell_type": "code",
   "execution_count": 57,
   "metadata": {},
   "outputs": [
    {
     "data": {
      "text/html": [
       "<div>\n",
       "<style scoped>\n",
       "    .dataframe tbody tr th:only-of-type {\n",
       "        vertical-align: middle;\n",
       "    }\n",
       "\n",
       "    .dataframe tbody tr th {\n",
       "        vertical-align: top;\n",
       "    }\n",
       "\n",
       "    .dataframe thead th {\n",
       "        text-align: right;\n",
       "    }\n",
       "</style>\n",
       "<table border=\"1\" class=\"dataframe\">\n",
       "  <thead>\n",
       "    <tr style=\"text-align: right;\">\n",
       "      <th></th>\n",
       "      <th>Address</th>\n",
       "      <th>member</th>\n",
       "      <th>income_pension</th>\n",
       "      <th>income_rent</th>\n",
       "      <th>income_interest</th>\n",
       "      <th>income_aid</th>\n",
       "      <th>income_resale</th>\n",
       "      <th>income_transfer</th>\n",
       "      <th>Fasl</th>\n",
       "      <th>year</th>\n",
       "      <th>total_income</th>\n",
       "    </tr>\n",
       "  </thead>\n",
       "  <tbody>\n",
       "    <tr>\n",
       "      <th>0</th>\n",
       "      <td>20001385412</td>\n",
       "      <td>1</td>\n",
       "      <td>NaN</td>\n",
       "      <td>24600000.0</td>\n",
       "      <td>NaN</td>\n",
       "      <td>NaN</td>\n",
       "      <td>NaN</td>\n",
       "      <td>NaN</td>\n",
       "      <td>1</td>\n",
       "      <td>98</td>\n",
       "      <td>24600000.0</td>\n",
       "    </tr>\n",
       "    <tr>\n",
       "      <th>1</th>\n",
       "      <td>20001385423</td>\n",
       "      <td>1</td>\n",
       "      <td>154000000.0</td>\n",
       "      <td>NaN</td>\n",
       "      <td>NaN</td>\n",
       "      <td>NaN</td>\n",
       "      <td>NaN</td>\n",
       "      <td>NaN</td>\n",
       "      <td>1</td>\n",
       "      <td>98</td>\n",
       "      <td>154000000.0</td>\n",
       "    </tr>\n",
       "    <tr>\n",
       "      <th>2</th>\n",
       "      <td>20001385420</td>\n",
       "      <td>1</td>\n",
       "      <td>130000000.0</td>\n",
       "      <td>NaN</td>\n",
       "      <td>NaN</td>\n",
       "      <td>NaN</td>\n",
       "      <td>NaN</td>\n",
       "      <td>NaN</td>\n",
       "      <td>1</td>\n",
       "      <td>98</td>\n",
       "      <td>130000000.0</td>\n",
       "    </tr>\n",
       "    <tr>\n",
       "      <th>3</th>\n",
       "      <td>20011395423</td>\n",
       "      <td>1</td>\n",
       "      <td>NaN</td>\n",
       "      <td>NaN</td>\n",
       "      <td>NaN</td>\n",
       "      <td>NaN</td>\n",
       "      <td>5000000.0</td>\n",
       "      <td>5000000.0</td>\n",
       "      <td>1</td>\n",
       "      <td>98</td>\n",
       "      <td>10000000.0</td>\n",
       "    </tr>\n",
       "    <tr>\n",
       "      <th>4</th>\n",
       "      <td>20011395416</td>\n",
       "      <td>1</td>\n",
       "      <td>NaN</td>\n",
       "      <td>80000000.0</td>\n",
       "      <td>NaN</td>\n",
       "      <td>12000000.0</td>\n",
       "      <td>NaN</td>\n",
       "      <td>NaN</td>\n",
       "      <td>1</td>\n",
       "      <td>98</td>\n",
       "      <td>92000000.0</td>\n",
       "    </tr>\n",
       "  </tbody>\n",
       "</table>\n",
       "</div>"
      ],
      "text/plain": [
       "       Address  member  income_pension  income_rent  income_interest  \\\n",
       "0  20001385412       1             NaN   24600000.0              NaN   \n",
       "1  20001385423       1     154000000.0          NaN              NaN   \n",
       "2  20001385420       1     130000000.0          NaN              NaN   \n",
       "3  20011395423       1             NaN          NaN              NaN   \n",
       "4  20011395416       1             NaN   80000000.0              NaN   \n",
       "\n",
       "   income_aid  income_resale  income_transfer  Fasl  year  total_income  \n",
       "0         NaN            NaN              NaN     1    98    24600000.0  \n",
       "1         NaN            NaN              NaN     1    98   154000000.0  \n",
       "2         NaN            NaN              NaN     1    98   130000000.0  \n",
       "3         NaN      5000000.0        5000000.0     1    98    10000000.0  \n",
       "4  12000000.0            NaN              NaN     1    98    92000000.0  "
      ]
     },
     "execution_count": 57,
     "metadata": {},
     "output_type": "execute_result"
    }
   ],
   "source": [
    "r98_P4S03_family_netincome['total_income'] = (\n",
    "    r98_P4S03_family_netincome['income_pension'].fillna(0) +\n",
    "    r98_P4S03_family_netincome['income_rent'].fillna(0) +\n",
    "    r98_P4S03_family_netincome['income_interest'].fillna(0) +\n",
    "    r98_P4S03_family_netincome['income_aid'].fillna(0) +\n",
    "    r98_P4S03_family_netincome['income_resale'].fillna(0) +\n",
    "    r98_P4S03_family_netincome['income_transfer'].fillna(0)\n",
    ")\n",
    "r98_P4S03_family_netincome.head()"
   ]
  },
  {
   "cell_type": "code",
   "execution_count": 66,
   "metadata": {},
   "outputs": [
    {
     "data": {
      "text/plain": [
       "(18827, 11)"
      ]
     },
     "execution_count": 66,
     "metadata": {},
     "output_type": "execute_result"
    }
   ],
   "source": [
    "r98_P4S03_family_netincome.shape"
   ]
  },
  {
   "cell_type": "code",
   "execution_count": 67,
   "metadata": {},
   "outputs": [
    {
     "data": {
      "text/plain": [
       "(13563, 2)"
      ]
     },
     "execution_count": 67,
     "metadata": {},
     "output_type": "execute_result"
    }
   ],
   "source": [
    "r98_P4S03_family_netincome = r98_P4S03_family_netincome[['Address', 'total_income']]\n",
    "r98_P4S03_family_netincome = r98_P4S03_family_netincome.groupby('Address')['total_income'].sum().reset_index()\n",
    "r98_P4S03_family_netincome.shape"
   ]
  },
  {
   "cell_type": "code",
   "execution_count": 69,
   "metadata": {},
   "outputs": [
    {
     "name": "stdout",
     "output_type": "stream",
     "text": [
      "<class 'pandas.core.frame.DataFrame'>\n",
      "RangeIndex: 13563 entries, 0 to 13562\n",
      "Data columns (total 2 columns):\n",
      " #   Column        Non-Null Count  Dtype  \n",
      "---  ------        --------------  -----  \n",
      " 0   Address       13563 non-null  int64  \n",
      " 1   total_income  13563 non-null  float64\n",
      "dtypes: float64(1), int64(1)\n",
      "memory usage: 212.0 KB\n"
     ]
    }
   ],
   "source": [
    "r98_P4S03_family_netincome.info()"
   ]
  },
  {
   "cell_type": "markdown",
   "metadata": {},
   "source": [
    "# R98_P4S04"
   ]
  },
  {
   "cell_type": "code",
   "execution_count": 70,
   "metadata": {},
   "outputs": [
    {
     "name": "stdout",
     "output_type": "stream",
     "text": [
      "<class 'pandas.core.frame.DataFrame'>\n",
      "RangeIndex: 19610 entries, 0 to 19609\n",
      "Data columns (total 7 columns):\n",
      " #   Column          Non-Null Count  Dtype\n",
      "---  ------          --------------  -----\n",
      " 0   Address         19610 non-null  int64\n",
      " 1   member          19610 non-null  int64\n",
      " 2   subsidy_number  19610 non-null  int64\n",
      " 3   subsidy_month   19610 non-null  int64\n",
      " 4   subsidy         19610 non-null  int64\n",
      " 5   Fasl            19610 non-null  int64\n",
      " 6   year            19610 non-null  int64\n",
      "dtypes: int64(7)\n",
      "memory usage: 1.0 MB\n",
      "(19610, 7)\n"
     ]
    }
   ],
   "source": [
    "r98_P4S04_family_netincome = r98_P4S04_mahdi.copy()\n",
    "r98_P4S04_family_netincome.info()\n",
    "print(r98_P4S04_family_netincome.shape)"
   ]
  },
  {
   "cell_type": "code",
   "execution_count": 71,
   "metadata": {},
   "outputs": [
    {
     "data": {
      "text/plain": [
       "(17949, 2)"
      ]
     },
     "execution_count": 71,
     "metadata": {},
     "output_type": "execute_result"
    }
   ],
   "source": [
    "r98_P4S04_family_netincome = r98_P4S04_family_netincome[['Address', 'subsidy']]\n",
    "r98_P4S04_family_netincome = r98_P4S04_family_netincome.groupby('Address')['subsidy'].sum().reset_index()\n",
    "r98_P4S04_family_netincome.shape"
   ]
  },
  {
   "cell_type": "markdown",
   "metadata": {},
   "source": [
    "# net income sources"
   ]
  },
  {
   "cell_type": "code",
   "execution_count": 72,
   "metadata": {},
   "outputs": [
    {
     "name": "stdout",
     "output_type": "stream",
     "text": [
      "Index(['Address', 'netincome'], dtype='object')\n"
     ]
    }
   ],
   "source": [
    "r98_P4S01_family_netincome_column = r98_P4S01_family_netincome.rename(columns={'netincome_w_y': 'netincome'})\n",
    "r98_P4S02_family_netincome_column = r98_P4S02_family_netincome.rename(columns={'income_s_y': 'netincome'})\n",
    "r98_P4S03_family_netincome_column = r98_P4S03_family_netincome.rename(columns={'total_income': 'netincome'})\n",
    "r98_P4S04_family_netincome_column = r98_P4S04_family_netincome.rename(columns={'subsidy': 'netincome'})\n",
    "print(r98_P4S03_family_netincome_column.columns)\n",
    "# isna??"
   ]
  },
  {
   "cell_type": "code",
   "execution_count": 73,
   "metadata": {},
   "outputs": [],
   "source": [
    "merged_df_netincome = r98_P4S01_family_netincome_column.merge(r98_P4S02_family_netincome_column, on='Address', how='outer', suffixes=('_P4S01', '_P4S02'))\n",
    "\n",
    "r98_P4S03_family_netincome_column = r98_P4S03_family_netincome_column.rename(columns={'netincome': 'netincome_P4S03'})\n",
    "merged_df_netincome = merged_df_netincome.merge(r98_P4S03_family_netincome_column, on='Address', how='outer')\n",
    "\n",
    "r98_P4S04_family_netincome_column = r98_P4S04_family_netincome_column.rename(columns={'netincome': 'netincome_P4S04'})\n",
    "merged_df_netincome = merged_df_netincome.merge(r98_P4S04_family_netincome_column, on='Address', how='outer')\n",
    "\n",
    "\n",
    "merged_df_netincome = merged_df_netincome.fillna(0)\n",
    "merged_df_netincome.head()\n",
    "\n",
    "merged_df_netincome['total_netincome'] = (\n",
    "    merged_df_netincome['netincome_P4S01'] +\n",
    "    merged_df_netincome['netincome_P4S02'] +\n",
    "    merged_df_netincome['netincome_P4S03'] +\n",
    "    merged_df_netincome['netincome_P4S04']\n",
    ")"
   ]
  },
  {
   "cell_type": "code",
   "execution_count": 74,
   "metadata": {},
   "outputs": [
    {
     "data": {
      "text/plain": [
       "(18429, 6)"
      ]
     },
     "execution_count": 74,
     "metadata": {},
     "output_type": "execute_result"
    }
   ],
   "source": [
    "total_net_income = merged_df_netincome\n",
    "total_net_income.shape"
   ]
  },
  {
   "cell_type": "code",
   "execution_count": 75,
   "metadata": {},
   "outputs": [
    {
     "data": {
      "text/html": [
       "<div>\n",
       "<style scoped>\n",
       "    .dataframe tbody tr th:only-of-type {\n",
       "        vertical-align: middle;\n",
       "    }\n",
       "\n",
       "    .dataframe tbody tr th {\n",
       "        vertical-align: top;\n",
       "    }\n",
       "\n",
       "    .dataframe thead th {\n",
       "        text-align: right;\n",
       "    }\n",
       "</style>\n",
       "<table border=\"1\" class=\"dataframe\">\n",
       "  <thead>\n",
       "    <tr style=\"text-align: right;\">\n",
       "      <th></th>\n",
       "      <th>Address</th>\n",
       "      <th>netincome_P4S01</th>\n",
       "      <th>netincome_P4S02</th>\n",
       "      <th>netincome_P4S03</th>\n",
       "      <th>netincome_P4S04</th>\n",
       "      <th>total_netincome</th>\n",
       "    </tr>\n",
       "  </thead>\n",
       "  <tbody>\n",
       "    <tr>\n",
       "      <th>count</th>\n",
       "      <td>1.842900e+04</td>\n",
       "      <td>1.842900e+04</td>\n",
       "      <td>1.842900e+04</td>\n",
       "      <td>1.842900e+04</td>\n",
       "      <td>1.842900e+04</td>\n",
       "      <td>1.842900e+04</td>\n",
       "    </tr>\n",
       "    <tr>\n",
       "      <th>mean</th>\n",
       "      <td>2.146045e+10</td>\n",
       "      <td>7.998095e+07</td>\n",
       "      <td>9.078631e+07</td>\n",
       "      <td>4.796588e+07</td>\n",
       "      <td>1.860049e+07</td>\n",
       "      <td>2.373336e+08</td>\n",
       "    </tr>\n",
       "    <tr>\n",
       "      <th>std</th>\n",
       "      <td>9.080447e+08</td>\n",
       "      <td>1.286890e+08</td>\n",
       "      <td>1.884150e+08</td>\n",
       "      <td>1.033560e+08</td>\n",
       "      <td>8.873931e+06</td>\n",
       "      <td>2.179380e+08</td>\n",
       "    </tr>\n",
       "    <tr>\n",
       "      <th>min</th>\n",
       "      <td>2.000138e+10</td>\n",
       "      <td>0.000000e+00</td>\n",
       "      <td>-5.928000e+08</td>\n",
       "      <td>0.000000e+00</td>\n",
       "      <td>0.000000e+00</td>\n",
       "      <td>-5.640000e+08</td>\n",
       "    </tr>\n",
       "    <tr>\n",
       "      <th>25%</th>\n",
       "      <td>2.070447e+10</td>\n",
       "      <td>0.000000e+00</td>\n",
       "      <td>0.000000e+00</td>\n",
       "      <td>0.000000e+00</td>\n",
       "      <td>1.092000e+07</td>\n",
       "      <td>1.093000e+08</td>\n",
       "    </tr>\n",
       "    <tr>\n",
       "      <th>50%</th>\n",
       "      <td>2.140455e+10</td>\n",
       "      <td>0.000000e+00</td>\n",
       "      <td>0.000000e+00</td>\n",
       "      <td>6.150000e+06</td>\n",
       "      <td>1.638000e+07</td>\n",
       "      <td>1.954600e+08</td>\n",
       "    </tr>\n",
       "    <tr>\n",
       "      <th>75%</th>\n",
       "      <td>2.221063e+10</td>\n",
       "      <td>1.350000e+08</td>\n",
       "      <td>1.300000e+08</td>\n",
       "      <td>4.563000e+07</td>\n",
       "      <td>2.184000e+07</td>\n",
       "      <td>3.053800e+08</td>\n",
       "    </tr>\n",
       "    <tr>\n",
       "      <th>max</th>\n",
       "      <td>2.300671e+10</td>\n",
       "      <td>2.554000e+09</td>\n",
       "      <td>4.680000e+09</td>\n",
       "      <td>5.000000e+09</td>\n",
       "      <td>1.092000e+08</td>\n",
       "      <td>5.010920e+09</td>\n",
       "    </tr>\n",
       "  </tbody>\n",
       "</table>\n",
       "</div>"
      ],
      "text/plain": [
       "            Address  netincome_P4S01  netincome_P4S02  netincome_P4S03  \\\n",
       "count  1.842900e+04     1.842900e+04     1.842900e+04     1.842900e+04   \n",
       "mean   2.146045e+10     7.998095e+07     9.078631e+07     4.796588e+07   \n",
       "std    9.080447e+08     1.286890e+08     1.884150e+08     1.033560e+08   \n",
       "min    2.000138e+10     0.000000e+00    -5.928000e+08     0.000000e+00   \n",
       "25%    2.070447e+10     0.000000e+00     0.000000e+00     0.000000e+00   \n",
       "50%    2.140455e+10     0.000000e+00     0.000000e+00     6.150000e+06   \n",
       "75%    2.221063e+10     1.350000e+08     1.300000e+08     4.563000e+07   \n",
       "max    2.300671e+10     2.554000e+09     4.680000e+09     5.000000e+09   \n",
       "\n",
       "       netincome_P4S04  total_netincome  \n",
       "count     1.842900e+04     1.842900e+04  \n",
       "mean      1.860049e+07     2.373336e+08  \n",
       "std       8.873931e+06     2.179380e+08  \n",
       "min       0.000000e+00    -5.640000e+08  \n",
       "25%       1.092000e+07     1.093000e+08  \n",
       "50%       1.638000e+07     1.954600e+08  \n",
       "75%       2.184000e+07     3.053800e+08  \n",
       "max       1.092000e+08     5.010920e+09  "
      ]
     },
     "execution_count": 75,
     "metadata": {},
     "output_type": "execute_result"
    }
   ],
   "source": [
    "total_net_income.describe()"
   ]
  },
  {
   "cell_type": "code",
   "execution_count": 76,
   "metadata": {},
   "outputs": [
    {
     "name": "stdout",
     "output_type": "stream",
     "text": [
      "<class 'pandas.core.frame.DataFrame'>\n",
      "RangeIndex: 18429 entries, 0 to 18428\n",
      "Data columns (total 6 columns):\n",
      " #   Column           Non-Null Count  Dtype  \n",
      "---  ------           --------------  -----  \n",
      " 0   Address          18429 non-null  int64  \n",
      " 1   netincome_P4S01  18429 non-null  float64\n",
      " 2   netincome_P4S02  18429 non-null  float64\n",
      " 3   netincome_P4S03  18429 non-null  float64\n",
      " 4   netincome_P4S04  18429 non-null  float64\n",
      " 5   total_netincome  18429 non-null  float64\n",
      "dtypes: float64(5), int64(1)\n",
      "memory usage: 864.0 KB\n"
     ]
    }
   ],
   "source": [
    "total_net_income.info()"
   ]
  },
  {
   "cell_type": "code",
   "execution_count": 77,
   "metadata": {},
   "outputs": [
    {
     "data": {
      "text/html": [
       "<div>\n",
       "<style scoped>\n",
       "    .dataframe tbody tr th:only-of-type {\n",
       "        vertical-align: middle;\n",
       "    }\n",
       "\n",
       "    .dataframe tbody tr th {\n",
       "        vertical-align: top;\n",
       "    }\n",
       "\n",
       "    .dataframe thead th {\n",
       "        text-align: right;\n",
       "    }\n",
       "</style>\n",
       "<table border=\"1\" class=\"dataframe\">\n",
       "  <thead>\n",
       "    <tr style=\"text-align: right;\">\n",
       "      <th></th>\n",
       "      <th>Address</th>\n",
       "      <th>netincome_P4S01</th>\n",
       "      <th>netincome_P4S02</th>\n",
       "      <th>netincome_P4S03</th>\n",
       "      <th>netincome_P4S04</th>\n",
       "      <th>total_netincome</th>\n",
       "    </tr>\n",
       "  </thead>\n",
       "  <tbody>\n",
       "    <tr>\n",
       "      <th>0</th>\n",
       "      <td>20001383916</td>\n",
       "      <td>236360008.0</td>\n",
       "      <td>0.0</td>\n",
       "      <td>0.0</td>\n",
       "      <td>21840000.0</td>\n",
       "      <td>258200008.0</td>\n",
       "    </tr>\n",
       "    <tr>\n",
       "      <th>1</th>\n",
       "      <td>20001383920</td>\n",
       "      <td>216000000.0</td>\n",
       "      <td>0.0</td>\n",
       "      <td>0.0</td>\n",
       "      <td>27300000.0</td>\n",
       "      <td>243300000.0</td>\n",
       "    </tr>\n",
       "    <tr>\n",
       "      <th>2</th>\n",
       "      <td>20001383923</td>\n",
       "      <td>372000000.0</td>\n",
       "      <td>0.0</td>\n",
       "      <td>0.0</td>\n",
       "      <td>21840000.0</td>\n",
       "      <td>393840000.0</td>\n",
       "    </tr>\n",
       "    <tr>\n",
       "      <th>3</th>\n",
       "      <td>20001384011</td>\n",
       "      <td>120000000.0</td>\n",
       "      <td>0.0</td>\n",
       "      <td>0.0</td>\n",
       "      <td>16380000.0</td>\n",
       "      <td>136380000.0</td>\n",
       "    </tr>\n",
       "    <tr>\n",
       "      <th>4</th>\n",
       "      <td>20001384015</td>\n",
       "      <td>55000000.0</td>\n",
       "      <td>0.0</td>\n",
       "      <td>5000000.0</td>\n",
       "      <td>21840000.0</td>\n",
       "      <td>81840000.0</td>\n",
       "    </tr>\n",
       "  </tbody>\n",
       "</table>\n",
       "</div>"
      ],
      "text/plain": [
       "       Address  netincome_P4S01  netincome_P4S02  netincome_P4S03  \\\n",
       "0  20001383916      236360008.0              0.0              0.0   \n",
       "1  20001383920      216000000.0              0.0              0.0   \n",
       "2  20001383923      372000000.0              0.0              0.0   \n",
       "3  20001384011      120000000.0              0.0              0.0   \n",
       "4  20001384015       55000000.0              0.0        5000000.0   \n",
       "\n",
       "   netincome_P4S04  total_netincome  \n",
       "0       21840000.0      258200008.0  \n",
       "1       27300000.0      243300000.0  \n",
       "2       21840000.0      393840000.0  \n",
       "3       16380000.0      136380000.0  \n",
       "4       21840000.0       81840000.0  "
      ]
     },
     "execution_count": 77,
     "metadata": {},
     "output_type": "execute_result"
    }
   ],
   "source": [
    "total_net_income.head()"
   ]
  },
  {
   "cell_type": "code",
   "execution_count": null,
   "metadata": {},
   "outputs": [],
   "source": [
    "# agriculture in urban?"
   ]
  },
  {
   "cell_type": "code",
   "execution_count": 79,
   "metadata": {},
   "outputs": [],
   "source": [
    "r98_data = r98['R98Data']"
   ]
  },
  {
   "cell_type": "code",
   "execution_count": 80,
   "metadata": {},
   "outputs": [
    {
     "data": {
      "text/html": [
       "<div>\n",
       "<style scoped>\n",
       "    .dataframe tbody tr th:only-of-type {\n",
       "        vertical-align: middle;\n",
       "    }\n",
       "\n",
       "    .dataframe tbody tr th {\n",
       "        vertical-align: top;\n",
       "    }\n",
       "\n",
       "    .dataframe thead th {\n",
       "        text-align: right;\n",
       "    }\n",
       "</style>\n",
       "<table border=\"1\" class=\"dataframe\">\n",
       "  <thead>\n",
       "    <tr style=\"text-align: right;\">\n",
       "      <th></th>\n",
       "      <th>Address</th>\n",
       "      <th>Fasl</th>\n",
       "      <th>weight</th>\n",
       "      <th>khanevartype</th>\n",
       "      <th>town</th>\n",
       "    </tr>\n",
       "  </thead>\n",
       "  <tbody>\n",
       "    <tr>\n",
       "      <th>count</th>\n",
       "      <td>1.843000e+04</td>\n",
       "      <td>18430.000000</td>\n",
       "      <td>18430.000000</td>\n",
       "      <td>18430.000000</td>\n",
       "      <td>18430.000000</td>\n",
       "    </tr>\n",
       "    <tr>\n",
       "      <th>mean</th>\n",
       "      <td>2.146043e+10</td>\n",
       "      <td>2.477428</td>\n",
       "      <td>331.818882</td>\n",
       "      <td>1.000488</td>\n",
       "      <td>7.689202</td>\n",
       "    </tr>\n",
       "    <tr>\n",
       "      <th>std</th>\n",
       "      <td>9.080236e+08</td>\n",
       "      <td>1.110434</td>\n",
       "      <td>263.327494</td>\n",
       "      <td>0.022093</td>\n",
       "      <td>6.419986</td>\n",
       "    </tr>\n",
       "    <tr>\n",
       "      <th>min</th>\n",
       "      <td>2.000138e+10</td>\n",
       "      <td>1.000000</td>\n",
       "      <td>41.022802</td>\n",
       "      <td>1.000000</td>\n",
       "      <td>1.000000</td>\n",
       "    </tr>\n",
       "    <tr>\n",
       "      <th>25%</th>\n",
       "      <td>2.070447e+10</td>\n",
       "      <td>1.000000</td>\n",
       "      <td>142.816582</td>\n",
       "      <td>1.000000</td>\n",
       "      <td>3.000000</td>\n",
       "    </tr>\n",
       "    <tr>\n",
       "      <th>50%</th>\n",
       "      <td>2.140455e+10</td>\n",
       "      <td>2.000000</td>\n",
       "      <td>275.868953</td>\n",
       "      <td>1.000000</td>\n",
       "      <td>6.000000</td>\n",
       "    </tr>\n",
       "    <tr>\n",
       "      <th>75%</th>\n",
       "      <td>2.221063e+10</td>\n",
       "      <td>3.000000</td>\n",
       "      <td>446.379846</td>\n",
       "      <td>1.000000</td>\n",
       "      <td>10.000000</td>\n",
       "    </tr>\n",
       "    <tr>\n",
       "      <th>max</th>\n",
       "      <td>2.300671e+10</td>\n",
       "      <td>4.000000</td>\n",
       "      <td>5254.802639</td>\n",
       "      <td>2.000000</td>\n",
       "      <td>39.000000</td>\n",
       "    </tr>\n",
       "  </tbody>\n",
       "</table>\n",
       "</div>"
      ],
      "text/plain": [
       "            Address          Fasl        weight  khanevartype          town\n",
       "count  1.843000e+04  18430.000000  18430.000000  18430.000000  18430.000000\n",
       "mean   2.146043e+10      2.477428    331.818882      1.000488      7.689202\n",
       "std    9.080236e+08      1.110434    263.327494      0.022093      6.419986\n",
       "min    2.000138e+10      1.000000     41.022802      1.000000      1.000000\n",
       "25%    2.070447e+10      1.000000    142.816582      1.000000      3.000000\n",
       "50%    2.140455e+10      2.000000    275.868953      1.000000      6.000000\n",
       "75%    2.221063e+10      3.000000    446.379846      1.000000     10.000000\n",
       "max    2.300671e+10      4.000000   5254.802639      2.000000     39.000000"
      ]
     },
     "execution_count": 80,
     "metadata": {},
     "output_type": "execute_result"
    }
   ],
   "source": [
    "r98_data.describe()"
   ]
  },
  {
   "cell_type": "code",
   "execution_count": 81,
   "metadata": {},
   "outputs": [
    {
     "name": "stdout",
     "output_type": "stream",
     "text": [
      "<class 'pandas.core.frame.DataFrame'>\n",
      "RangeIndex: 18430 entries, 0 to 18429\n",
      "Data columns (total 6 columns):\n",
      " #   Column        Non-Null Count  Dtype  \n",
      "---  ------        --------------  -----  \n",
      " 0   Address       18430 non-null  int64  \n",
      " 1   Fasl          18430 non-null  int64  \n",
      " 2   weight        18430 non-null  float64\n",
      " 3   khanevartype  18430 non-null  int64  \n",
      " 4   province      18430 non-null  object \n",
      " 5   town          18430 non-null  int64  \n",
      "dtypes: float64(1), int64(4), object(1)\n",
      "memory usage: 864.0+ KB\n"
     ]
    }
   ],
   "source": [
    "r98_data.info()"
   ]
  },
  {
   "cell_type": "code",
   "execution_count": 82,
   "metadata": {},
   "outputs": [
    {
     "data": {
      "text/html": [
       "<div>\n",
       "<style scoped>\n",
       "    .dataframe tbody tr th:only-of-type {\n",
       "        vertical-align: middle;\n",
       "    }\n",
       "\n",
       "    .dataframe tbody tr th {\n",
       "        vertical-align: top;\n",
       "    }\n",
       "\n",
       "    .dataframe thead th {\n",
       "        text-align: right;\n",
       "    }\n",
       "</style>\n",
       "<table border=\"1\" class=\"dataframe\">\n",
       "  <thead>\n",
       "    <tr style=\"text-align: right;\">\n",
       "      <th></th>\n",
       "      <th>Address</th>\n",
       "      <th>Fasl</th>\n",
       "      <th>weight</th>\n",
       "      <th>khanevartype</th>\n",
       "      <th>province</th>\n",
       "      <th>town</th>\n",
       "    </tr>\n",
       "  </thead>\n",
       "  <tbody>\n",
       "    <tr>\n",
       "      <th>0</th>\n",
       "      <td>20001383908</td>\n",
       "      <td>2</td>\n",
       "      <td>171.199524</td>\n",
       "      <td>1</td>\n",
       "      <td>Markazi</td>\n",
       "      <td>1</td>\n",
       "    </tr>\n",
       "    <tr>\n",
       "      <th>1</th>\n",
       "      <td>20001383911</td>\n",
       "      <td>2</td>\n",
       "      <td>171.199524</td>\n",
       "      <td>1</td>\n",
       "      <td>Markazi</td>\n",
       "      <td>1</td>\n",
       "    </tr>\n",
       "    <tr>\n",
       "      <th>2</th>\n",
       "      <td>20001383915</td>\n",
       "      <td>2</td>\n",
       "      <td>171.199524</td>\n",
       "      <td>1</td>\n",
       "      <td>Markazi</td>\n",
       "      <td>1</td>\n",
       "    </tr>\n",
       "    <tr>\n",
       "      <th>3</th>\n",
       "      <td>20001383916</td>\n",
       "      <td>2</td>\n",
       "      <td>171.199524</td>\n",
       "      <td>1</td>\n",
       "      <td>Markazi</td>\n",
       "      <td>1</td>\n",
       "    </tr>\n",
       "    <tr>\n",
       "      <th>4</th>\n",
       "      <td>20001383920</td>\n",
       "      <td>2</td>\n",
       "      <td>171.199524</td>\n",
       "      <td>1</td>\n",
       "      <td>Markazi</td>\n",
       "      <td>1</td>\n",
       "    </tr>\n",
       "  </tbody>\n",
       "</table>\n",
       "</div>"
      ],
      "text/plain": [
       "       Address  Fasl      weight  khanevartype province  town\n",
       "0  20001383908     2  171.199524             1  Markazi     1\n",
       "1  20001383911     2  171.199524             1  Markazi     1\n",
       "2  20001383915     2  171.199524             1  Markazi     1\n",
       "3  20001383916     2  171.199524             1  Markazi     1\n",
       "4  20001383920     2  171.199524             1  Markazi     1"
      ]
     },
     "execution_count": 82,
     "metadata": {},
     "output_type": "execute_result"
    }
   ],
   "source": [
    "r98_data.head()"
   ]
  },
  {
   "cell_type": "code",
   "execution_count": 83,
   "metadata": {},
   "outputs": [],
   "source": [
    "total_income_province = r98_data.merge(total_net_income, on='Address', how='left')"
   ]
  },
  {
   "cell_type": "code",
   "execution_count": 84,
   "metadata": {},
   "outputs": [
    {
     "name": "stdout",
     "output_type": "stream",
     "text": [
      "<class 'pandas.core.frame.DataFrame'>\n",
      "RangeIndex: 18430 entries, 0 to 18429\n",
      "Data columns (total 11 columns):\n",
      " #   Column           Non-Null Count  Dtype  \n",
      "---  ------           --------------  -----  \n",
      " 0   Address          18430 non-null  int64  \n",
      " 1   Fasl             18430 non-null  int64  \n",
      " 2   weight           18430 non-null  float64\n",
      " 3   khanevartype     18430 non-null  int64  \n",
      " 4   province         18430 non-null  object \n",
      " 5   town             18430 non-null  int64  \n",
      " 6   netincome_P4S01  18429 non-null  float64\n",
      " 7   netincome_P4S02  18429 non-null  float64\n",
      " 8   netincome_P4S03  18429 non-null  float64\n",
      " 9   netincome_P4S04  18429 non-null  float64\n",
      " 10  total_netincome  18429 non-null  float64\n",
      "dtypes: float64(6), int64(4), object(1)\n",
      "memory usage: 1.5+ MB\n"
     ]
    }
   ],
   "source": [
    "total_income_province.info()"
   ]
  },
  {
   "cell_type": "code",
   "execution_count": 85,
   "metadata": {},
   "outputs": [
    {
     "name": "stdout",
     "output_type": "stream",
     "text": [
      "['Markazi' 'Gilan' 'Mazandaran' 'AzarbaijanSharghi' 'AzarbaijanGharbi'\n",
      " 'Kermanshah' 'Kouzestan' 'Fars' 'Kerman' 'KhorasanRazavi' 'Esfahan'\n",
      " 'SistanBalouchestan' 'Kordestan' 'Hamedan' 'CharmahalBakhtiari'\n",
      " 'Lorestan' 'Ilam' 'KohkilouyeBoyerahamad' 'Boushehr' 'Zanjan' 'Semnan'\n",
      " 'Yazd' 'Hormozgan' 'Tehran' 'Ardebil' 'Qom' 'Qazvin' 'Golestan'\n",
      " 'KhorasanShomali' 'KhorasanJonoubi' 'Alborz']\n"
     ]
    }
   ],
   "source": [
    "total_income_province.head()\n",
    "unique_provinces = total_income_province['province'].unique()\n",
    "print(unique_provinces)"
   ]
  },
  {
   "cell_type": "code",
   "execution_count": 87,
   "metadata": {},
   "outputs": [
    {
     "name": "stdout",
     "output_type": "stream",
     "text": [
      "474\n",
      "Empty DataFrame\n",
      "Columns: [Address, Fasl, weight, khanevartype, province, town, netincome_P4S01, netincome_P4S02, netincome_P4S03, netincome_P4S04, total_netincome]\n",
      "Index: []\n"
     ]
    }
   ],
   "source": [
    "rural_chaharmahal_data = total_income_province[total_income_province['province']=='CharmahalBakhtiari']\n",
    "rural_chaharmahal_data.head()\n",
    "print(len(rural_chaharmahal_data))\n",
    "nan_netincome_rows = rural_chaharmahal_data[rural_chaharmahal_data['total_netincome'].isna()]\n",
    "print(nan_netincome_rows)"
   ]
  },
  {
   "cell_type": "markdown",
   "metadata": {},
   "source": [
    "# R98-CharmahalBakhtiari"
   ]
  },
  {
   "cell_type": "code",
   "execution_count": 88,
   "metadata": {},
   "outputs": [
    {
     "data": {
      "text/html": [
       "<div>\n",
       "<style scoped>\n",
       "    .dataframe tbody tr th:only-of-type {\n",
       "        vertical-align: middle;\n",
       "    }\n",
       "\n",
       "    .dataframe tbody tr th {\n",
       "        vertical-align: top;\n",
       "    }\n",
       "\n",
       "    .dataframe thead th {\n",
       "        text-align: right;\n",
       "    }\n",
       "</style>\n",
       "<table border=\"1\" class=\"dataframe\">\n",
       "  <thead>\n",
       "    <tr style=\"text-align: right;\">\n",
       "      <th></th>\n",
       "      <th>Address</th>\n",
       "      <th>Fasl</th>\n",
       "      <th>weight</th>\n",
       "      <th>khanevartype</th>\n",
       "      <th>province</th>\n",
       "      <th>town</th>\n",
       "      <th>netincome_P4S01</th>\n",
       "      <th>netincome_P4S02</th>\n",
       "      <th>netincome_P4S03</th>\n",
       "      <th>netincome_P4S04</th>\n",
       "      <th>total_netincome</th>\n",
       "    </tr>\n",
       "  </thead>\n",
       "  <tbody>\n",
       "    <tr>\n",
       "      <th>8972</th>\n",
       "      <td>21401545208</td>\n",
       "      <td>2</td>\n",
       "      <td>132.659492</td>\n",
       "      <td>1</td>\n",
       "      <td>CharmahalBakhtiari</td>\n",
       "      <td>1</td>\n",
       "      <td>144000000.0</td>\n",
       "      <td>0.0</td>\n",
       "      <td>2040000.0</td>\n",
       "      <td>16380000.0</td>\n",
       "      <td>162420000.0</td>\n",
       "    </tr>\n",
       "    <tr>\n",
       "      <th>8973</th>\n",
       "      <td>21401545211</td>\n",
       "      <td>2</td>\n",
       "      <td>132.659492</td>\n",
       "      <td>1</td>\n",
       "      <td>CharmahalBakhtiari</td>\n",
       "      <td>1</td>\n",
       "      <td>0.0</td>\n",
       "      <td>288250000.0</td>\n",
       "      <td>1560000.0</td>\n",
       "      <td>16380000.0</td>\n",
       "      <td>306190000.0</td>\n",
       "    </tr>\n",
       "    <tr>\n",
       "      <th>8974</th>\n",
       "      <td>21401545214</td>\n",
       "      <td>2</td>\n",
       "      <td>132.659492</td>\n",
       "      <td>1</td>\n",
       "      <td>CharmahalBakhtiari</td>\n",
       "      <td>1</td>\n",
       "      <td>0.0</td>\n",
       "      <td>0.0</td>\n",
       "      <td>50000000.0</td>\n",
       "      <td>10920000.0</td>\n",
       "      <td>60920000.0</td>\n",
       "    </tr>\n",
       "    <tr>\n",
       "      <th>8975</th>\n",
       "      <td>21401545217</td>\n",
       "      <td>2</td>\n",
       "      <td>132.659492</td>\n",
       "      <td>1</td>\n",
       "      <td>CharmahalBakhtiari</td>\n",
       "      <td>1</td>\n",
       "      <td>0.0</td>\n",
       "      <td>0.0</td>\n",
       "      <td>22660000.0</td>\n",
       "      <td>5460000.0</td>\n",
       "      <td>28120000.0</td>\n",
       "    </tr>\n",
       "    <tr>\n",
       "      <th>8976</th>\n",
       "      <td>21401545220</td>\n",
       "      <td>2</td>\n",
       "      <td>132.659492</td>\n",
       "      <td>1</td>\n",
       "      <td>CharmahalBakhtiari</td>\n",
       "      <td>1</td>\n",
       "      <td>0.0</td>\n",
       "      <td>0.0</td>\n",
       "      <td>33540000.0</td>\n",
       "      <td>5460000.0</td>\n",
       "      <td>39000000.0</td>\n",
       "    </tr>\n",
       "  </tbody>\n",
       "</table>\n",
       "</div>"
      ],
      "text/plain": [
       "          Address  Fasl      weight  khanevartype            province  town  \\\n",
       "8972  21401545208     2  132.659492             1  CharmahalBakhtiari     1   \n",
       "8973  21401545211     2  132.659492             1  CharmahalBakhtiari     1   \n",
       "8974  21401545214     2  132.659492             1  CharmahalBakhtiari     1   \n",
       "8975  21401545217     2  132.659492             1  CharmahalBakhtiari     1   \n",
       "8976  21401545220     2  132.659492             1  CharmahalBakhtiari     1   \n",
       "\n",
       "      netincome_P4S01  netincome_P4S02  netincome_P4S03  netincome_P4S04  \\\n",
       "8972      144000000.0              0.0        2040000.0       16380000.0   \n",
       "8973              0.0      288250000.0        1560000.0       16380000.0   \n",
       "8974              0.0              0.0       50000000.0       10920000.0   \n",
       "8975              0.0              0.0       22660000.0        5460000.0   \n",
       "8976              0.0              0.0       33540000.0        5460000.0   \n",
       "\n",
       "      total_netincome  \n",
       "8972      162420000.0  \n",
       "8973      306190000.0  \n",
       "8974       60920000.0  \n",
       "8975       28120000.0  \n",
       "8976       39000000.0  "
      ]
     },
     "execution_count": 88,
     "metadata": {},
     "output_type": "execute_result"
    }
   ],
   "source": [
    "rural_chaharmahal_data.head()"
   ]
  },
  {
   "cell_type": "code",
   "execution_count": null,
   "metadata": {},
   "outputs": [],
   "source": []
  }
 ],
 "metadata": {
  "kernelspec": {
   "display_name": "Python 3.9.19 ('quera_ai')",
   "language": "python",
   "name": "python3"
  },
  "language_info": {
   "codemirror_mode": {
    "name": "ipython",
    "version": 3
   },
   "file_extension": ".py",
   "mimetype": "text/x-python",
   "name": "python",
   "nbconvert_exporter": "python",
   "pygments_lexer": "ipython3",
   "version": "3.9.19"
  },
  "vscode": {
   "interpreter": {
    "hash": "d0226467e6da5f16dda3e9d08782ad4ee7ab98f740b8eb970f37be0a5c5e7c34"
   }
  }
 },
 "nbformat": 4,
 "nbformat_minor": 2
}
